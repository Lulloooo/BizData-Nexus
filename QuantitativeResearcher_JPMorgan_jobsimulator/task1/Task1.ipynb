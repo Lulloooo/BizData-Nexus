{
 "cells": [
  {
   "cell_type": "markdown",
   "metadata": {},
   "source": [
    "Step1. Import the necessary packages"
   ]
  },
  {
   "cell_type": "code",
   "execution_count": 2,
   "metadata": {},
   "outputs": [
    {
     "name": "stderr",
     "output_type": "stream",
     "text": [
      "/Users/lucaalbertini/Desktop/JPMorgan_Job/JPmorgvenv/lib/python3.12/site-packages/tqdm/auto.py:21: TqdmWarning: IProgress not found. Please update jupyter and ipywidgets. See https://ipywidgets.readthedocs.io/en/stable/user_install.html\n",
      "  from .autonotebook import tqdm as notebook_tqdm\n"
     ]
    }
   ],
   "source": [
    "import pandas as pd\n",
    "import numpy as np\n",
    "import matplotlib\n",
    "import matplotlib.pyplot as plt\n",
    "from statsmodels.tsa.stattools import adfuller\n",
    "from statsmodels.graphics.tsaplots import plot_acf, plot_pacf\n",
    "import statsmodels.api as sm\n",
    "import itertools\n",
    "from sklearn import metrics\n",
    "from sklearn.metrics import mean_absolute_error, mean_squared_error, r2_score\n",
    "import plotly.graph_objects as go\n",
    "from prophet import Prophet\n",
    "from prophet.plot import plot_plotly, plot_components_plotly"
   ]
  },
  {
   "cell_type": "markdown",
   "metadata": {},
   "source": [
    "Step2. Load and Display the data from the Nat_Gas.csv"
   ]
  },
  {
   "cell_type": "code",
   "execution_count": 3,
   "metadata": {},
   "outputs": [
    {
     "data": {
      "text/html": [
       "<div>\n",
       "<style scoped>\n",
       "    .dataframe tbody tr th:only-of-type {\n",
       "        vertical-align: middle;\n",
       "    }\n",
       "\n",
       "    .dataframe tbody tr th {\n",
       "        vertical-align: top;\n",
       "    }\n",
       "\n",
       "    .dataframe thead th {\n",
       "        text-align: right;\n",
       "    }\n",
       "</style>\n",
       "<table border=\"1\" class=\"dataframe\">\n",
       "  <thead>\n",
       "    <tr style=\"text-align: right;\">\n",
       "      <th></th>\n",
       "      <th>Dates</th>\n",
       "      <th>Prices</th>\n",
       "    </tr>\n",
       "  </thead>\n",
       "  <tbody>\n",
       "    <tr>\n",
       "      <th>0</th>\n",
       "      <td>10/31/20</td>\n",
       "      <td>10.10</td>\n",
       "    </tr>\n",
       "    <tr>\n",
       "      <th>1</th>\n",
       "      <td>11/30/20</td>\n",
       "      <td>10.30</td>\n",
       "    </tr>\n",
       "    <tr>\n",
       "      <th>2</th>\n",
       "      <td>12/31/20</td>\n",
       "      <td>11.00</td>\n",
       "    </tr>\n",
       "    <tr>\n",
       "      <th>3</th>\n",
       "      <td>1/31/21</td>\n",
       "      <td>10.90</td>\n",
       "    </tr>\n",
       "    <tr>\n",
       "      <th>4</th>\n",
       "      <td>2/28/21</td>\n",
       "      <td>10.90</td>\n",
       "    </tr>\n",
       "    <tr>\n",
       "      <th>5</th>\n",
       "      <td>3/31/21</td>\n",
       "      <td>10.90</td>\n",
       "    </tr>\n",
       "    <tr>\n",
       "      <th>6</th>\n",
       "      <td>4/30/21</td>\n",
       "      <td>10.40</td>\n",
       "    </tr>\n",
       "    <tr>\n",
       "      <th>7</th>\n",
       "      <td>5/31/21</td>\n",
       "      <td>9.84</td>\n",
       "    </tr>\n",
       "    <tr>\n",
       "      <th>8</th>\n",
       "      <td>6/30/21</td>\n",
       "      <td>10.00</td>\n",
       "    </tr>\n",
       "    <tr>\n",
       "      <th>9</th>\n",
       "      <td>7/31/21</td>\n",
       "      <td>10.10</td>\n",
       "    </tr>\n",
       "    <tr>\n",
       "      <th>10</th>\n",
       "      <td>8/31/21</td>\n",
       "      <td>10.30</td>\n",
       "    </tr>\n",
       "    <tr>\n",
       "      <th>11</th>\n",
       "      <td>9/30/21</td>\n",
       "      <td>10.20</td>\n",
       "    </tr>\n",
       "    <tr>\n",
       "      <th>12</th>\n",
       "      <td>10/31/21</td>\n",
       "      <td>10.10</td>\n",
       "    </tr>\n",
       "    <tr>\n",
       "      <th>13</th>\n",
       "      <td>11/30/21</td>\n",
       "      <td>11.20</td>\n",
       "    </tr>\n",
       "    <tr>\n",
       "      <th>14</th>\n",
       "      <td>12/31/21</td>\n",
       "      <td>11.40</td>\n",
       "    </tr>\n",
       "    <tr>\n",
       "      <th>15</th>\n",
       "      <td>1/31/22</td>\n",
       "      <td>11.50</td>\n",
       "    </tr>\n",
       "    <tr>\n",
       "      <th>16</th>\n",
       "      <td>2/28/22</td>\n",
       "      <td>11.80</td>\n",
       "    </tr>\n",
       "    <tr>\n",
       "      <th>17</th>\n",
       "      <td>3/31/22</td>\n",
       "      <td>11.50</td>\n",
       "    </tr>\n",
       "    <tr>\n",
       "      <th>18</th>\n",
       "      <td>4/30/22</td>\n",
       "      <td>10.70</td>\n",
       "    </tr>\n",
       "    <tr>\n",
       "      <th>19</th>\n",
       "      <td>5/31/22</td>\n",
       "      <td>10.70</td>\n",
       "    </tr>\n",
       "    <tr>\n",
       "      <th>20</th>\n",
       "      <td>6/30/22</td>\n",
       "      <td>10.40</td>\n",
       "    </tr>\n",
       "    <tr>\n",
       "      <th>21</th>\n",
       "      <td>7/31/22</td>\n",
       "      <td>10.50</td>\n",
       "    </tr>\n",
       "    <tr>\n",
       "      <th>22</th>\n",
       "      <td>8/31/22</td>\n",
       "      <td>10.40</td>\n",
       "    </tr>\n",
       "    <tr>\n",
       "      <th>23</th>\n",
       "      <td>9/30/22</td>\n",
       "      <td>10.80</td>\n",
       "    </tr>\n",
       "    <tr>\n",
       "      <th>24</th>\n",
       "      <td>10/31/22</td>\n",
       "      <td>11.00</td>\n",
       "    </tr>\n",
       "    <tr>\n",
       "      <th>25</th>\n",
       "      <td>11/30/22</td>\n",
       "      <td>11.60</td>\n",
       "    </tr>\n",
       "    <tr>\n",
       "      <th>26</th>\n",
       "      <td>12/31/22</td>\n",
       "      <td>11.60</td>\n",
       "    </tr>\n",
       "    <tr>\n",
       "      <th>27</th>\n",
       "      <td>1/31/23</td>\n",
       "      <td>12.10</td>\n",
       "    </tr>\n",
       "    <tr>\n",
       "      <th>28</th>\n",
       "      <td>2/28/23</td>\n",
       "      <td>11.70</td>\n",
       "    </tr>\n",
       "    <tr>\n",
       "      <th>29</th>\n",
       "      <td>3/31/23</td>\n",
       "      <td>12.00</td>\n",
       "    </tr>\n",
       "    <tr>\n",
       "      <th>30</th>\n",
       "      <td>4/30/23</td>\n",
       "      <td>11.50</td>\n",
       "    </tr>\n",
       "    <tr>\n",
       "      <th>31</th>\n",
       "      <td>5/31/23</td>\n",
       "      <td>11.20</td>\n",
       "    </tr>\n",
       "    <tr>\n",
       "      <th>32</th>\n",
       "      <td>6/30/23</td>\n",
       "      <td>10.90</td>\n",
       "    </tr>\n",
       "    <tr>\n",
       "      <th>33</th>\n",
       "      <td>7/31/23</td>\n",
       "      <td>11.40</td>\n",
       "    </tr>\n",
       "    <tr>\n",
       "      <th>34</th>\n",
       "      <td>8/31/23</td>\n",
       "      <td>11.10</td>\n",
       "    </tr>\n",
       "    <tr>\n",
       "      <th>35</th>\n",
       "      <td>9/30/23</td>\n",
       "      <td>11.50</td>\n",
       "    </tr>\n",
       "    <tr>\n",
       "      <th>36</th>\n",
       "      <td>10/31/23</td>\n",
       "      <td>11.80</td>\n",
       "    </tr>\n",
       "    <tr>\n",
       "      <th>37</th>\n",
       "      <td>11/30/23</td>\n",
       "      <td>12.20</td>\n",
       "    </tr>\n",
       "    <tr>\n",
       "      <th>38</th>\n",
       "      <td>12/31/23</td>\n",
       "      <td>12.80</td>\n",
       "    </tr>\n",
       "    <tr>\n",
       "      <th>39</th>\n",
       "      <td>1/31/24</td>\n",
       "      <td>12.60</td>\n",
       "    </tr>\n",
       "    <tr>\n",
       "      <th>40</th>\n",
       "      <td>2/29/24</td>\n",
       "      <td>12.40</td>\n",
       "    </tr>\n",
       "    <tr>\n",
       "      <th>41</th>\n",
       "      <td>3/31/24</td>\n",
       "      <td>12.70</td>\n",
       "    </tr>\n",
       "    <tr>\n",
       "      <th>42</th>\n",
       "      <td>4/30/24</td>\n",
       "      <td>12.10</td>\n",
       "    </tr>\n",
       "    <tr>\n",
       "      <th>43</th>\n",
       "      <td>5/31/24</td>\n",
       "      <td>11.40</td>\n",
       "    </tr>\n",
       "    <tr>\n",
       "      <th>44</th>\n",
       "      <td>6/30/24</td>\n",
       "      <td>11.50</td>\n",
       "    </tr>\n",
       "    <tr>\n",
       "      <th>45</th>\n",
       "      <td>7/31/24</td>\n",
       "      <td>11.60</td>\n",
       "    </tr>\n",
       "    <tr>\n",
       "      <th>46</th>\n",
       "      <td>8/31/24</td>\n",
       "      <td>11.50</td>\n",
       "    </tr>\n",
       "    <tr>\n",
       "      <th>47</th>\n",
       "      <td>9/30/24</td>\n",
       "      <td>11.80</td>\n",
       "    </tr>\n",
       "  </tbody>\n",
       "</table>\n",
       "</div>"
      ],
      "text/plain": [
       "       Dates  Prices\n",
       "0   10/31/20   10.10\n",
       "1   11/30/20   10.30\n",
       "2   12/31/20   11.00\n",
       "3    1/31/21   10.90\n",
       "4    2/28/21   10.90\n",
       "5    3/31/21   10.90\n",
       "6    4/30/21   10.40\n",
       "7    5/31/21    9.84\n",
       "8    6/30/21   10.00\n",
       "9    7/31/21   10.10\n",
       "10   8/31/21   10.30\n",
       "11   9/30/21   10.20\n",
       "12  10/31/21   10.10\n",
       "13  11/30/21   11.20\n",
       "14  12/31/21   11.40\n",
       "15   1/31/22   11.50\n",
       "16   2/28/22   11.80\n",
       "17   3/31/22   11.50\n",
       "18   4/30/22   10.70\n",
       "19   5/31/22   10.70\n",
       "20   6/30/22   10.40\n",
       "21   7/31/22   10.50\n",
       "22   8/31/22   10.40\n",
       "23   9/30/22   10.80\n",
       "24  10/31/22   11.00\n",
       "25  11/30/22   11.60\n",
       "26  12/31/22   11.60\n",
       "27   1/31/23   12.10\n",
       "28   2/28/23   11.70\n",
       "29   3/31/23   12.00\n",
       "30   4/30/23   11.50\n",
       "31   5/31/23   11.20\n",
       "32   6/30/23   10.90\n",
       "33   7/31/23   11.40\n",
       "34   8/31/23   11.10\n",
       "35   9/30/23   11.50\n",
       "36  10/31/23   11.80\n",
       "37  11/30/23   12.20\n",
       "38  12/31/23   12.80\n",
       "39   1/31/24   12.60\n",
       "40   2/29/24   12.40\n",
       "41   3/31/24   12.70\n",
       "42   4/30/24   12.10\n",
       "43   5/31/24   11.40\n",
       "44   6/30/24   11.50\n",
       "45   7/31/24   11.60\n",
       "46   8/31/24   11.50\n",
       "47   9/30/24   11.80"
      ]
     },
     "execution_count": 3,
     "metadata": {},
     "output_type": "execute_result"
    }
   ],
   "source": [
    "natgas = pd.read_csv(\"Nat_Gas.csv\")\n",
    "natgas"
   ]
  },
  {
   "cell_type": "markdown",
   "metadata": {},
   "source": [
    "Step3. Check data type & change them into the right format"
   ]
  },
  {
   "cell_type": "code",
   "execution_count": 4,
   "metadata": {},
   "outputs": [
    {
     "name": "stdout",
     "output_type": "stream",
     "text": [
      "Dates      object\n",
      "Prices    float64\n",
      "dtype: object\n",
      "Dates     datetime64[ns]\n",
      "Prices           float64\n",
      "dtype: object\n"
     ]
    },
    {
     "data": {
      "text/html": [
       "<div>\n",
       "<style scoped>\n",
       "    .dataframe tbody tr th:only-of-type {\n",
       "        vertical-align: middle;\n",
       "    }\n",
       "\n",
       "    .dataframe tbody tr th {\n",
       "        vertical-align: top;\n",
       "    }\n",
       "\n",
       "    .dataframe thead th {\n",
       "        text-align: right;\n",
       "    }\n",
       "</style>\n",
       "<table border=\"1\" class=\"dataframe\">\n",
       "  <thead>\n",
       "    <tr style=\"text-align: right;\">\n",
       "      <th></th>\n",
       "      <th>Dates</th>\n",
       "      <th>Prices</th>\n",
       "    </tr>\n",
       "  </thead>\n",
       "  <tbody>\n",
       "    <tr>\n",
       "      <th>0</th>\n",
       "      <td>2020-10-31</td>\n",
       "      <td>10.10</td>\n",
       "    </tr>\n",
       "    <tr>\n",
       "      <th>1</th>\n",
       "      <td>2020-11-30</td>\n",
       "      <td>10.30</td>\n",
       "    </tr>\n",
       "    <tr>\n",
       "      <th>2</th>\n",
       "      <td>2020-12-31</td>\n",
       "      <td>11.00</td>\n",
       "    </tr>\n",
       "    <tr>\n",
       "      <th>3</th>\n",
       "      <td>2021-01-31</td>\n",
       "      <td>10.90</td>\n",
       "    </tr>\n",
       "    <tr>\n",
       "      <th>4</th>\n",
       "      <td>2021-02-28</td>\n",
       "      <td>10.90</td>\n",
       "    </tr>\n",
       "    <tr>\n",
       "      <th>5</th>\n",
       "      <td>2021-03-31</td>\n",
       "      <td>10.90</td>\n",
       "    </tr>\n",
       "    <tr>\n",
       "      <th>6</th>\n",
       "      <td>2021-04-30</td>\n",
       "      <td>10.40</td>\n",
       "    </tr>\n",
       "    <tr>\n",
       "      <th>7</th>\n",
       "      <td>2021-05-31</td>\n",
       "      <td>9.84</td>\n",
       "    </tr>\n",
       "    <tr>\n",
       "      <th>8</th>\n",
       "      <td>2021-06-30</td>\n",
       "      <td>10.00</td>\n",
       "    </tr>\n",
       "    <tr>\n",
       "      <th>9</th>\n",
       "      <td>2021-07-31</td>\n",
       "      <td>10.10</td>\n",
       "    </tr>\n",
       "    <tr>\n",
       "      <th>10</th>\n",
       "      <td>2021-08-31</td>\n",
       "      <td>10.30</td>\n",
       "    </tr>\n",
       "    <tr>\n",
       "      <th>11</th>\n",
       "      <td>2021-09-30</td>\n",
       "      <td>10.20</td>\n",
       "    </tr>\n",
       "    <tr>\n",
       "      <th>12</th>\n",
       "      <td>2021-10-31</td>\n",
       "      <td>10.10</td>\n",
       "    </tr>\n",
       "    <tr>\n",
       "      <th>13</th>\n",
       "      <td>2021-11-30</td>\n",
       "      <td>11.20</td>\n",
       "    </tr>\n",
       "    <tr>\n",
       "      <th>14</th>\n",
       "      <td>2021-12-31</td>\n",
       "      <td>11.40</td>\n",
       "    </tr>\n",
       "    <tr>\n",
       "      <th>15</th>\n",
       "      <td>2022-01-31</td>\n",
       "      <td>11.50</td>\n",
       "    </tr>\n",
       "    <tr>\n",
       "      <th>16</th>\n",
       "      <td>2022-02-28</td>\n",
       "      <td>11.80</td>\n",
       "    </tr>\n",
       "    <tr>\n",
       "      <th>17</th>\n",
       "      <td>2022-03-31</td>\n",
       "      <td>11.50</td>\n",
       "    </tr>\n",
       "    <tr>\n",
       "      <th>18</th>\n",
       "      <td>2022-04-30</td>\n",
       "      <td>10.70</td>\n",
       "    </tr>\n",
       "    <tr>\n",
       "      <th>19</th>\n",
       "      <td>2022-05-31</td>\n",
       "      <td>10.70</td>\n",
       "    </tr>\n",
       "    <tr>\n",
       "      <th>20</th>\n",
       "      <td>2022-06-30</td>\n",
       "      <td>10.40</td>\n",
       "    </tr>\n",
       "    <tr>\n",
       "      <th>21</th>\n",
       "      <td>2022-07-31</td>\n",
       "      <td>10.50</td>\n",
       "    </tr>\n",
       "    <tr>\n",
       "      <th>22</th>\n",
       "      <td>2022-08-31</td>\n",
       "      <td>10.40</td>\n",
       "    </tr>\n",
       "    <tr>\n",
       "      <th>23</th>\n",
       "      <td>2022-09-30</td>\n",
       "      <td>10.80</td>\n",
       "    </tr>\n",
       "    <tr>\n",
       "      <th>24</th>\n",
       "      <td>2022-10-31</td>\n",
       "      <td>11.00</td>\n",
       "    </tr>\n",
       "    <tr>\n",
       "      <th>25</th>\n",
       "      <td>2022-11-30</td>\n",
       "      <td>11.60</td>\n",
       "    </tr>\n",
       "    <tr>\n",
       "      <th>26</th>\n",
       "      <td>2022-12-31</td>\n",
       "      <td>11.60</td>\n",
       "    </tr>\n",
       "    <tr>\n",
       "      <th>27</th>\n",
       "      <td>2023-01-31</td>\n",
       "      <td>12.10</td>\n",
       "    </tr>\n",
       "    <tr>\n",
       "      <th>28</th>\n",
       "      <td>2023-02-28</td>\n",
       "      <td>11.70</td>\n",
       "    </tr>\n",
       "    <tr>\n",
       "      <th>29</th>\n",
       "      <td>2023-03-31</td>\n",
       "      <td>12.00</td>\n",
       "    </tr>\n",
       "    <tr>\n",
       "      <th>30</th>\n",
       "      <td>2023-04-30</td>\n",
       "      <td>11.50</td>\n",
       "    </tr>\n",
       "    <tr>\n",
       "      <th>31</th>\n",
       "      <td>2023-05-31</td>\n",
       "      <td>11.20</td>\n",
       "    </tr>\n",
       "    <tr>\n",
       "      <th>32</th>\n",
       "      <td>2023-06-30</td>\n",
       "      <td>10.90</td>\n",
       "    </tr>\n",
       "    <tr>\n",
       "      <th>33</th>\n",
       "      <td>2023-07-31</td>\n",
       "      <td>11.40</td>\n",
       "    </tr>\n",
       "    <tr>\n",
       "      <th>34</th>\n",
       "      <td>2023-08-31</td>\n",
       "      <td>11.10</td>\n",
       "    </tr>\n",
       "    <tr>\n",
       "      <th>35</th>\n",
       "      <td>2023-09-30</td>\n",
       "      <td>11.50</td>\n",
       "    </tr>\n",
       "    <tr>\n",
       "      <th>36</th>\n",
       "      <td>2023-10-31</td>\n",
       "      <td>11.80</td>\n",
       "    </tr>\n",
       "    <tr>\n",
       "      <th>37</th>\n",
       "      <td>2023-11-30</td>\n",
       "      <td>12.20</td>\n",
       "    </tr>\n",
       "    <tr>\n",
       "      <th>38</th>\n",
       "      <td>2023-12-31</td>\n",
       "      <td>12.80</td>\n",
       "    </tr>\n",
       "    <tr>\n",
       "      <th>39</th>\n",
       "      <td>2024-01-31</td>\n",
       "      <td>12.60</td>\n",
       "    </tr>\n",
       "    <tr>\n",
       "      <th>40</th>\n",
       "      <td>2024-02-29</td>\n",
       "      <td>12.40</td>\n",
       "    </tr>\n",
       "    <tr>\n",
       "      <th>41</th>\n",
       "      <td>2024-03-31</td>\n",
       "      <td>12.70</td>\n",
       "    </tr>\n",
       "    <tr>\n",
       "      <th>42</th>\n",
       "      <td>2024-04-30</td>\n",
       "      <td>12.10</td>\n",
       "    </tr>\n",
       "    <tr>\n",
       "      <th>43</th>\n",
       "      <td>2024-05-31</td>\n",
       "      <td>11.40</td>\n",
       "    </tr>\n",
       "    <tr>\n",
       "      <th>44</th>\n",
       "      <td>2024-06-30</td>\n",
       "      <td>11.50</td>\n",
       "    </tr>\n",
       "    <tr>\n",
       "      <th>45</th>\n",
       "      <td>2024-07-31</td>\n",
       "      <td>11.60</td>\n",
       "    </tr>\n",
       "    <tr>\n",
       "      <th>46</th>\n",
       "      <td>2024-08-31</td>\n",
       "      <td>11.50</td>\n",
       "    </tr>\n",
       "    <tr>\n",
       "      <th>47</th>\n",
       "      <td>2024-09-30</td>\n",
       "      <td>11.80</td>\n",
       "    </tr>\n",
       "  </tbody>\n",
       "</table>\n",
       "</div>"
      ],
      "text/plain": [
       "        Dates  Prices\n",
       "0  2020-10-31   10.10\n",
       "1  2020-11-30   10.30\n",
       "2  2020-12-31   11.00\n",
       "3  2021-01-31   10.90\n",
       "4  2021-02-28   10.90\n",
       "5  2021-03-31   10.90\n",
       "6  2021-04-30   10.40\n",
       "7  2021-05-31    9.84\n",
       "8  2021-06-30   10.00\n",
       "9  2021-07-31   10.10\n",
       "10 2021-08-31   10.30\n",
       "11 2021-09-30   10.20\n",
       "12 2021-10-31   10.10\n",
       "13 2021-11-30   11.20\n",
       "14 2021-12-31   11.40\n",
       "15 2022-01-31   11.50\n",
       "16 2022-02-28   11.80\n",
       "17 2022-03-31   11.50\n",
       "18 2022-04-30   10.70\n",
       "19 2022-05-31   10.70\n",
       "20 2022-06-30   10.40\n",
       "21 2022-07-31   10.50\n",
       "22 2022-08-31   10.40\n",
       "23 2022-09-30   10.80\n",
       "24 2022-10-31   11.00\n",
       "25 2022-11-30   11.60\n",
       "26 2022-12-31   11.60\n",
       "27 2023-01-31   12.10\n",
       "28 2023-02-28   11.70\n",
       "29 2023-03-31   12.00\n",
       "30 2023-04-30   11.50\n",
       "31 2023-05-31   11.20\n",
       "32 2023-06-30   10.90\n",
       "33 2023-07-31   11.40\n",
       "34 2023-08-31   11.10\n",
       "35 2023-09-30   11.50\n",
       "36 2023-10-31   11.80\n",
       "37 2023-11-30   12.20\n",
       "38 2023-12-31   12.80\n",
       "39 2024-01-31   12.60\n",
       "40 2024-02-29   12.40\n",
       "41 2024-03-31   12.70\n",
       "42 2024-04-30   12.10\n",
       "43 2024-05-31   11.40\n",
       "44 2024-06-30   11.50\n",
       "45 2024-07-31   11.60\n",
       "46 2024-08-31   11.50\n",
       "47 2024-09-30   11.80"
      ]
     },
     "execution_count": 4,
     "metadata": {},
     "output_type": "execute_result"
    }
   ],
   "source": [
    "#check columns type\n",
    "print(natgas.dtypes)\n",
    "#transform into a df\n",
    "natgasdf = pd.DataFrame(natgas)\n",
    "#convert date into datetime\n",
    "natgasdf[\"Dates\"] = pd.to_datetime(natgasdf[\"Dates\"], format = \"%m/%d/%y\")\n",
    "#check\n",
    "print(natgasdf.dtypes)\n",
    "natgasdf"
   ]
  },
  {
   "cell_type": "markdown",
   "metadata": {},
   "source": [
    "Step4. Check for missing data"
   ]
  },
  {
   "cell_type": "code",
   "execution_count": 5,
   "metadata": {},
   "outputs": [
    {
     "name": "stdout",
     "output_type": "stream",
     "text": [
      "Dates     0\n",
      "Prices    0\n",
      "dtype: int64\n",
      "No missing data\n"
     ]
    }
   ],
   "source": [
    "print(natgasdf.isnull().sum())\n",
    "print(\"No missing data\")"
   ]
  },
  {
   "cell_type": "markdown",
   "metadata": {},
   "source": [
    "Step5. Set the \"Dates\" column as index"
   ]
  },
  {
   "cell_type": "code",
   "execution_count": 6,
   "metadata": {},
   "outputs": [
    {
     "data": {
      "text/html": [
       "<div>\n",
       "<style scoped>\n",
       "    .dataframe tbody tr th:only-of-type {\n",
       "        vertical-align: middle;\n",
       "    }\n",
       "\n",
       "    .dataframe tbody tr th {\n",
       "        vertical-align: top;\n",
       "    }\n",
       "\n",
       "    .dataframe thead th {\n",
       "        text-align: right;\n",
       "    }\n",
       "</style>\n",
       "<table border=\"1\" class=\"dataframe\">\n",
       "  <thead>\n",
       "    <tr style=\"text-align: right;\">\n",
       "      <th></th>\n",
       "      <th>Prices</th>\n",
       "    </tr>\n",
       "    <tr>\n",
       "      <th>Dates</th>\n",
       "      <th></th>\n",
       "    </tr>\n",
       "  </thead>\n",
       "  <tbody>\n",
       "    <tr>\n",
       "      <th>2020-10-31</th>\n",
       "      <td>10.10</td>\n",
       "    </tr>\n",
       "    <tr>\n",
       "      <th>2020-11-30</th>\n",
       "      <td>10.30</td>\n",
       "    </tr>\n",
       "    <tr>\n",
       "      <th>2020-12-31</th>\n",
       "      <td>11.00</td>\n",
       "    </tr>\n",
       "    <tr>\n",
       "      <th>2021-01-31</th>\n",
       "      <td>10.90</td>\n",
       "    </tr>\n",
       "    <tr>\n",
       "      <th>2021-02-28</th>\n",
       "      <td>10.90</td>\n",
       "    </tr>\n",
       "    <tr>\n",
       "      <th>2021-03-31</th>\n",
       "      <td>10.90</td>\n",
       "    </tr>\n",
       "    <tr>\n",
       "      <th>2021-04-30</th>\n",
       "      <td>10.40</td>\n",
       "    </tr>\n",
       "    <tr>\n",
       "      <th>2021-05-31</th>\n",
       "      <td>9.84</td>\n",
       "    </tr>\n",
       "    <tr>\n",
       "      <th>2021-06-30</th>\n",
       "      <td>10.00</td>\n",
       "    </tr>\n",
       "    <tr>\n",
       "      <th>2021-07-31</th>\n",
       "      <td>10.10</td>\n",
       "    </tr>\n",
       "    <tr>\n",
       "      <th>2021-08-31</th>\n",
       "      <td>10.30</td>\n",
       "    </tr>\n",
       "    <tr>\n",
       "      <th>2021-09-30</th>\n",
       "      <td>10.20</td>\n",
       "    </tr>\n",
       "    <tr>\n",
       "      <th>2021-10-31</th>\n",
       "      <td>10.10</td>\n",
       "    </tr>\n",
       "    <tr>\n",
       "      <th>2021-11-30</th>\n",
       "      <td>11.20</td>\n",
       "    </tr>\n",
       "    <tr>\n",
       "      <th>2021-12-31</th>\n",
       "      <td>11.40</td>\n",
       "    </tr>\n",
       "    <tr>\n",
       "      <th>2022-01-31</th>\n",
       "      <td>11.50</td>\n",
       "    </tr>\n",
       "    <tr>\n",
       "      <th>2022-02-28</th>\n",
       "      <td>11.80</td>\n",
       "    </tr>\n",
       "    <tr>\n",
       "      <th>2022-03-31</th>\n",
       "      <td>11.50</td>\n",
       "    </tr>\n",
       "    <tr>\n",
       "      <th>2022-04-30</th>\n",
       "      <td>10.70</td>\n",
       "    </tr>\n",
       "    <tr>\n",
       "      <th>2022-05-31</th>\n",
       "      <td>10.70</td>\n",
       "    </tr>\n",
       "    <tr>\n",
       "      <th>2022-06-30</th>\n",
       "      <td>10.40</td>\n",
       "    </tr>\n",
       "    <tr>\n",
       "      <th>2022-07-31</th>\n",
       "      <td>10.50</td>\n",
       "    </tr>\n",
       "    <tr>\n",
       "      <th>2022-08-31</th>\n",
       "      <td>10.40</td>\n",
       "    </tr>\n",
       "    <tr>\n",
       "      <th>2022-09-30</th>\n",
       "      <td>10.80</td>\n",
       "    </tr>\n",
       "    <tr>\n",
       "      <th>2022-10-31</th>\n",
       "      <td>11.00</td>\n",
       "    </tr>\n",
       "    <tr>\n",
       "      <th>2022-11-30</th>\n",
       "      <td>11.60</td>\n",
       "    </tr>\n",
       "    <tr>\n",
       "      <th>2022-12-31</th>\n",
       "      <td>11.60</td>\n",
       "    </tr>\n",
       "    <tr>\n",
       "      <th>2023-01-31</th>\n",
       "      <td>12.10</td>\n",
       "    </tr>\n",
       "    <tr>\n",
       "      <th>2023-02-28</th>\n",
       "      <td>11.70</td>\n",
       "    </tr>\n",
       "    <tr>\n",
       "      <th>2023-03-31</th>\n",
       "      <td>12.00</td>\n",
       "    </tr>\n",
       "    <tr>\n",
       "      <th>2023-04-30</th>\n",
       "      <td>11.50</td>\n",
       "    </tr>\n",
       "    <tr>\n",
       "      <th>2023-05-31</th>\n",
       "      <td>11.20</td>\n",
       "    </tr>\n",
       "    <tr>\n",
       "      <th>2023-06-30</th>\n",
       "      <td>10.90</td>\n",
       "    </tr>\n",
       "    <tr>\n",
       "      <th>2023-07-31</th>\n",
       "      <td>11.40</td>\n",
       "    </tr>\n",
       "    <tr>\n",
       "      <th>2023-08-31</th>\n",
       "      <td>11.10</td>\n",
       "    </tr>\n",
       "    <tr>\n",
       "      <th>2023-09-30</th>\n",
       "      <td>11.50</td>\n",
       "    </tr>\n",
       "    <tr>\n",
       "      <th>2023-10-31</th>\n",
       "      <td>11.80</td>\n",
       "    </tr>\n",
       "    <tr>\n",
       "      <th>2023-11-30</th>\n",
       "      <td>12.20</td>\n",
       "    </tr>\n",
       "    <tr>\n",
       "      <th>2023-12-31</th>\n",
       "      <td>12.80</td>\n",
       "    </tr>\n",
       "    <tr>\n",
       "      <th>2024-01-31</th>\n",
       "      <td>12.60</td>\n",
       "    </tr>\n",
       "    <tr>\n",
       "      <th>2024-02-29</th>\n",
       "      <td>12.40</td>\n",
       "    </tr>\n",
       "    <tr>\n",
       "      <th>2024-03-31</th>\n",
       "      <td>12.70</td>\n",
       "    </tr>\n",
       "    <tr>\n",
       "      <th>2024-04-30</th>\n",
       "      <td>12.10</td>\n",
       "    </tr>\n",
       "    <tr>\n",
       "      <th>2024-05-31</th>\n",
       "      <td>11.40</td>\n",
       "    </tr>\n",
       "    <tr>\n",
       "      <th>2024-06-30</th>\n",
       "      <td>11.50</td>\n",
       "    </tr>\n",
       "    <tr>\n",
       "      <th>2024-07-31</th>\n",
       "      <td>11.60</td>\n",
       "    </tr>\n",
       "    <tr>\n",
       "      <th>2024-08-31</th>\n",
       "      <td>11.50</td>\n",
       "    </tr>\n",
       "    <tr>\n",
       "      <th>2024-09-30</th>\n",
       "      <td>11.80</td>\n",
       "    </tr>\n",
       "  </tbody>\n",
       "</table>\n",
       "</div>"
      ],
      "text/plain": [
       "            Prices\n",
       "Dates             \n",
       "2020-10-31   10.10\n",
       "2020-11-30   10.30\n",
       "2020-12-31   11.00\n",
       "2021-01-31   10.90\n",
       "2021-02-28   10.90\n",
       "2021-03-31   10.90\n",
       "2021-04-30   10.40\n",
       "2021-05-31    9.84\n",
       "2021-06-30   10.00\n",
       "2021-07-31   10.10\n",
       "2021-08-31   10.30\n",
       "2021-09-30   10.20\n",
       "2021-10-31   10.10\n",
       "2021-11-30   11.20\n",
       "2021-12-31   11.40\n",
       "2022-01-31   11.50\n",
       "2022-02-28   11.80\n",
       "2022-03-31   11.50\n",
       "2022-04-30   10.70\n",
       "2022-05-31   10.70\n",
       "2022-06-30   10.40\n",
       "2022-07-31   10.50\n",
       "2022-08-31   10.40\n",
       "2022-09-30   10.80\n",
       "2022-10-31   11.00\n",
       "2022-11-30   11.60\n",
       "2022-12-31   11.60\n",
       "2023-01-31   12.10\n",
       "2023-02-28   11.70\n",
       "2023-03-31   12.00\n",
       "2023-04-30   11.50\n",
       "2023-05-31   11.20\n",
       "2023-06-30   10.90\n",
       "2023-07-31   11.40\n",
       "2023-08-31   11.10\n",
       "2023-09-30   11.50\n",
       "2023-10-31   11.80\n",
       "2023-11-30   12.20\n",
       "2023-12-31   12.80\n",
       "2024-01-31   12.60\n",
       "2024-02-29   12.40\n",
       "2024-03-31   12.70\n",
       "2024-04-30   12.10\n",
       "2024-05-31   11.40\n",
       "2024-06-30   11.50\n",
       "2024-07-31   11.60\n",
       "2024-08-31   11.50\n",
       "2024-09-30   11.80"
      ]
     },
     "execution_count": 6,
     "metadata": {},
     "output_type": "execute_result"
    }
   ],
   "source": [
    "natgasdf.set_index(\"Dates\")"
   ]
  },
  {
   "cell_type": "markdown",
   "metadata": {},
   "source": [
    "Step6. Define a function (dateprice) to display the Prices at a given date"
   ]
  },
  {
   "cell_type": "code",
   "execution_count": 7,
   "metadata": {},
   "outputs": [],
   "source": [
    "#build a new editable database\n",
    "natgasdf2 = natgasdf\n",
    "natgasdf2['month'] = natgasdf2['Dates'].dt.strftime('%m-%Y')\n",
    "#define the function\n",
    "def dateprice(dateMY):\n",
    "    # Check if the entered date exists in the 'month' column\n",
    "    if dateMY in natgasdf2['month'].values:\n",
    "        # Print the Prices for rows where the 'month' matches dateMY\n",
    "        print(natgasdf2.loc[natgasdf2['month'] == dateMY, 'Prices'].values[0])\n",
    "    else:\n",
    "        print(\"No data found for the specified date.\")"
   ]
  },
  {
   "cell_type": "markdown",
   "metadata": {},
   "source": [
    "Step7. Insert a date (format MM-YYYY) to get the price during that month"
   ]
  },
  {
   "cell_type": "code",
   "execution_count": 8,
   "metadata": {},
   "outputs": [
    {
     "name": "stdout",
     "output_type": "stream",
     "text": [
      "The Natural Gas' price on that date was:\n",
      "11.0\n"
     ]
    }
   ],
   "source": [
    "print(\"The Natural Gas' price on that date was:\")\n",
    "dateMY = input()\n",
    "dateprice(dateMY)"
   ]
  },
  {
   "cell_type": "markdown",
   "metadata": {},
   "source": [
    "Step8. Descriptive Statistics about the prices"
   ]
  },
  {
   "cell_type": "code",
   "execution_count": 9,
   "metadata": {},
   "outputs": [
    {
     "name": "stdout",
     "output_type": "stream",
     "text": [
      "Prices descriptive Statistics:\n",
      "-------------------------------\n",
      "count    48.000000\n",
      "mean     11.207083\n",
      "std       0.757897\n",
      "min       9.840000\n",
      "25%      10.650000\n",
      "50%      11.300000\n",
      "75%      11.625000\n",
      "max      12.800000\n",
      "Name: Prices, dtype: float64\n"
     ]
    }
   ],
   "source": [
    "print(\"Prices descriptive Statistics:\")\n",
    "print(\"-------------------------------\")\n",
    "print(natgasdf[\"Prices\"].describe())"
   ]
  },
  {
   "cell_type": "markdown",
   "metadata": {},
   "source": [
    "Step9. Plot the Prices to spot general trends"
   ]
  },
  {
   "cell_type": "code",
   "execution_count": 10,
   "metadata": {},
   "outputs": [
    {
     "data": {
      "text/plain": [
       "<Axes: title={'center': 'Monthly Natural Gas Prices 2020-2024'}, xlabel='Date', ylabel='Price'>"
      ]
     },
     "execution_count": 10,
     "metadata": {},
     "output_type": "execute_result"
    },
    {
     "data": {
      "image/png": "[encoded data removed]",
      "text/plain": [
       "<Figure size 640x480 with 1 Axes>"
      ]
     },
     "metadata": {},
     "output_type": "display_data"
    }
   ],
   "source": [
    "natgasdf.plot(\n",
    "    x='Dates',\n",
    "    y='Prices',\n",
    "    color='darkgreen',\n",
    "    grid=True,\n",
    "    xlabel='Date',\n",
    "    ylabel='Price',\n",
    "    title='Monthly Natural Gas Prices 2020-2024'\n",
    ")"
   ]
  },
  {
   "cell_type": "markdown",
   "metadata": {},
   "source": [
    "2 things worth noting:\n",
    "- 1. Upward trend from 2020 to 2024\n",
    "- 2. Some sort of seasonality (higher on coolest months, lower on the hottest)\n",
    "\n",
    "What can influece demand for natural gas?\n",
    "- seasonal demand\n",
    "- changes in supply\n",
    "- economic condition\n",
    "- global energy policies"
   ]
  },
  {
   "cell_type": "markdown",
   "metadata": {},
   "source": [
    "Step10. Test for Stationarity (ADF test)"
   ]
  },
  {
   "cell_type": "code",
   "execution_count": 11,
   "metadata": {},
   "outputs": [
    {
     "name": "stdout",
     "output_type": "stream",
     "text": [
      "Lag selection by: BIC\n",
      "ADF Statistic: 0.21807686169999388\n",
      "p-value: 0.973257438844869\n",
      "Critical Values:\n",
      "   1%, -3.6209175221605827\n",
      "   5%, -2.9435394610388332\n",
      "   10%, -2.6104002410518627\n",
      "The series is non-stationary.\n"
     ]
    }
   ],
   "source": [
    "# Set a function to perform and interpret the ADF\n",
    "def adf_test(series, lag):\n",
    "    result = adfuller(series, autolag=lag)  #lag can be chosen by the user\n",
    "    print(f\"Lag selection by: {lag}\")\n",
    "    print('ADF Statistic:', result[0])\n",
    "    print('p-value:', result[1])\n",
    "    print('Critical Values:')\n",
    "    for key, value in result[4].items():\n",
    "        print(f'   {key}, {value}')\n",
    "    \n",
    "    # Check for stationarity\n",
    "    if result[1] <= 0.05:\n",
    "        print(\"The series is stationary.\")\n",
    "    else:\n",
    "        print(\"The series is non-stationary.\")\n",
    "\n",
    "#test for prices\n",
    "adf_test(natgasdf[\"Prices\"], \"BIC\")"
   ]
  },
  {
   "cell_type": "markdown",
   "metadata": {},
   "source": [
    "Step11. Differentiate the Prices"
   ]
  },
  {
   "cell_type": "code",
   "execution_count": 12,
   "metadata": {},
   "outputs": [
    {
     "data": {
      "text/html": [
       "<div>\n",
       "<style scoped>\n",
       "    .dataframe tbody tr th:only-of-type {\n",
       "        vertical-align: middle;\n",
       "    }\n",
       "\n",
       "    .dataframe tbody tr th {\n",
       "        vertical-align: top;\n",
       "    }\n",
       "\n",
       "    .dataframe thead th {\n",
       "        text-align: right;\n",
       "    }\n",
       "</style>\n",
       "<table border=\"1\" class=\"dataframe\">\n",
       "  <thead>\n",
       "    <tr style=\"text-align: right;\">\n",
       "      <th></th>\n",
       "      <th>Dates</th>\n",
       "      <th>Prices</th>\n",
       "      <th>month</th>\n",
       "      <th>Diff</th>\n",
       "    </tr>\n",
       "  </thead>\n",
       "  <tbody>\n",
       "    <tr>\n",
       "      <th>0</th>\n",
       "      <td>2020-10-31</td>\n",
       "      <td>10.10</td>\n",
       "      <td>10-2020</td>\n",
       "      <td>NaN</td>\n",
       "    </tr>\n",
       "    <tr>\n",
       "      <th>1</th>\n",
       "      <td>2020-11-30</td>\n",
       "      <td>10.30</td>\n",
       "      <td>11-2020</td>\n",
       "      <td>0.20</td>\n",
       "    </tr>\n",
       "    <tr>\n",
       "      <th>2</th>\n",
       "      <td>2020-12-31</td>\n",
       "      <td>11.00</td>\n",
       "      <td>12-2020</td>\n",
       "      <td>0.70</td>\n",
       "    </tr>\n",
       "    <tr>\n",
       "      <th>3</th>\n",
       "      <td>2021-01-31</td>\n",
       "      <td>10.90</td>\n",
       "      <td>01-2021</td>\n",
       "      <td>-0.10</td>\n",
       "    </tr>\n",
       "    <tr>\n",
       "      <th>4</th>\n",
       "      <td>2021-02-28</td>\n",
       "      <td>10.90</td>\n",
       "      <td>02-2021</td>\n",
       "      <td>0.00</td>\n",
       "    </tr>\n",
       "    <tr>\n",
       "      <th>5</th>\n",
       "      <td>2021-03-31</td>\n",
       "      <td>10.90</td>\n",
       "      <td>03-2021</td>\n",
       "      <td>0.00</td>\n",
       "    </tr>\n",
       "    <tr>\n",
       "      <th>6</th>\n",
       "      <td>2021-04-30</td>\n",
       "      <td>10.40</td>\n",
       "      <td>04-2021</td>\n",
       "      <td>-0.50</td>\n",
       "    </tr>\n",
       "    <tr>\n",
       "      <th>7</th>\n",
       "      <td>2021-05-31</td>\n",
       "      <td>9.84</td>\n",
       "      <td>05-2021</td>\n",
       "      <td>-0.56</td>\n",
       "    </tr>\n",
       "    <tr>\n",
       "      <th>8</th>\n",
       "      <td>2021-06-30</td>\n",
       "      <td>10.00</td>\n",
       "      <td>06-2021</td>\n",
       "      <td>0.16</td>\n",
       "    </tr>\n",
       "    <tr>\n",
       "      <th>9</th>\n",
       "      <td>2021-07-31</td>\n",
       "      <td>10.10</td>\n",
       "      <td>07-2021</td>\n",
       "      <td>0.10</td>\n",
       "    </tr>\n",
       "    <tr>\n",
       "      <th>10</th>\n",
       "      <td>2021-08-31</td>\n",
       "      <td>10.30</td>\n",
       "      <td>08-2021</td>\n",
       "      <td>0.20</td>\n",
       "    </tr>\n",
       "    <tr>\n",
       "      <th>11</th>\n",
       "      <td>2021-09-30</td>\n",
       "      <td>10.20</td>\n",
       "      <td>09-2021</td>\n",
       "      <td>-0.10</td>\n",
       "    </tr>\n",
       "    <tr>\n",
       "      <th>12</th>\n",
       "      <td>2021-10-31</td>\n",
       "      <td>10.10</td>\n",
       "      <td>10-2021</td>\n",
       "      <td>-0.10</td>\n",
       "    </tr>\n",
       "    <tr>\n",
       "      <th>13</th>\n",
       "      <td>2021-11-30</td>\n",
       "      <td>11.20</td>\n",
       "      <td>11-2021</td>\n",
       "      <td>1.10</td>\n",
       "    </tr>\n",
       "    <tr>\n",
       "      <th>14</th>\n",
       "      <td>2021-12-31</td>\n",
       "      <td>11.40</td>\n",
       "      <td>12-2021</td>\n",
       "      <td>0.20</td>\n",
       "    </tr>\n",
       "    <tr>\n",
       "      <th>15</th>\n",
       "      <td>2022-01-31</td>\n",
       "      <td>11.50</td>\n",
       "      <td>01-2022</td>\n",
       "      <td>0.10</td>\n",
       "    </tr>\n",
       "    <tr>\n",
       "      <th>16</th>\n",
       "      <td>2022-02-28</td>\n",
       "      <td>11.80</td>\n",
       "      <td>02-2022</td>\n",
       "      <td>0.30</td>\n",
       "    </tr>\n",
       "    <tr>\n",
       "      <th>17</th>\n",
       "      <td>2022-03-31</td>\n",
       "      <td>11.50</td>\n",
       "      <td>03-2022</td>\n",
       "      <td>-0.30</td>\n",
       "    </tr>\n",
       "    <tr>\n",
       "      <th>18</th>\n",
       "      <td>2022-04-30</td>\n",
       "      <td>10.70</td>\n",
       "      <td>04-2022</td>\n",
       "      <td>-0.80</td>\n",
       "    </tr>\n",
       "    <tr>\n",
       "      <th>19</th>\n",
       "      <td>2022-05-31</td>\n",
       "      <td>10.70</td>\n",
       "      <td>05-2022</td>\n",
       "      <td>0.00</td>\n",
       "    </tr>\n",
       "    <tr>\n",
       "      <th>20</th>\n",
       "      <td>2022-06-30</td>\n",
       "      <td>10.40</td>\n",
       "      <td>06-2022</td>\n",
       "      <td>-0.30</td>\n",
       "    </tr>\n",
       "    <tr>\n",
       "      <th>21</th>\n",
       "      <td>2022-07-31</td>\n",
       "      <td>10.50</td>\n",
       "      <td>07-2022</td>\n",
       "      <td>0.10</td>\n",
       "    </tr>\n",
       "    <tr>\n",
       "      <th>22</th>\n",
       "      <td>2022-08-31</td>\n",
       "      <td>10.40</td>\n",
       "      <td>08-2022</td>\n",
       "      <td>-0.10</td>\n",
       "    </tr>\n",
       "    <tr>\n",
       "      <th>23</th>\n",
       "      <td>2022-09-30</td>\n",
       "      <td>10.80</td>\n",
       "      <td>09-2022</td>\n",
       "      <td>0.40</td>\n",
       "    </tr>\n",
       "    <tr>\n",
       "      <th>24</th>\n",
       "      <td>2022-10-31</td>\n",
       "      <td>11.00</td>\n",
       "      <td>10-2022</td>\n",
       "      <td>0.20</td>\n",
       "    </tr>\n",
       "    <tr>\n",
       "      <th>25</th>\n",
       "      <td>2022-11-30</td>\n",
       "      <td>11.60</td>\n",
       "      <td>11-2022</td>\n",
       "      <td>0.60</td>\n",
       "    </tr>\n",
       "    <tr>\n",
       "      <th>26</th>\n",
       "      <td>2022-12-31</td>\n",
       "      <td>11.60</td>\n",
       "      <td>12-2022</td>\n",
       "      <td>0.00</td>\n",
       "    </tr>\n",
       "    <tr>\n",
       "      <th>27</th>\n",
       "      <td>2023-01-31</td>\n",
       "      <td>12.10</td>\n",
       "      <td>01-2023</td>\n",
       "      <td>0.50</td>\n",
       "    </tr>\n",
       "    <tr>\n",
       "      <th>28</th>\n",
       "      <td>2023-02-28</td>\n",
       "      <td>11.70</td>\n",
       "      <td>02-2023</td>\n",
       "      <td>-0.40</td>\n",
       "    </tr>\n",
       "    <tr>\n",
       "      <th>29</th>\n",
       "      <td>2023-03-31</td>\n",
       "      <td>12.00</td>\n",
       "      <td>03-2023</td>\n",
       "      <td>0.30</td>\n",
       "    </tr>\n",
       "    <tr>\n",
       "      <th>30</th>\n",
       "      <td>2023-04-30</td>\n",
       "      <td>11.50</td>\n",
       "      <td>04-2023</td>\n",
       "      <td>-0.50</td>\n",
       "    </tr>\n",
       "    <tr>\n",
       "      <th>31</th>\n",
       "      <td>2023-05-31</td>\n",
       "      <td>11.20</td>\n",
       "      <td>05-2023</td>\n",
       "      <td>-0.30</td>\n",
       "    </tr>\n",
       "    <tr>\n",
       "      <th>32</th>\n",
       "      <td>2023-06-30</td>\n",
       "      <td>10.90</td>\n",
       "      <td>06-2023</td>\n",
       "      <td>-0.30</td>\n",
       "    </tr>\n",
       "    <tr>\n",
       "      <th>33</th>\n",
       "      <td>2023-07-31</td>\n",
       "      <td>11.40</td>\n",
       "      <td>07-2023</td>\n",
       "      <td>0.50</td>\n",
       "    </tr>\n",
       "    <tr>\n",
       "      <th>34</th>\n",
       "      <td>2023-08-31</td>\n",
       "      <td>11.10</td>\n",
       "      <td>08-2023</td>\n",
       "      <td>-0.30</td>\n",
       "    </tr>\n",
       "    <tr>\n",
       "      <th>35</th>\n",
       "      <td>2023-09-30</td>\n",
       "      <td>11.50</td>\n",
       "      <td>09-2023</td>\n",
       "      <td>0.40</td>\n",
       "    </tr>\n",
       "    <tr>\n",
       "      <th>36</th>\n",
       "      <td>2023-10-31</td>\n",
       "      <td>11.80</td>\n",
       "      <td>10-2023</td>\n",
       "      <td>0.30</td>\n",
       "    </tr>\n",
       "    <tr>\n",
       "      <th>37</th>\n",
       "      <td>2023-11-30</td>\n",
       "      <td>12.20</td>\n",
       "      <td>11-2023</td>\n",
       "      <td>0.40</td>\n",
       "    </tr>\n",
       "    <tr>\n",
       "      <th>38</th>\n",
       "      <td>2023-12-31</td>\n",
       "      <td>12.80</td>\n",
       "      <td>12-2023</td>\n",
       "      <td>0.60</td>\n",
       "    </tr>\n",
       "    <tr>\n",
       "      <th>39</th>\n",
       "      <td>2024-01-31</td>\n",
       "      <td>12.60</td>\n",
       "      <td>01-2024</td>\n",
       "      <td>-0.20</td>\n",
       "    </tr>\n",
       "    <tr>\n",
       "      <th>40</th>\n",
       "      <td>2024-02-29</td>\n",
       "      <td>12.40</td>\n",
       "      <td>02-2024</td>\n",
       "      <td>-0.20</td>\n",
       "    </tr>\n",
       "    <tr>\n",
       "      <th>41</th>\n",
       "      <td>2024-03-31</td>\n",
       "      <td>12.70</td>\n",
       "      <td>03-2024</td>\n",
       "      <td>0.30</td>\n",
       "    </tr>\n",
       "    <tr>\n",
       "      <th>42</th>\n",
       "      <td>2024-04-30</td>\n",
       "      <td>12.10</td>\n",
       "      <td>04-2024</td>\n",
       "      <td>-0.60</td>\n",
       "    </tr>\n",
       "    <tr>\n",
       "      <th>43</th>\n",
       "      <td>2024-05-31</td>\n",
       "      <td>11.40</td>\n",
       "      <td>05-2024</td>\n",
       "      <td>-0.70</td>\n",
       "    </tr>\n",
       "    <tr>\n",
       "      <th>44</th>\n",
       "      <td>2024-06-30</td>\n",
       "      <td>11.50</td>\n",
       "      <td>06-2024</td>\n",
       "      <td>0.10</td>\n",
       "    </tr>\n",
       "    <tr>\n",
       "      <th>45</th>\n",
       "      <td>2024-07-31</td>\n",
       "      <td>11.60</td>\n",
       "      <td>07-2024</td>\n",
       "      <td>0.10</td>\n",
       "    </tr>\n",
       "    <tr>\n",
       "      <th>46</th>\n",
       "      <td>2024-08-31</td>\n",
       "      <td>11.50</td>\n",
       "      <td>08-2024</td>\n",
       "      <td>-0.10</td>\n",
       "    </tr>\n",
       "    <tr>\n",
       "      <th>47</th>\n",
       "      <td>2024-09-30</td>\n",
       "      <td>11.80</td>\n",
       "      <td>09-2024</td>\n",
       "      <td>0.30</td>\n",
       "    </tr>\n",
       "  </tbody>\n",
       "</table>\n",
       "</div>"
      ],
      "text/plain": [
       "        Dates  Prices    month  Diff\n",
       "0  2020-10-31   10.10  10-2020   NaN\n",
       "1  2020-11-30   10.30  11-2020  0.20\n",
       "2  2020-12-31   11.00  12-2020  0.70\n",
       "3  2021-01-31   10.90  01-2021 -0.10\n",
       "4  2021-02-28   10.90  02-2021  0.00\n",
       "5  2021-03-31   10.90  03-2021  0.00\n",
       "6  2021-04-30   10.40  04-2021 -0.50\n",
       "7  2021-05-31    9.84  05-2021 -0.56\n",
       "8  2021-06-30   10.00  06-2021  0.16\n",
       "9  2021-07-31   10.10  07-2021  0.10\n",
       "10 2021-08-31   10.30  08-2021  0.20\n",
       "11 2021-09-30   10.20  09-2021 -0.10\n",
       "12 2021-10-31   10.10  10-2021 -0.10\n",
       "13 2021-11-30   11.20  11-2021  1.10\n",
       "14 2021-12-31   11.40  12-2021  0.20\n",
       "15 2022-01-31   11.50  01-2022  0.10\n",
       "16 2022-02-28   11.80  02-2022  0.30\n",
       "17 2022-03-31   11.50  03-2022 -0.30\n",
       "18 2022-04-30   10.70  04-2022 -0.80\n",
       "19 2022-05-31   10.70  05-2022  0.00\n",
       "20 2022-06-30   10.40  06-2022 -0.30\n",
       "21 2022-07-31   10.50  07-2022  0.10\n",
       "22 2022-08-31   10.40  08-2022 -0.10\n",
       "23 2022-09-30   10.80  09-2022  0.40\n",
       "24 2022-10-31   11.00  10-2022  0.20\n",
       "25 2022-11-30   11.60  11-2022  0.60\n",
       "26 2022-12-31   11.60  12-2022  0.00\n",
       "27 2023-01-31   12.10  01-2023  0.50\n",
       "28 2023-02-28   11.70  02-2023 -0.40\n",
       "29 2023-03-31   12.00  03-2023  0.30\n",
       "30 2023-04-30   11.50  04-2023 -0.50\n",
       "31 2023-05-31   11.20  05-2023 -0.30\n",
       "32 2023-06-30   10.90  06-2023 -0.30\n",
       "33 2023-07-31   11.40  07-2023  0.50\n",
       "34 2023-08-31   11.10  08-2023 -0.30\n",
       "35 2023-09-30   11.50  09-2023  0.40\n",
       "36 2023-10-31   11.80  10-2023  0.30\n",
       "37 2023-11-30   12.20  11-2023  0.40\n",
       "38 2023-12-31   12.80  12-2023  0.60\n",
       "39 2024-01-31   12.60  01-2024 -0.20\n",
       "40 2024-02-29   12.40  02-2024 -0.20\n",
       "41 2024-03-31   12.70  03-2024  0.30\n",
       "42 2024-04-30   12.10  04-2024 -0.60\n",
       "43 2024-05-31   11.40  05-2024 -0.70\n",
       "44 2024-06-30   11.50  06-2024  0.10\n",
       "45 2024-07-31   11.60  07-2024  0.10\n",
       "46 2024-08-31   11.50  08-2024 -0.10\n",
       "47 2024-09-30   11.80  09-2024  0.30"
      ]
     },
     "execution_count": 12,
     "metadata": {},
     "output_type": "execute_result"
    }
   ],
   "source": [
    "natgasdf2[\"Diff\"] = natgasdf2[\"Prices\"].diff()\n",
    "natgasdf2"
   ]
  },
  {
   "cell_type": "markdown",
   "metadata": {},
   "source": [
    "Step12. Plot the differentiated prices"
   ]
  },
  {
   "cell_type": "code",
   "execution_count": 13,
   "metadata": {},
   "outputs": [
    {
     "data": {
      "text/plain": [
       "<Axes: title={'center': 'Monthly Natural Gas Prices 2020-2024'}, xlabel='Date', ylabel='Differentiated Price'>"
      ]
     },
     "execution_count": 13,
     "metadata": {},
     "output_type": "execute_result"
    },
    {
     "data": {
      "image/png": "[encoded data removed]",
      "text/plain": [
       "<Figure size 640x480 with 1 Axes>"
      ]
     },
     "metadata": {},
     "output_type": "display_data"
    }
   ],
   "source": [
    "natgasdf2.plot(\n",
    "    x='Dates',\n",
    "    y='Diff',\n",
    "    color='darkgreen',\n",
    "    grid=True,\n",
    "    xlabel='Date',\n",
    "    ylabel='Differentiated Price',\n",
    "    title='Monthly Natural Gas Prices 2020-2024'\n",
    ")"
   ]
  },
  {
   "cell_type": "markdown",
   "metadata": {},
   "source": [
    "Step13. Check stationarity through ADF test"
   ]
  },
  {
   "cell_type": "code",
   "execution_count": 14,
   "metadata": {},
   "outputs": [
    {
     "name": "stdout",
     "output_type": "stream",
     "text": [
      "Lag selection by: BIC\n",
      "ADF Statistic: -6.844773557477356\n",
      "p-value: 1.7541696852939828e-09\n",
      "Critical Values:\n",
      "   1%, -3.6209175221605827\n",
      "   5%, -2.9435394610388332\n",
      "   10%, -2.6104002410518627\n",
      "The series is stationary.\n"
     ]
    }
   ],
   "source": [
    "# Create a variable that holds the 'Diff' column without the first NaN\n",
    "diff_without_nan = natgasdf2[\"Diff\"].dropna().reset_index(drop=True)\n",
    "# test for adf\n",
    "adf_test(diff_without_nan, \"BIC\")"
   ]
  },
  {
   "cell_type": "markdown",
   "metadata": {},
   "source": [
    "Now the series is stationariy. Include the differentiation into the model."
   ]
  },
  {
   "cell_type": "markdown",
   "metadata": {},
   "source": [
    "Step14. Plot both autocorrelation and partial-autocorrelation"
   ]
  },
  {
   "cell_type": "code",
   "execution_count": 15,
   "metadata": {},
   "outputs": [
    {
     "data": {
      "image/png": "[encoded data removed]",
      "text/plain": [
       "<Figure size 1200x800 with 2 Axes>"
      ]
     },
     "metadata": {},
     "output_type": "display_data"
    }
   ],
   "source": [
    "# Set up the figure for ACF and PACF\n",
    "fig, ax = plt.subplots(2, 1, figsize=(12, 8))\n",
    "\n",
    "# Plot ACF\n",
    "plot_acf(natgasdf[\"Prices\"], lags=20, ax=ax[0])  # Specify the axes to use\n",
    "ax[0].set_title(\"Autocorrelation Function (ACF)\")\n",
    "ax[0].set_xlabel(\"Lag\")\n",
    "ax[0].set_ylabel(\"ACF\")\n",
    "\n",
    "# Plot PACF\n",
    "plot_pacf(natgasdf[\"Prices\"], lags=20, ax=ax[1])  # Specify the axes to use\n",
    "ax[1].set_title(\"Partial Autocorrelation Function (PACF)\")\n",
    "ax[1].set_xlabel(\"Lag\")\n",
    "ax[1].set_ylabel(\"PACF\")\n",
    "\n",
    "# Show plots\n",
    "plt.tight_layout()\n",
    "plt.show()"
   ]
  },
  {
   "cell_type": "markdown",
   "metadata": {},
   "source": [
    "According to pacf and acf, p and q could be:\n",
    "\n",
    "- p: 1, 2, 3, 4\n",
    "- q: 1, 2\n",
    "\n",
    "While d = 1. "
   ]
  },
  {
   "cell_type": "markdown",
   "metadata": {},
   "source": [
    "Step15. Split data into training and testing"
   ]
  },
  {
   "cell_type": "code",
   "execution_count": 16,
   "metadata": {},
   "outputs": [
    {
     "name": "stdout",
     "output_type": "stream",
     "text": [
      "       Dates  Prices    month  Diff\n",
      "0 2020-10-31    10.1  10-2020   NaN\n",
      "1 2020-11-30    10.3  11-2020   0.2\n",
      "2 2020-12-31    11.0  12-2020   0.7\n",
      "3 2021-01-31    10.9  01-2021  -0.1\n",
      "4 2021-02-28    10.9  02-2021   0.0\n",
      "        Dates  Prices    month  Diff\n",
      "38 2023-12-31    12.8  12-2023   0.6\n",
      "39 2024-01-31    12.6  01-2024  -0.2\n",
      "40 2024-02-29    12.4  02-2024  -0.2\n",
      "41 2024-03-31    12.7  03-2024   0.3\n",
      "42 2024-04-30    12.1  04-2024  -0.6\n",
      "43 2024-05-31    11.4  05-2024  -0.7\n",
      "44 2024-06-30    11.5  06-2024   0.1\n",
      "45 2024-07-31    11.6  07-2024   0.1\n",
      "46 2024-08-31    11.5  08-2024  -0.1\n",
      "47 2024-09-30    11.8  09-2024   0.3\n"
     ]
    }
   ],
   "source": [
    "# Get last 10 (around 20%) rows of data and store them into a new variable \n",
    "testing = natgasdf[len(natgasdf)-10:]\n",
    "#Get all rows except the last 10\n",
    "training = natgasdf[:-12]\n",
    "#show both\n",
    "print(training.head())\n",
    "print(testing)"
   ]
  },
  {
   "cell_type": "markdown",
   "metadata": {},
   "source": [
    "Step16. Fit a SARIMA model on the training."
   ]
  },
  {
   "cell_type": "code",
   "execution_count": 17,
   "metadata": {},
   "outputs": [
    {
     "name": "stdout",
     "output_type": "stream",
     "text": [
      "RUNNING THE L-BFGS-B CODE\n",
      "\n",
      "           * * *\n",
      "\n",
      "Machine precision = 2.220D-16\n",
      " N =            3     M =           10\n",
      "\n",
      "At X0         0 variables are exactly at the bounds\n",
      "\n",
      "At iterate    0    f=  1.83970D-01    |proj g|=  1.74208D-01\n",
      "\n",
      "At iterate    5    f=  1.64126D-01    |proj g|=  1.81112D-02\n",
      "\n",
      "At iterate   10    f=  1.52726D-01    |proj g|=  1.89809D-02\n",
      "\n",
      "At iterate   15    f=  1.51306D-01    |proj g|=  2.83962D-03\n",
      "\n",
      "At iterate   20    f=  1.51070D-01    |proj g|=  9.26878D-03\n",
      "\n",
      "At iterate   25    f=  1.51050D-01    |proj g|=  1.72104D-03\n",
      "\n",
      "           * * *\n",
      "\n",
      "Tit   = total number of iterations\n",
      "Tnf   = total number of function evaluations\n",
      "Tnint = total number of segments explored during Cauchy searches\n",
      "Skip  = number of BFGS updates skipped\n",
      "Nact  = number of active bounds at final generalized Cauchy point\n",
      "Projg = norm of the final projected gradient\n",
      "F     = final function value\n",
      "\n",
      "           * * *\n",
      "\n",
      "   N    Tit     Tnf  Tnint  Skip  Nact     Projg        F\n",
      "    3     27     39      1     0     0   2.465D-03   1.510D-01\n",
      "  F =  0.15104852661265455     \n",
      "\n",
      "CONVERGENCE: REL_REDUCTION_OF_F_<=_FACTR*EPSMCH             \n"
     ]
    },
    {
     "name": "stderr",
     "output_type": "stream",
     "text": [
      " This problem is unconstrained.\n"
     ]
    }
   ],
   "source": [
    "# Define the SARIMA model\n",
    "p, d, q = 1, 1, 1   # Non-seasonal parameters\n",
    "P, D, Q, m = 0, 1, 0, 12  # Seasonal parameters\n",
    "\n",
    "# Fit the model\n",
    "SARIMA1 = sm.tsa.SARIMAX(training['Prices'], order=(p, d, q), seasonal_order=(P, D, Q, m))\n",
    "SARIMA1_fit = SARIMA1.fit()\n"
   ]
  },
  {
   "cell_type": "code",
   "execution_count": 18,
   "metadata": {},
   "outputs": [
    {
     "name": "stdout",
     "output_type": "stream",
     "text": [
      "                                      SARIMAX Results                                      \n",
      "===========================================================================================\n",
      "Dep. Variable:                              Prices   No. Observations:                   36\n",
      "Model:             SARIMAX(1, 1, 1)x(0, 1, [], 12)   Log Likelihood                  -5.438\n",
      "Date:                             Fri, 01 Nov 2024   AIC                             16.875\n",
      "Time:                                     23:58:35   BIC                             20.282\n",
      "Sample:                                          0   HQIC                            17.732\n",
      "                                              - 36                                         \n",
      "Covariance Type:                               opg                                         \n",
      "==============================================================================\n",
      "                 coef    std err          z      P>|z|      [0.025      0.975]\n",
      "------------------------------------------------------------------------------\n",
      "ar.L1         -0.1106      0.366     -0.302      0.763      -0.829       0.608\n",
      "ma.L1         -0.9952      4.439     -0.224      0.823      -9.695       7.705\n",
      "sigma2         0.0814      0.348      0.234      0.815      -0.601       0.763\n",
      "===================================================================================\n",
      "Ljung-Box (L1) (Q):                   0.14   Jarque-Bera (JB):                 0.34\n",
      "Prob(Q):                              0.71   Prob(JB):                         0.84\n",
      "Heteroskedasticity (H):               1.01   Skew:                            -0.26\n",
      "Prob(H) (two-sided):                  0.99   Kurtosis:                         2.72\n",
      "===================================================================================\n",
      "\n",
      "Warnings:\n",
      "[1] Covariance matrix calculated using the outer product of gradients (complex-step).\n"
     ]
    }
   ],
   "source": [
    "print(SARIMA1_fit.summary())"
   ]
  },
  {
   "cell_type": "markdown",
   "metadata": {},
   "source": [
    "Step17. Check the residuals diagnostics"
   ]
  },
  {
   "cell_type": "code",
   "execution_count": 19,
   "metadata": {},
   "outputs": [
    {
     "name": "stdout",
     "output_type": "stream",
     "text": [
      "RUNNING THE L-BFGS-B CODE\n",
      "\n",
      "           * * *\n",
      "\n",
      "Machine precision = 2.220D-16\n",
      " N =            7     M =           10\n",
      "\n",
      "At X0         0 variables are exactly at the bounds\n",
      "\n",
      "At iterate    0    f=  1.96647D-01    |proj g|=  2.43606D-01\n"
     ]
    },
    {
     "name": "stderr",
     "output_type": "stream",
     "text": [
      " This problem is unconstrained.\n",
      "/Users/lucaalbertini/Desktop/JPMorgan_Job/JPmorgvenv/lib/python3.12/site-packages/statsmodels/base/model.py:607: ConvergenceWarning: Maximum Likelihood optimization failed to converge. Check mle_retvals\n",
      "  warnings.warn(\"Maximum Likelihood optimization failed to \"\n"
     ]
    },
    {
     "name": "stdout",
     "output_type": "stream",
     "text": [
      "\n",
      "At iterate    5    f=  1.88161D-01    |proj g|=  1.20813D-02\n",
      "\n",
      "At iterate   10    f=  1.86636D-01    |proj g|=  7.09366D-03\n",
      "\n",
      "At iterate   15    f=  1.84526D-01    |proj g|=  7.16053D-02\n",
      "\n",
      "At iterate   20    f=  1.66911D-01    |proj g|=  2.50571D-02\n",
      "\n",
      "At iterate   25    f=  1.59899D-01    |proj g|=  8.27916D-03\n",
      "\n",
      "At iterate   30    f=  1.57450D-01    |proj g|=  2.34679D-03\n",
      "\n",
      "At iterate   35    f=  1.57024D-01    |proj g|=  1.30842D-02\n",
      "\n",
      "At iterate   40    f=  1.57014D-01    |proj g|=  1.55214D-03\n",
      "\n",
      "At iterate   45    f=  1.57013D-01    |proj g|=  6.15409D-04\n",
      "\n",
      "At iterate   50    f=  1.57013D-01    |proj g|=  1.86293D-04\n",
      "\n",
      "           * * *\n",
      "\n",
      "Tit   = total number of iterations\n",
      "Tnf   = total number of function evaluations\n",
      "Tnint = total number of segments explored during Cauchy searches\n",
      "Skip  = number of BFGS updates skipped\n",
      "Nact  = number of active bounds at final generalized Cauchy point\n",
      "Projg = norm of the final projected gradient\n",
      "F     = final function value\n",
      "\n",
      "           * * *\n",
      "\n",
      "   N    Tit     Tnf  Tnint  Skip  Nact     Projg        F\n",
      "    7     50     68      1     0     0   1.863D-04   1.570D-01\n",
      "  F =  0.15701326310071842     \n",
      "\n",
      "STOP: TOTAL NO. of ITERATIONS REACHED LIMIT                 \n"
     ]
    },
    {
     "data": {
      "image/png": "[encoded data removed]",
      "text/plain": [
       "<Figure size 1000x1000 with 4 Axes>"
      ]
     },
     "metadata": {},
     "output_type": "display_data"
    }
   ],
   "source": [
    "(\n",
    "    sm.tsa.SARIMAX(training[\"Prices\"], order=(5,0,1), seasonal_order=(0, 1, 0, 12))\n",
    "    ).fit(\n",
    "        ).plot_diagnostics(figsize=(10,10))\n",
    "plt.show()\n"
   ]
  },
  {
   "cell_type": "markdown",
   "metadata": {},
   "source": [
    "Step18. Make Predictions"
   ]
  },
  {
   "cell_type": "code",
   "execution_count": 20,
   "metadata": {},
   "outputs": [
    {
     "name": "stdout",
     "output_type": "stream",
     "text": [
      "36    11.510158\n",
      "37    12.131163\n",
      "38    12.128838\n",
      "39    12.629096\n",
      "40    12.229067\n",
      "41    12.529070\n",
      "42    12.029070\n",
      "43    11.729070\n",
      "44    11.429070\n",
      "45    11.929070\n",
      "Name: predicted_mean, dtype: float64\n"
     ]
    }
   ],
   "source": [
    "# Make predictions\n",
    "start = len(training[\"Prices\"])\n",
    "end = len(training[\"Prices\"]) + len(testing[\"Prices\"]) - 1\n",
    "predictions = SARIMA1_fit.predict(start=start, end=end)\n",
    "#print predictions\n",
    "print(predictions)"
   ]
  },
  {
   "cell_type": "markdown",
   "metadata": {},
   "source": [
    "Step19. Compute Accuracy Measures"
   ]
  },
  {
   "cell_type": "code",
   "execution_count": 21,
   "metadata": {},
   "outputs": [
    {
     "name": "stdout",
     "output_type": "stream",
     "text": [
      "Fundamental metrics are:\n",
      "=============================================\n",
      "Mean Absolute Error (MAE): 0.4217023033874597\n",
      "Mean Squared Error (MSE): 0.3571779777522591\n",
      "Root Mean Squared Error (RMSE): 0.5976436879548375\n",
      "Mean Absolute Percentage Error (MAPE): 3.4937586655327513%\n",
      "R-squared (R²): -0.32092447393586987\n",
      "Standard Error of Regression (SER): 0.6681859562953444\n",
      "None\n"
     ]
    }
   ],
   "source": [
    "#set up a function to compute accuracy measures\n",
    "\n",
    "# Define accuracy measures function\n",
    "def accuracy_measures(series, prediction):\n",
    "    # Extract numerical values for testing series (avoiding any datetime data type issues)\n",
    "    series_values = series.values  # Extracts only the numerical values\n",
    "\n",
    "    # Calculate Mean Absolute Error (MAE)\n",
    "    mae = mean_absolute_error(series_values, prediction)\n",
    "\n",
    "    # Calculate Mean Squared Error (MSE)\n",
    "    mse = mean_squared_error(series_values, prediction)\n",
    "\n",
    "    # Calculate Root Mean Squared Error (RMSE)\n",
    "    rmse = np.sqrt(mse)\n",
    "\n",
    "    # Calculate Mean Absolute Percentage Error (MAPE)\n",
    "    mape = np.mean(np.abs((series_values - prediction) / series_values)) * 100\n",
    "\n",
    "    # Calculate R-squared (R²)\n",
    "    r2 = r2_score(series_values, prediction)\n",
    "\n",
    "    # Calculate Standard Error of Regression (SER)\n",
    "    n = len(series_values)  # Number of observations\n",
    "    k = 1  # Number of predictors (for ARIMA, it's usually 1)\n",
    "    ser = np.sqrt(np.sum(np.square(series_values - prediction)) / (n - k - 1))\n",
    "\n",
    "    # Display the metrics\n",
    "    print(\"Fundamental metrics are:\")\n",
    "    print(\"=============================================\")\n",
    "    print(f\"Mean Absolute Error (MAE): {mae}\")\n",
    "    print(f\"Mean Squared Error (MSE): {mse}\")\n",
    "    print(f\"Root Mean Squared Error (RMSE): {rmse}\")\n",
    "    print(f\"Mean Absolute Percentage Error (MAPE): {mape}%\")\n",
    "    print(f\"R-squared (R²): {r2}\")\n",
    "    print(f\"Standard Error of Regression (SER): {ser}\")\n",
    "    \n",
    "print(accuracy_measures(testing[\"Prices\"], predictions))\n"
   ]
  },
  {
   "cell_type": "markdown",
   "metadata": {},
   "source": [
    "While the MAPE suggests that the model performs reasonably well in relative error terms, the negative R² and moderate error values (RMSE and SER) indicate that the current SARIMA configuration may not be capturing the data’s structure effectively. To improve, consider revisiting the seasonal and non-seasonal parameters or testing alternative models"
   ]
  },
  {
   "cell_type": "markdown",
   "metadata": {},
   "source": [
    "Step20. Model 2"
   ]
  },
  {
   "cell_type": "code",
   "execution_count": 22,
   "metadata": {},
   "outputs": [
    {
     "name": "stdout",
     "output_type": "stream",
     "text": [
      "RUNNING THE L-BFGS-B CODE\n",
      "\n",
      "           * * *\n",
      "\n",
      "Machine precision = 2.220D-16\n",
      " N =            5     M =           10\n",
      "\n",
      "At X0         0 variables are exactly at the bounds\n",
      "\n",
      "At iterate    0    f=  1.63074D-01    |proj g|=  1.65398D-01\n",
      "\n",
      "At iterate    5    f=  1.55417D-01    |proj g|=  2.03026D-02\n",
      "\n",
      "At iterate   10    f=  1.47646D-01    |proj g|=  2.88443D-02\n",
      "\n",
      "At iterate   15    f=  1.45457D-01    |proj g|=  6.87208D-03\n",
      "\n",
      "At iterate   20    f=  1.44675D-01    |proj g|=  7.36599D-04\n",
      "\n",
      "At iterate   25    f=  1.44613D-01    |proj g|=  2.07599D-03\n",
      "\n",
      "At iterate   30    f=  1.44600D-01    |proj g|=  1.37089D-03\n",
      "\n",
      "At iterate   35    f=  1.44595D-01    |proj g|=  3.10159D-03\n",
      "\n",
      "At iterate   40    f=  1.44592D-01    |proj g|=  9.72265D-04\n",
      "\n",
      "At iterate   45    f=  1.44591D-01    |proj g|=  5.66094D-04\n",
      "\n",
      "           * * *\n",
      "\n",
      "Tit   = total number of iterations\n",
      "Tnf   = total number of function evaluations\n",
      "Tnint = total number of segments explored during Cauchy searches\n",
      "Skip  = number of BFGS updates skipped\n",
      "Nact  = number of active bounds at final generalized Cauchy point\n",
      "Projg = norm of the final projected gradient\n",
      "F     = final function value\n",
      "\n",
      "           * * *\n",
      "\n",
      "   N    Tit     Tnf  Tnint  Skip  Nact     Projg        F\n",
      "    5     45     79      1     0     0   5.661D-04   1.446D-01\n",
      "  F =  0.14459104586826219     \n",
      "\n",
      "CONVERGENCE: REL_REDUCTION_OF_F_<=_FACTR*EPSMCH             \n"
     ]
    },
    {
     "name": "stderr",
     "output_type": "stream",
     "text": [
      " This problem is unconstrained.\n"
     ]
    }
   ],
   "source": [
    "# Fit the model\n",
    "SARIMA2 = sm.tsa.SARIMAX(training['Prices'], order=(2, 1, 2), seasonal_order=(P, D, Q, m))\n",
    "SARIMA2_fit = SARIMA2.fit()"
   ]
  },
  {
   "cell_type": "code",
   "execution_count": 23,
   "metadata": {},
   "outputs": [
    {
     "name": "stdout",
     "output_type": "stream",
     "text": [
      "                                      SARIMAX Results                                      \n",
      "===========================================================================================\n",
      "Dep. Variable:                              Prices   No. Observations:                   36\n",
      "Model:             SARIMAX(2, 1, 2)x(0, 1, [], 12)   Log Likelihood                  -5.205\n",
      "Date:                             Fri, 01 Nov 2024   AIC                             20.411\n",
      "Time:                                     23:58:36   BIC                             26.088\n",
      "Sample:                                          0   HQIC                            21.838\n",
      "                                              - 36                                         \n",
      "Covariance Type:                               opg                                         \n",
      "==============================================================================\n",
      "                 coef    std err          z      P>|z|      [0.025      0.975]\n",
      "------------------------------------------------------------------------------\n",
      "ar.L1         -0.5191      1.538     -0.338      0.736      -3.533       2.494\n",
      "ar.L2         -0.1879      0.309     -0.609      0.542      -0.793       0.417\n",
      "ma.L1         -0.5838      7.244     -0.081      0.936     -14.782      13.614\n",
      "ma.L2         -0.4103      4.391     -0.093      0.926      -9.017       8.196\n",
      "sigma2         0.0790      0.610      0.130      0.897      -1.116       1.274\n",
      "===================================================================================\n",
      "Ljung-Box (L1) (Q):                   0.21   Jarque-Bera (JB):                 0.90\n",
      "Prob(Q):                              0.65   Prob(JB):                         0.64\n",
      "Heteroskedasticity (H):               1.04   Skew:                            -0.48\n",
      "Prob(H) (two-sided):                  0.95   Kurtosis:                         3.10\n",
      "===================================================================================\n",
      "\n",
      "Warnings:\n",
      "[1] Covariance matrix calculated using the outer product of gradients (complex-step).\n"
     ]
    }
   ],
   "source": [
    "print(SARIMA2_fit.summary())"
   ]
  },
  {
   "cell_type": "code",
   "execution_count": 24,
   "metadata": {},
   "outputs": [
    {
     "name": "stdout",
     "output_type": "stream",
     "text": [
      "36    11.507328\n",
      "37    12.107430\n",
      "38    12.143582\n",
      "39    12.624797\n",
      "40    12.227755\n",
      "41    12.529749\n",
      "42    12.028158\n",
      "43    11.728609\n",
      "44    11.428674\n",
      "45    11.928556\n",
      "Name: predicted_mean, dtype: float64\n"
     ]
    }
   ],
   "source": [
    "# Make predictions\n",
    "predictions2 = SARIMA2_fit.predict(start=start, end=end)\n",
    "#print predictions\n",
    "print(predictions2)"
   ]
  },
  {
   "cell_type": "code",
   "execution_count": 25,
   "metadata": {},
   "outputs": [
    {
     "name": "stdout",
     "output_type": "stream",
     "text": [
      "Fundamental metrics are:\n",
      "=============================================\n",
      "Mean Absolute Error (MAE): 0.42310159004646036\n",
      "Mean Squared Error (MSE): 0.3594791268933814\n",
      "Root Mean Squared Error (RMSE): 0.5995657819567269\n",
      "Mean Absolute Percentage Error (MAPE): 3.504528714370001%\n",
      "R-squared (R²): -0.3294346408778903\n",
      "Standard Error of Regression (SER): 0.6703349227190292\n"
     ]
    }
   ],
   "source": [
    "accuracy_measures(testing[\"Prices\"], predictions2)"
   ]
  },
  {
   "cell_type": "markdown",
   "metadata": {},
   "source": [
    "Step21. Plot to see how they do beahave"
   ]
  },
  {
   "cell_type": "code",
   "execution_count": 26,
   "metadata": {},
   "outputs": [
    {
     "name": "stdout",
     "output_type": "stream",
     "text": [
      "Dates\n",
      "2023-09-30    11.500000\n",
      "2023-12-31    11.507328\n",
      "2024-01-31    12.107430\n",
      "2024-02-29    12.143582\n",
      "2024-03-31    12.624797\n",
      "2024-04-30    12.227755\n",
      "2024-05-31    12.529749\n",
      "2024-06-30    12.028158\n",
      "2024-07-31    11.728609\n",
      "2024-08-31    11.428674\n",
      "2024-09-30    11.928556\n",
      "dtype: float64\n"
     ]
    },
    {
     "name": "stderr",
     "output_type": "stream",
     "text": [
      "/Users/lucaalbertini/Desktop/JPMorgan_Job/JPmorgvenv/lib/python3.12/site-packages/pandas/core/indexes/base.py:7631: FutureWarning: Dtype inference on a pandas object (Series, Index, ExtensionArray) is deprecated. The Index constructor will keep the original dtype in the future. Call `infer_objects` on the result to get the old behavior.\n",
      "  return Index(index_like, name=name, copy=copy)\n"
     ]
    }
   ],
   "source": [
    "# Append the last point of training to the start of test and predictions\n",
    "last_training_point = training.iloc[-1]\n",
    "# Create new dataframes for test and predictions with an additional first point\n",
    "test_with_last_training = pd.concat([last_training_point.to_frame().T, testing], ignore_index=True)\n",
    "#for pred1\n",
    "pred1 = pd.Series([last_training_point[\"Prices\"]] + list(predictions), index=test_with_last_training[\"Dates\"])\n",
    "#for pred2\n",
    "pred2 = pd.Series([last_training_point[\"Prices\"]] + list(predictions2), index=test_with_last_training[\"Dates\"])\n",
    "print(pred2)\n",
    "\n",
    "pred1.index = pd.to_datetime(pred1.index)\n",
    "pred2.index = pd.to_datetime(pred2.index)"
   ]
  },
  {
   "cell_type": "code",
   "execution_count": 27,
   "metadata": {},
   "outputs": [
    {
     "data": {
      "application/vnd.plotly.v1+json": {
       "config": {
        "plotlyServerURL": "https://plot.ly"
       },
       "data": [
        {
         "line": {
          "color": "mediumblue"
         },
         "mode": "lines",
         "name": "Training Data",
         "type": "scatter",
         "x": [
          "2020-10-31T00:00:00",
          "2020-11-30T00:00:00",
          "2020-12-31T00:00:00",
          "2021-01-31T00:00:00",
          "2021-02-28T00:00:00",
          "2021-03-31T00:00:00",
          "2021-04-30T00:00:00",
          "2021-05-31T00:00:00",
          "2021-06-30T00:00:00",
          "2021-07-31T00:00:00",
          "2021-08-31T00:00:00",
          "2021-09-30T00:00:00",
          "2021-10-31T00:00:00",
          "2021-11-30T00:00:00",
          "2021-12-31T00:00:00",
          "2022-01-31T00:00:00",
          "2022-02-28T00:00:00",
          "2022-03-31T00:00:00",
          "2022-04-30T00:00:00",
          "2022-05-31T00:00:00",
          "2022-06-30T00:00:00",
          "2022-07-31T00:00:00",
          "2022-08-31T00:00:00",
          "2022-09-30T00:00:00",
          "2022-10-31T00:00:00",
          "2022-11-30T00:00:00",
          "2022-12-31T00:00:00",
          "2023-01-31T00:00:00",
          "2023-02-28T00:00:00",
          "2023-03-31T00:00:00",
          "2023-04-30T00:00:00",
          "2023-05-31T00:00:00",
          "2023-06-30T00:00:00",
          "2023-07-31T00:00:00",
          "2023-08-31T00:00:00",
          "2023-09-30T00:00:00"
         ],
         "y": [
          10.1,
          10.3,
          11,
          10.9,
          10.9,
          10.9,
          10.4,
          9.84,
          10,
          10.1,
          10.3,
          10.2,
          10.1,
          11.2,
          11.4,
          11.5,
          11.8,
          11.5,
          10.7,
          10.7,
          10.4,
          10.5,
          10.4,
          10.8,
          11,
          11.6,
          11.6,
          12.1,
          11.7,
          12,
          11.5,
          11.2,
          10.9,
          11.4,
          11.1,
          11.5
         ]
        },
        {
         "line": {
          "color": "lightblue"
         },
         "mode": "lines",
         "name": "Test Data",
         "type": "scatter",
         "x": [
          "2023-09-30T00:00:00",
          "2023-12-31T00:00:00",
          "2024-01-31T00:00:00",
          "2024-02-29T00:00:00",
          "2024-03-31T00:00:00",
          "2024-04-30T00:00:00",
          "2024-05-31T00:00:00",
          "2024-06-30T00:00:00",
          "2024-07-31T00:00:00",
          "2024-08-31T00:00:00",
          "2024-09-30T00:00:00"
         ],
         "y": [
          11.5,
          12.8,
          12.6,
          12.4,
          12.7,
          12.1,
          11.4,
          11.5,
          11.6,
          11.5,
          11.8
         ]
        },
        {
         "line": {
          "color": "darkred"
         },
         "mode": "lines",
         "name": "SARIMA1",
         "type": "scatter",
         "x": [
          "2023-09-30T00:00:00",
          "2023-12-31T00:00:00",
          "2024-01-31T00:00:00",
          "2024-02-29T00:00:00",
          "2024-03-31T00:00:00",
          "2024-04-30T00:00:00",
          "2024-05-31T00:00:00",
          "2024-06-30T00:00:00",
          "2024-07-31T00:00:00",
          "2024-08-31T00:00:00",
          "2024-09-30T00:00:00"
         ],
         "y": [
          11.5,
          11.510157832975638,
          12.13116250797411,
          12.128838491246388,
          12.62909562703883,
          12.229067176806536,
          12.529070324620811,
          12.029069976337725,
          11.72907001487275,
          11.429070010609127,
          11.929070011080867
         ]
        },
        {
         "line": {
          "color": "darkgreen"
         },
         "mode": "lines",
         "name": "SARIMA2",
         "type": "scatter",
         "x": [
          "2023-09-30T00:00:00",
          "2023-12-31T00:00:00",
          "2024-01-31T00:00:00",
          "2024-02-29T00:00:00",
          "2024-03-31T00:00:00",
          "2024-04-30T00:00:00",
          "2024-05-31T00:00:00",
          "2024-06-30T00:00:00",
          "2024-07-31T00:00:00",
          "2024-08-31T00:00:00",
          "2024-09-30T00:00:00"
         ],
         "y": [
          11.5,
          11.50732803927313,
          12.107429906420633,
          12.143582230262384,
          12.624796526506238,
          12.227754704971527,
          12.529749166011031,
          12.028157972716702,
          11.728609174939765,
          11.428673960137104,
          11.928555544425066
         ]
        }
       ],
       "layout": {
        "hovermode": "x unified",
        "legend": {
         "title": {
          "text": "Data"
         }
        },
        "template": {
         "data": {
          "bar": [
           {
            "error_x": {
             "color": "#2a3f5f"
            },
            "error_y": {
             "color": "#2a3f5f"
            },
            "marker": {
             "line": {
              "color": "white",
              "width": 0.5
             },
             "pattern": {
              "fillmode": "overlay",
              "size": 10,
              "solidity": 0.2
             }
            },
            "type": "bar"
           }
          ],
          "barpolar": [
           {
            "marker": {
             "line": {
              "color": "white",
              "width": 0.5
             },
             "pattern": {
              "fillmode": "overlay",
              "size": 10,
              "solidity": 0.2
             }
            },
            "type": "barpolar"
           }
          ],
          "carpet": [
           {
            "aaxis": {
             "endlinecolor": "#2a3f5f",
             "gridcolor": "#C8D4E3",
             "linecolor": "#C8D4E3",
             "minorgridcolor": "#C8D4E3",
             "startlinecolor": "#2a3f5f"
            },
            "baxis": {
             "endlinecolor": "#2a3f5f",
             "gridcolor": "#C8D4E3",
             "linecolor": "#C8D4E3",
             "minorgridcolor": "#C8D4E3",
             "startlinecolor": "#2a3f5f"
            },
            "type": "carpet"
           }
          ],
          "choropleth": [
           {
            "colorbar": {
             "outlinewidth": 0,
             "ticks": ""
            },
            "type": "choropleth"
           }
          ],
          "contour": [
           {
            "colorbar": {
             "outlinewidth": 0,
             "ticks": ""
            },
            "colorscale": [
             [
              0,
              "#0d0887"
             ],
             [
              0.1111111111111111,
              "#46039f"
             ],
             [
              0.2222222222222222,
              "#7201a8"
             ],
             [
              0.3333333333333333,
              "#9c179e"
             ],
             [
              0.4444444444444444,
              "#bd3786"
             ],
             [
              0.5555555555555556,
              "#d8576b"
             ],
             [
              0.6666666666666666,
              "#ed7953"
             ],
             [
              0.7777777777777778,
              "#fb9f3a"
             ],
             [
              0.8888888888888888,
              "#fdca26"
             ],
             [
              1,
              "#f0f921"
             ]
            ],
            "type": "contour"
           }
          ],
          "contourcarpet": [
           {
            "colorbar": {
             "outlinewidth": 0,
             "ticks": ""
            },
            "type": "contourcarpet"
           }
          ],
          "heatmap": [
           {
            "colorbar": {
             "outlinewidth": 0,
             "ticks": ""
            },
            "colorscale": [
             [
              0,
              "#0d0887"
             ],
             [
              0.1111111111111111,
              "#46039f"
             ],
             [
              0.2222222222222222,
              "#7201a8"
             ],
             [
              0.3333333333333333,
              "#9c179e"
             ],
             [
              0.4444444444444444,
              "#bd3786"
             ],
             [
              0.5555555555555556,
              "#d8576b"
             ],
             [
              0.6666666666666666,
              "#ed7953"
             ],
             [
              0.7777777777777778,
              "#fb9f3a"
             ],
             [
              0.8888888888888888,
              "#fdca26"
             ],
             [
              1,
              "#f0f921"
             ]
            ],
            "type": "heatmap"
           }
          ],
          "heatmapgl": [
           {
            "colorbar": {
             "outlinewidth": 0,
             "ticks": ""
            },
            "colorscale": [
             [
              0,
              "#0d0887"
             ],
             [
              0.1111111111111111,
              "#46039f"
             ],
             [
              0.2222222222222222,
              "#7201a8"
             ],
             [
              0.3333333333333333,
              "#9c179e"
             ],
             [
              0.4444444444444444,
              "#bd3786"
             ],
             [
              0.5555555555555556,
              "#d8576b"
             ],
             [
              0.6666666666666666,
              "#ed7953"
             ],
             [
              0.7777777777777778,
              "#fb9f3a"
             ],
             [
              0.8888888888888888,
              "#fdca26"
             ],
             [
              1,
              "#f0f921"
             ]
            ],
            "type": "heatmapgl"
           }
          ],
          "histogram": [
           {
            "marker": {
             "pattern": {
              "fillmode": "overlay",
              "size": 10,
              "solidity": 0.2
             }
            },
            "type": "histogram"
           }
          ],
          "histogram2d": [
           {
            "colorbar": {
             "outlinewidth": 0,
             "ticks": ""
            },
            "colorscale": [
             [
              0,
              "#0d0887"
             ],
             [
              0.1111111111111111,
              "#46039f"
             ],
             [
              0.2222222222222222,
              "#7201a8"
             ],
             [
              0.3333333333333333,
              "#9c179e"
             ],
             [
              0.4444444444444444,
              "#bd3786"
             ],
             [
              0.5555555555555556,
              "#d8576b"
             ],
             [
              0.6666666666666666,
              "#ed7953"
             ],
             [
              0.7777777777777778,
              "#fb9f3a"
             ],
             [
              0.8888888888888888,
              "#fdca26"
             ],
             [
              1,
              "#f0f921"
             ]
            ],
            "type": "histogram2d"
           }
          ],
          "histogram2dcontour": [
           {
            "colorbar": {
             "outlinewidth": 0,
             "ticks": ""
            },
            "colorscale": [
             [
              0,
              "#0d0887"
             ],
             [
              0.1111111111111111,
              "#46039f"
             ],
             [
              0.2222222222222222,
              "#7201a8"
             ],
             [
              0.3333333333333333,
              "#9c179e"
             ],
             [
              0.4444444444444444,
              "#bd3786"
             ],
             [
              0.5555555555555556,
              "#d8576b"
             ],
             [
              0.6666666666666666,
              "#ed7953"
             ],
             [
              0.7777777777777778,
              "#fb9f3a"
             ],
             [
              0.8888888888888888,
              "#fdca26"
             ],
             [
              1,
              "#f0f921"
             ]
            ],
            "type": "histogram2dcontour"
           }
          ],
          "mesh3d": [
           {
            "colorbar": {
             "outlinewidth": 0,
             "ticks": ""
            },
            "type": "mesh3d"
           }
          ],
          "parcoords": [
           {
            "line": {
             "colorbar": {
              "outlinewidth": 0,
              "ticks": ""
             }
            },
            "type": "parcoords"
           }
          ],
          "pie": [
           {
            "automargin": true,
            "type": "pie"
           }
          ],
          "scatter": [
           {
            "fillpattern": {
             "fillmode": "overlay",
             "size": 10,
             "solidity": 0.2
            },
            "type": "scatter"
           }
          ],
          "scatter3d": [
           {
            "line": {
             "colorbar": {
              "outlinewidth": 0,
              "ticks": ""
             }
            },
            "marker": {
             "colorbar": {
              "outlinewidth": 0,
              "ticks": ""
             }
            },
            "type": "scatter3d"
           }
          ],
          "scattercarpet": [
           {
            "marker": {
             "colorbar": {
              "outlinewidth": 0,
              "ticks": ""
             }
            },
            "type": "scattercarpet"
           }
          ],
          "scattergeo": [
           {
            "marker": {
             "colorbar": {
              "outlinewidth": 0,
              "ticks": ""
             }
            },
            "type": "scattergeo"
           }
          ],
          "scattergl": [
           {
            "marker": {
             "colorbar": {
              "outlinewidth": 0,
              "ticks": ""
             }
            },
            "type": "scattergl"
           }
          ],
          "scattermapbox": [
           {
            "marker": {
             "colorbar": {
              "outlinewidth": 0,
              "ticks": ""
             }
            },
            "type": "scattermapbox"
           }
          ],
          "scatterpolar": [
           {
            "marker": {
             "colorbar": {
              "outlinewidth": 0,
              "ticks": ""
             }
            },
            "type": "scatterpolar"
           }
          ],
          "scatterpolargl": [
           {
            "marker": {
             "colorbar": {
              "outlinewidth": 0,
              "ticks": ""
             }
            },
            "type": "scatterpolargl"
           }
          ],
          "scatterternary": [
           {
            "marker": {
             "colorbar": {
              "outlinewidth": 0,
              "ticks": ""
             }
            },
            "type": "scatterternary"
           }
          ],
          "surface": [
           {
            "colorbar": {
             "outlinewidth": 0,
             "ticks": ""
            },
            "colorscale": [
             [
              0,
              "#0d0887"
             ],
             [
              0.1111111111111111,
              "#46039f"
             ],
             [
              0.2222222222222222,
              "#7201a8"
             ],
             [
              0.3333333333333333,
              "#9c179e"
             ],
             [
              0.4444444444444444,
              "#bd3786"
             ],
             [
              0.5555555555555556,
              "#d8576b"
             ],
             [
              0.6666666666666666,
              "#ed7953"
             ],
             [
              0.7777777777777778,
              "#fb9f3a"
             ],
             [
              0.8888888888888888,
              "#fdca26"
             ],
             [
              1,
              "#f0f921"
             ]
            ],
            "type": "surface"
           }
          ],
          "table": [
           {
            "cells": {
             "fill": {
              "color": "#EBF0F8"
             },
             "line": {
              "color": "white"
             }
            },
            "header": {
             "fill": {
              "color": "#C8D4E3"
             },
             "line": {
              "color": "white"
             }
            },
            "type": "table"
           }
          ]
         },
         "layout": {
          "annotationdefaults": {
           "arrowcolor": "#2a3f5f",
           "arrowhead": 0,
           "arrowwidth": 1
          },
          "autotypenumbers": "strict",
          "coloraxis": {
           "colorbar": {
            "outlinewidth": 0,
            "ticks": ""
           }
          },
          "colorscale": {
           "diverging": [
            [
             0,
             "#8e0152"
            ],
            [
             0.1,
             "#c51b7d"
            ],
            [
             0.2,
             "#de77ae"
            ],
            [
             0.3,
             "#f1b6da"
            ],
            [
             0.4,
             "#fde0ef"
            ],
            [
             0.5,
             "#f7f7f7"
            ],
            [
             0.6,
             "#e6f5d0"
            ],
            [
             0.7,
             "#b8e186"
            ],
            [
             0.8,
             "#7fbc41"
            ],
            [
             0.9,
             "#4d9221"
            ],
            [
             1,
             "#276419"
            ]
           ],
           "sequential": [
            [
             0,
             "#0d0887"
            ],
            [
             0.1111111111111111,
             "#46039f"
            ],
            [
             0.2222222222222222,
             "#7201a8"
            ],
            [
             0.3333333333333333,
             "#9c179e"
            ],
            [
             0.4444444444444444,
             "#bd3786"
            ],
            [
             0.5555555555555556,
             "#d8576b"
            ],
            [
             0.6666666666666666,
             "#ed7953"
            ],
            [
             0.7777777777777778,
             "#fb9f3a"
            ],
            [
             0.8888888888888888,
             "#fdca26"
            ],
            [
             1,
             "#f0f921"
            ]
           ],
           "sequentialminus": [
            [
             0,
             "#0d0887"
            ],
            [
             0.1111111111111111,
             "#46039f"
            ],
            [
             0.2222222222222222,
             "#7201a8"
            ],
            [
             0.3333333333333333,
             "#9c179e"
            ],
            [
             0.4444444444444444,
             "#bd3786"
            ],
            [
             0.5555555555555556,
             "#d8576b"
            ],
            [
             0.6666666666666666,
             "#ed7953"
            ],
            [
             0.7777777777777778,
             "#fb9f3a"
            ],
            [
             0.8888888888888888,
             "#fdca26"
            ],
            [
             1,
             "#f0f921"
            ]
           ]
          },
          "colorway": [
           "#636efa",
           "#EF553B",
           "#00cc96",
           "#ab63fa",
           "#FFA15A",
           "#19d3f3",
           "#FF6692",
           "#B6E880",
           "#FF97FF",
           "#FECB52"
          ],
          "font": {
           "color": "#2a3f5f"
          },
          "geo": {
           "bgcolor": "white",
           "lakecolor": "white",
           "landcolor": "white",
           "showlakes": true,
           "showland": true,
           "subunitcolor": "#C8D4E3"
          },
          "hoverlabel": {
           "align": "left"
          },
          "hovermode": "closest",
          "mapbox": {
           "style": "light"
          },
          "paper_bgcolor": "white",
          "plot_bgcolor": "white",
          "polar": {
           "angularaxis": {
            "gridcolor": "#EBF0F8",
            "linecolor": "#EBF0F8",
            "ticks": ""
           },
           "bgcolor": "white",
           "radialaxis": {
            "gridcolor": "#EBF0F8",
            "linecolor": "#EBF0F8",
            "ticks": ""
           }
          },
          "scene": {
           "xaxis": {
            "backgroundcolor": "white",
            "gridcolor": "#DFE8F3",
            "gridwidth": 2,
            "linecolor": "#EBF0F8",
            "showbackground": true,
            "ticks": "",
            "zerolinecolor": "#EBF0F8"
           },
           "yaxis": {
            "backgroundcolor": "white",
            "gridcolor": "#DFE8F3",
            "gridwidth": 2,
            "linecolor": "#EBF0F8",
            "showbackground": true,
            "ticks": "",
            "zerolinecolor": "#EBF0F8"
           },
           "zaxis": {
            "backgroundcolor": "white",
            "gridcolor": "#DFE8F3",
            "gridwidth": 2,
            "linecolor": "#EBF0F8",
            "showbackground": true,
            "ticks": "",
            "zerolinecolor": "#EBF0F8"
           }
          },
          "shapedefaults": {
           "line": {
            "color": "#2a3f5f"
           }
          },
          "ternary": {
           "aaxis": {
            "gridcolor": "#DFE8F3",
            "linecolor": "#A2B1C6",
            "ticks": ""
           },
           "baxis": {
            "gridcolor": "#DFE8F3",
            "linecolor": "#A2B1C6",
            "ticks": ""
           },
           "bgcolor": "white",
           "caxis": {
            "gridcolor": "#DFE8F3",
            "linecolor": "#A2B1C6",
            "ticks": ""
           }
          },
          "title": {
           "x": 0.05
          },
          "xaxis": {
           "automargin": true,
           "gridcolor": "#EBF0F8",
           "linecolor": "#EBF0F8",
           "ticks": "",
           "title": {
            "standoff": 15
           },
           "zerolinecolor": "#EBF0F8",
           "zerolinewidth": 2
          },
          "yaxis": {
           "automargin": true,
           "gridcolor": "#EBF0F8",
           "linecolor": "#EBF0F8",
           "ticks": "",
           "title": {
            "standoff": 15
           },
           "zerolinecolor": "#EBF0F8",
           "zerolinewidth": 2
          }
         }
        },
        "title": {
         "text": "SARIMA Forecast vs Actual"
        },
        "xaxis": {
         "title": {
          "text": "Year"
         }
        },
        "yaxis": {
         "title": {
          "text": "NatGas Prices"
         }
        }
       }
      }
     },
     "metadata": {},
     "output_type": "display_data"
    }
   ],
   "source": [
    "# Create an interactive figure\n",
    "fig = go.Figure()\n",
    "\n",
    "# Add training data as a line plot\n",
    "fig.add_trace(go.Scatter(\n",
    "    x=training[\"Dates\"],\n",
    "    y=training[\"Prices\"],\n",
    "    mode='lines',\n",
    "    name='Training Data',\n",
    "    line=dict(color='mediumblue')\n",
    "))\n",
    "\n",
    "# Add test data as a line plot with smooth transition from training data\n",
    "fig.add_trace(go.Scatter(\n",
    "    x=test_with_last_training[\"Dates\"],\n",
    "    y=test_with_last_training[\"Prices\"],\n",
    "    mode='lines',\n",
    "    name='Test Data',\n",
    "    line=dict(color='lightblue')\n",
    "))\n",
    "\n",
    "# Add SARIMA1 predictions as a line plot with smooth transition from training data\n",
    "fig.add_trace(go.Scatter(\n",
    "    x=pred1.index,\n",
    "    y=pred1,\n",
    "    mode='lines',\n",
    "    name='SARIMA1',\n",
    "    line=dict(color='darkred')\n",
    "))\n",
    "\n",
    "# Add SARIMA2 predictions as a line plot with smooth transition from training data\n",
    "fig.add_trace(go.Scatter(\n",
    "    x=pred2.index,\n",
    "    y=pred2,\n",
    "    mode='lines',\n",
    "    name='SARIMA2',\n",
    "    line=dict(color='darkgreen')\n",
    "))\n",
    "\n",
    "# Update layout for the interactive plot\n",
    "fig.update_layout(\n",
    "    title='SARIMA Forecast vs Actual',\n",
    "    xaxis_title='Year',\n",
    "    yaxis_title='NatGas Prices',\n",
    "    legend_title='Data',\n",
    "    template='plotly_white',\n",
    "    hovermode='x unified'  # Show hover information for all traces at the same x-value\n",
    ")\n",
    "\n",
    "# Save the figure to the img directory\n",
    "#save_plotly_figure(fig, 'img/ARIMAtest', format='png')\n",
    "\n",
    "# Display the interactive plot\n",
    "fig.show()"
   ]
  },
  {
   "cell_type": "markdown",
   "metadata": {},
   "source": [
    "Step 22. Results are not Good. Let's try a prophet model"
   ]
  },
  {
   "cell_type": "code",
   "execution_count": 28,
   "metadata": {},
   "outputs": [
    {
     "name": "stderr",
     "output_type": "stream",
     "text": [
      "23:58:37 - cmdstanpy - INFO - CmdStan start processing\n"
     ]
    },
    {
     "name": "stdout",
     "output_type": "stream",
     "text": [
      "           ds      y\n",
      "0  2020-10-31  10.10\n",
      "1  2020-11-30  10.30\n",
      "2  2020-12-31  11.00\n",
      "3  2021-01-31  10.90\n",
      "4  2021-02-28  10.90\n",
      "5  2021-03-31  10.90\n",
      "6  2021-04-30  10.40\n",
      "7  2021-05-31   9.84\n",
      "8  2021-06-30  10.00\n",
      "9  2021-07-31  10.10\n",
      "10 2021-08-31  10.30\n",
      "11 2021-09-30  10.20\n",
      "12 2021-10-31  10.10\n",
      "13 2021-11-30  11.20\n",
      "14 2021-12-31  11.40\n",
      "15 2022-01-31  11.50\n",
      "16 2022-02-28  11.80\n",
      "17 2022-03-31  11.50\n",
      "18 2022-04-30  10.70\n",
      "19 2022-05-31  10.70\n",
      "20 2022-06-30  10.40\n",
      "21 2022-07-31  10.50\n",
      "22 2022-08-31  10.40\n",
      "23 2022-09-30  10.80\n",
      "24 2022-10-31  11.00\n",
      "25 2022-11-30  11.60\n",
      "26 2022-12-31  11.60\n",
      "27 2023-01-31  12.10\n",
      "28 2023-02-28  11.70\n",
      "29 2023-03-31  12.00\n",
      "30 2023-04-30  11.50\n",
      "31 2023-05-31  11.20\n",
      "32 2023-06-30  10.90\n",
      "33 2023-07-31  11.40\n",
      "34 2023-08-31  11.10\n",
      "35 2023-09-30  11.50\n"
     ]
    },
    {
     "name": "stderr",
     "output_type": "stream",
     "text": [
      "chain 1 |\u001b[33m          \u001b[0m| 00:00 Status\n",
      "\u001b[A\n",
      "\n",
      "\u001b[A\u001b[A\n",
      "\u001b[A\n",
      "\n",
      "chain 1 |\u001b[33m████      \u001b[0m| 00:00 Iteration:   1 / 360 [  0%]  (Warmup)\n",
      "\u001b[A\n",
      "\n",
      "chain 1 |\u001b[34m██████    \u001b[0m| 00:00 Iteration: 100 / 360 [ 27%]  (Warmup)\n",
      "\u001b[A\n",
      "\n",
      "chain 1 |\u001b[34m████████  \u001b[0m| 00:01 Iteration: 181 / 360 [ 50%]  (Sampling)\n",
      "\u001b[A\n",
      "\n",
      "chain 1 |\u001b[34m██████████\u001b[0m| 00:01 Sampling completed                     \n",
      "chain 2 |\u001b[34m██████████\u001b[0m| 00:01 Sampling completed                     \n",
      "chain 3 |\u001b[34m██████████\u001b[0m| 00:01 Sampling completed                     \n",
      "chain 4 |\u001b[34m██████████\u001b[0m| 00:01 Sampling completed                     "
     ]
    },
    {
     "name": "stdout",
     "output_type": "stream",
     "text": [
      "                                                                                                                                                                                                                                                                                                                                "
     ]
    },
    {
     "name": "stderr",
     "output_type": "stream",
     "text": [
      "\n",
      "23:58:39 - cmdstanpy - INFO - CmdStan done processing.\n",
      "23:58:39 - cmdstanpy - WARNING - Non-fatal error during sampling:\n",
      "Exception: normal_id_glm_lpdf: Scale vector is 0, but must be positive finite! (in 'prophet.stan', line 137, column 2 to line 142, column 4)\n",
      "Exception: normal_id_glm_lpdf: Matrix of independent variables is inf, but must be finite! (in 'prophet.stan', line 137, column 2 to line 142, column 4)\n",
      "Exception: normal_id_glm_lpdf: Matrix of independent variables is inf, but must be finite! (in 'prophet.stan', line 137, column 2 to line 142, column 4)\n",
      "Exception: normal_id_glm_lpdf: Scale vector is 0, but must be positive finite! (in 'prophet.stan', line 137, column 2 to line 142, column 4)\n",
      "Consider re-running with show_console=True if the above output is unclear!\n",
      "23:58:39 - cmdstanpy - WARNING - Some chains may have failed to converge.\n",
      "\tChain 2 had 1 iterations at max treedepth (0.6%)\n",
      "\tUse the \"diagnose()\" method on the CmdStanMCMC object to see further information.\n"
     ]
    },
    {
     "name": "stdout",
     "output_type": "stream",
     "text": [
      "\n"
     ]
    }
   ],
   "source": [
    "#filter the training to keep just the 2 useful columns\n",
    "trainingRed = training[[\"Dates\", \"Prices\"]]\n",
    "trainingRed = trainingRed.rename(columns={'Dates':'ds', 'Prices':'y'})\n",
    "print(trainingRed)\n",
    "\n",
    "#build the model (Prophet)\n",
    "propMod = Prophet(seasonality_mode='multiplicative', mcmc_samples=360)\n",
    "#fit the model\n",
    "propMod.fit(trainingRed)\n",
    "fut = propMod.make_future_dataframe(periods=24, freq='ME')\n",
    "forecast = propMod.predict(fut)"
   ]
  },
  {
   "cell_type": "markdown",
   "metadata": {},
   "source": [
    "Step23. Plot the results"
   ]
  },
  {
   "cell_type": "code",
   "execution_count": 29,
   "metadata": {},
   "outputs": [
    {
     "data": {
      "application/vnd.plotly.v1+json": {
       "config": {
        "plotlyServerURL": "https://plot.ly"
       },
       "data": [
        {
         "marker": {
          "color": "black",
          "size": 4
         },
         "mode": "markers",
         "name": "Actual",
         "type": "scatter",
         "x": [
          "2020-10-31T00:00:00",
          "2020-11-30T00:00:00",
          "2020-12-31T00:00:00",
          "2021-01-31T00:00:00",
          "2021-02-28T00:00:00",
          "2021-03-31T00:00:00",
          "2021-04-30T00:00:00",
          "2021-05-31T00:00:00",
          "2021-06-30T00:00:00",
          "2021-07-31T00:00:00",
          "2021-08-31T00:00:00",
          "2021-09-30T00:00:00",
          "2021-10-31T00:00:00",
          "2021-11-30T00:00:00",
          "2021-12-31T00:00:00",
          "2022-01-31T00:00:00",
          "2022-02-28T00:00:00",
          "2022-03-31T00:00:00",
          "2022-04-30T00:00:00",
          "2022-05-31T00:00:00",
          "2022-06-30T00:00:00",
          "2022-07-31T00:00:00",
          "2022-08-31T00:00:00",
          "2022-09-30T00:00:00",
          "2022-10-31T00:00:00",
          "2022-11-30T00:00:00",
          "2022-12-31T00:00:00",
          "2023-01-31T00:00:00",
          "2023-02-28T00:00:00",
          "2023-03-31T00:00:00",
          "2023-04-30T00:00:00",
          "2023-05-31T00:00:00",
          "2023-06-30T00:00:00",
          "2023-07-31T00:00:00",
          "2023-08-31T00:00:00",
          "2023-09-30T00:00:00"
         ],
         "y": [
          10.1,
          10.3,
          11,
          10.9,
          10.9,
          10.9,
          10.4,
          9.84,
          10,
          10.1,
          10.3,
          10.2,
          10.1,
          11.2,
          11.4,
          11.5,
          11.8,
          11.5,
          10.7,
          10.7,
          10.4,
          10.5,
          10.4,
          10.8,
          11,
          11.6,
          11.6,
          12.1,
          11.7,
          12,
          11.5,
          11.2,
          10.9,
          11.4,
          11.1,
          11.5
         ]
        },
        {
         "hoverinfo": "skip",
         "line": {
          "width": 0
         },
         "mode": "lines",
         "type": "scatter",
         "x": [
          "2020-10-31T00:00:00",
          "2020-11-30T00:00:00",
          "2020-12-31T00:00:00",
          "2021-01-31T00:00:00",
          "2021-02-28T00:00:00",
          "2021-03-31T00:00:00",
          "2021-04-30T00:00:00",
          "2021-05-31T00:00:00",
          "2021-06-30T00:00:00",
          "2021-07-31T00:00:00",
          "2021-08-31T00:00:00",
          "2021-09-30T00:00:00",
          "2021-10-31T00:00:00",
          "2021-11-30T00:00:00",
          "2021-12-31T00:00:00",
          "2022-01-31T00:00:00",
          "2022-02-28T00:00:00",
          "2022-03-31T00:00:00",
          "2022-04-30T00:00:00",
          "2022-05-31T00:00:00",
          "2022-06-30T00:00:00",
          "2022-07-31T00:00:00",
          "2022-08-31T00:00:00",
          "2022-09-30T00:00:00",
          "2022-10-31T00:00:00",
          "2022-11-30T00:00:00",
          "2022-12-31T00:00:00",
          "2023-01-31T00:00:00",
          "2023-02-28T00:00:00",
          "2023-03-31T00:00:00",
          "2023-04-30T00:00:00",
          "2023-05-31T00:00:00",
          "2023-06-30T00:00:00",
          "2023-07-31T00:00:00",
          "2023-08-31T00:00:00",
          "2023-09-30T00:00:00",
          "2023-10-31T00:00:00",
          "2023-11-30T00:00:00",
          "2023-12-31T00:00:00",
          "2024-01-31T00:00:00",
          "2024-02-29T00:00:00",
          "2024-03-31T00:00:00",
          "2024-04-30T00:00:00",
          "2024-05-31T00:00:00",
          "2024-06-30T00:00:00",
          "2024-07-31T00:00:00",
          "2024-08-31T00:00:00",
          "2024-09-30T00:00:00",
          "2024-10-31T00:00:00",
          "2024-11-30T00:00:00",
          "2024-12-31T00:00:00",
          "2025-01-31T00:00:00",
          "2025-02-28T00:00:00",
          "2025-03-31T00:00:00",
          "2025-04-30T00:00:00",
          "2025-05-31T00:00:00",
          "2025-06-30T00:00:00",
          "2025-07-31T00:00:00",
          "2025-08-31T00:00:00",
          "2025-09-30T00:00:00"
         ],
         "y": [
          9.566888689372808,
          9.995685867381512,
          10.644353823981898,
          10.475490874895767,
          10.62764428026802,
          10.524061263986596,
          9.914227576182755,
          9.549679347173688,
          9.685766170962218,
          9.708595692076187,
          9.8598659579879,
          9.852671059296425,
          10.05971270447606,
          10.703880280044167,
          11.00157039157644,
          11.154524582829696,
          11.16133819749362,
          11.148858713565492,
          10.51762677309258,
          10.215388188374389,
          10.096109856934808,
          10.26805703907672,
          10.198239023414247,
          10.415502929834835,
          10.449710780642087,
          11.307623890734634,
          11.221191802260389,
          11.684786947920246,
          11.498832373606183,
          11.659819538148456,
          11.037485647858315,
          10.860219572770324,
          10.490728608808892,
          10.914749301799112,
          10.64178441183723,
          11.135186004553734,
          10.988569321535044,
          12.059191521213535,
          11.626506013370838,
          12.441659639762529,
          12.380870266706188,
          12.164355059562546,
          11.446253657836758,
          10.918509781370936,
          11.279755352755995,
          11.090869691591491,
          11.527029938041633,
          11.128892823089856,
          11.4413589836751,
          11.969723748055328,
          12.620705605420431,
          12.42989735568985,
          12.594700107357067,
          12.38311473862841,
          11.649007574412497,
          11.164319651008704,
          11.161185483518041,
          11.16211476629071,
          11.317498930125739,
          11.210744932202914
         ]
        },
        {
         "fill": "tonexty",
         "fillcolor": "rgba(0, 114, 178, 0.2)",
         "line": {
          "color": "#0072B2",
          "width": 2
         },
         "mode": "lines",
         "name": "Predicted",
         "type": "scatter",
         "x": [
          "2020-10-31T00:00:00",
          "2020-11-30T00:00:00",
          "2020-12-31T00:00:00",
          "2021-01-31T00:00:00",
          "2021-02-28T00:00:00",
          "2021-03-31T00:00:00",
          "2021-04-30T00:00:00",
          "2021-05-31T00:00:00",
          "2021-06-30T00:00:00",
          "2021-07-31T00:00:00",
          "2021-08-31T00:00:00",
          "2021-09-30T00:00:00",
          "2021-10-31T00:00:00",
          "2021-11-30T00:00:00",
          "2021-12-31T00:00:00",
          "2022-01-31T00:00:00",
          "2022-02-28T00:00:00",
          "2022-03-31T00:00:00",
          "2022-04-30T00:00:00",
          "2022-05-31T00:00:00",
          "2022-06-30T00:00:00",
          "2022-07-31T00:00:00",
          "2022-08-31T00:00:00",
          "2022-09-30T00:00:00",
          "2022-10-31T00:00:00",
          "2022-11-30T00:00:00",
          "2022-12-31T00:00:00",
          "2023-01-31T00:00:00",
          "2023-02-28T00:00:00",
          "2023-03-31T00:00:00",
          "2023-04-30T00:00:00",
          "2023-05-31T00:00:00",
          "2023-06-30T00:00:00",
          "2023-07-31T00:00:00",
          "2023-08-31T00:00:00",
          "2023-09-30T00:00:00",
          "2023-10-31T00:00:00",
          "2023-11-30T00:00:00",
          "2023-12-31T00:00:00",
          "2024-01-31T00:00:00",
          "2024-02-29T00:00:00",
          "2024-03-31T00:00:00",
          "2024-04-30T00:00:00",
          "2024-05-31T00:00:00",
          "2024-06-30T00:00:00",
          "2024-07-31T00:00:00",
          "2024-08-31T00:00:00",
          "2024-09-30T00:00:00",
          "2024-10-31T00:00:00",
          "2024-11-30T00:00:00",
          "2024-12-31T00:00:00",
          "2025-01-31T00:00:00",
          "2025-02-28T00:00:00",
          "2025-03-31T00:00:00",
          "2025-04-30T00:00:00",
          "2025-05-31T00:00:00",
          "2025-06-30T00:00:00",
          "2025-07-31T00:00:00",
          "2025-08-31T00:00:00",
          "2025-09-30T00:00:00"
         ],
         "y": [
          9.956849958349917,
          10.368719108039246,
          11.01565662681093,
          10.872881076882505,
          11.01697615812518,
          10.898793736494083,
          10.303015378503382,
          9.924963856602899,
          10.028471218170008,
          10.071447212204502,
          10.25548427988686,
          10.23870372898604,
          10.403138412285642,
          11.040576712659009,
          11.35972877192813,
          11.513078853166139,
          11.489464208308574,
          11.483531197686078,
          10.854052355942962,
          10.551448227772164,
          10.404772734931358,
          10.608626168779658,
          10.538574944850156,
          10.749958393706445,
          10.852954932322795,
          11.687366658727907,
          11.620186519338526,
          12.091430444084228,
          11.896401882865826,
          12.046988672085918,
          11.424331556213765,
          11.250939588884364,
          10.87489775868648,
          11.311473813937518,
          11.008708501583916,
          11.519771945357428,
          11.589551952831485,
          12.687387967878806,
          12.205177954490152,
          13.040123600640724,
          13.060713410548152,
          12.819793106310797,
          12.132374366541109,
          11.577250852748037,
          11.987273775392174,
          11.852791012285389,
          12.361599191253696,
          12.076719274029584,
          12.342101008922496,
          12.89089487470994,
          13.733129081519959,
          13.589069694102019,
          13.797774568136193,
          13.67517785703769,
          12.945355793526936,
          12.483608893723634,
          12.626663591416472,
          12.690516105717439,
          12.928838463773587,
          12.911336603346147
         ]
        },
        {
         "fill": "tonexty",
         "fillcolor": "rgba(0, 114, 178, 0.2)",
         "hoverinfo": "skip",
         "line": {
          "width": 0
         },
         "mode": "lines",
         "type": "scatter",
         "x": [
          "2020-10-31T00:00:00",
          "2020-11-30T00:00:00",
          "2020-12-31T00:00:00",
          "2021-01-31T00:00:00",
          "2021-02-28T00:00:00",
          "2021-03-31T00:00:00",
          "2021-04-30T00:00:00",
          "2021-05-31T00:00:00",
          "2021-06-30T00:00:00",
          "2021-07-31T00:00:00",
          "2021-08-31T00:00:00",
          "2021-09-30T00:00:00",
          "2021-10-31T00:00:00",
          "2021-11-30T00:00:00",
          "2021-12-31T00:00:00",
          "2022-01-31T00:00:00",
          "2022-02-28T00:00:00",
          "2022-03-31T00:00:00",
          "2022-04-30T00:00:00",
          "2022-05-31T00:00:00",
          "2022-06-30T00:00:00",
          "2022-07-31T00:00:00",
          "2022-08-31T00:00:00",
          "2022-09-30T00:00:00",
          "2022-10-31T00:00:00",
          "2022-11-30T00:00:00",
          "2022-12-31T00:00:00",
          "2023-01-31T00:00:00",
          "2023-02-28T00:00:00",
          "2023-03-31T00:00:00",
          "2023-04-30T00:00:00",
          "2023-05-31T00:00:00",
          "2023-06-30T00:00:00",
          "2023-07-31T00:00:00",
          "2023-08-31T00:00:00",
          "2023-09-30T00:00:00",
          "2023-10-31T00:00:00",
          "2023-11-30T00:00:00",
          "2023-12-31T00:00:00",
          "2024-01-31T00:00:00",
          "2024-02-29T00:00:00",
          "2024-03-31T00:00:00",
          "2024-04-30T00:00:00",
          "2024-05-31T00:00:00",
          "2024-06-30T00:00:00",
          "2024-07-31T00:00:00",
          "2024-08-31T00:00:00",
          "2024-09-30T00:00:00",
          "2024-10-31T00:00:00",
          "2024-11-30T00:00:00",
          "2024-12-31T00:00:00",
          "2025-01-31T00:00:00",
          "2025-02-28T00:00:00",
          "2025-03-31T00:00:00",
          "2025-04-30T00:00:00",
          "2025-05-31T00:00:00",
          "2025-06-30T00:00:00",
          "2025-07-31T00:00:00",
          "2025-08-31T00:00:00",
          "2025-09-30T00:00:00"
         ],
         "y": [
          10.353849588081028,
          10.754249963218275,
          11.387719025728362,
          11.241600002466278,
          11.39169406990246,
          11.275989461064476,
          10.68963177770774,
          10.298479557059274,
          10.392965200328817,
          10.425313372959417,
          10.62173891610156,
          10.639735987628649,
          10.741335409866032,
          11.390719961362358,
          11.690672590706399,
          11.831856452391264,
          11.820995034633514,
          11.827525069276827,
          11.198730211660846,
          10.887299753467353,
          10.748840681594798,
          10.951039440636352,
          10.864904108130405,
          11.090544476697108,
          11.239892552181148,
          12.077750441077836,
          12.00809837013911,
          12.474938806499884,
          12.306279942916564,
          12.455990313575025,
          11.798642106392245,
          11.617656731924626,
          11.247225447688818,
          11.709897209424177,
          11.404484997254961,
          11.918664136563665,
          12.178479557348817,
          13.296594684227985,
          12.771916330854404,
          13.637984912857082,
          13.728540364451012,
          13.509983107168889,
          12.796321507880979,
          12.296223498883482,
          12.720157629448668,
          12.62337321179995,
          13.210120153776796,
          13.086114670664225,
          13.280805997497866,
          13.955422345440043,
          14.930029170731466,
          14.846754627605954,
          15.207125165049126,
          15.094789112024925,
          14.407753142976953,
          13.885597549150432,
          14.178144050181643,
          14.362230325482312,
          14.71393382171502,
          14.81158417161101
         ]
        }
       ],
       "layout": {
        "height": 600,
        "legend": {
         "bgcolor": "rgba(255, 255, 255, 0.5)",
         "bordercolor": "black",
         "borderwidth": 1,
         "title": {
          "text": "Data Series"
         },
         "traceorder": "normal",
         "x": 0.02,
         "y": 0.98
        },
        "showlegend": false,
        "template": {
         "data": {
          "bar": [
           {
            "error_x": {
             "color": "#2a3f5f"
            },
            "error_y": {
             "color": "#2a3f5f"
            },
            "marker": {
             "line": {
              "color": "#E5ECF6",
              "width": 0.5
             },
             "pattern": {
              "fillmode": "overlay",
              "size": 10,
              "solidity": 0.2
             }
            },
            "type": "bar"
           }
          ],
          "barpolar": [
           {
            "marker": {
             "line": {
              "color": "#E5ECF6",
              "width": 0.5
             },
             "pattern": {
              "fillmode": "overlay",
              "size": 10,
              "solidity": 0.2
             }
            },
            "type": "barpolar"
           }
          ],
          "carpet": [
           {
            "aaxis": {
             "endlinecolor": "#2a3f5f",
             "gridcolor": "white",
             "linecolor": "white",
             "minorgridcolor": "white",
             "startlinecolor": "#2a3f5f"
            },
            "baxis": {
             "endlinecolor": "#2a3f5f",
             "gridcolor": "white",
             "linecolor": "white",
             "minorgridcolor": "white",
             "startlinecolor": "#2a3f5f"
            },
            "type": "carpet"
           }
          ],
          "choropleth": [
           {
            "colorbar": {
             "outlinewidth": 0,
             "ticks": ""
            },
            "type": "choropleth"
           }
          ],
          "contour": [
           {
            "colorbar": {
             "outlinewidth": 0,
             "ticks": ""
            },
            "colorscale": [
             [
              0,
              "#0d0887"
             ],
             [
              0.1111111111111111,
              "#46039f"
             ],
             [
              0.2222222222222222,
              "#7201a8"
             ],
             [
              0.3333333333333333,
              "#9c179e"
             ],
             [
              0.4444444444444444,
              "#bd3786"
             ],
             [
              0.5555555555555556,
              "#d8576b"
             ],
             [
              0.6666666666666666,
              "#ed7953"
             ],
             [
              0.7777777777777778,
              "#fb9f3a"
             ],
             [
              0.8888888888888888,
              "#fdca26"
             ],
             [
              1,
              "#f0f921"
             ]
            ],
            "type": "contour"
           }
          ],
          "contourcarpet": [
           {
            "colorbar": {
             "outlinewidth": 0,
             "ticks": ""
            },
            "type": "contourcarpet"
           }
          ],
          "heatmap": [
           {
            "colorbar": {
             "outlinewidth": 0,
             "ticks": ""
            },
            "colorscale": [
             [
              0,
              "#0d0887"
             ],
             [
              0.1111111111111111,
              "#46039f"
             ],
             [
              0.2222222222222222,
              "#7201a8"
             ],
             [
              0.3333333333333333,
              "#9c179e"
             ],
             [
              0.4444444444444444,
              "#bd3786"
             ],
             [
              0.5555555555555556,
              "#d8576b"
             ],
             [
              0.6666666666666666,
              "#ed7953"
             ],
             [
              0.7777777777777778,
              "#fb9f3a"
             ],
             [
              0.8888888888888888,
              "#fdca26"
             ],
             [
              1,
              "#f0f921"
             ]
            ],
            "type": "heatmap"
           }
          ],
          "heatmapgl": [
           {
            "colorbar": {
             "outlinewidth": 0,
             "ticks": ""
            },
            "colorscale": [
             [
              0,
              "#0d0887"
             ],
             [
              0.1111111111111111,
              "#46039f"
             ],
             [
              0.2222222222222222,
              "#7201a8"
             ],
             [
              0.3333333333333333,
              "#9c179e"
             ],
             [
              0.4444444444444444,
              "#bd3786"
             ],
             [
              0.5555555555555556,
              "#d8576b"
             ],
             [
              0.6666666666666666,
              "#ed7953"
             ],
             [
              0.7777777777777778,
              "#fb9f3a"
             ],
             [
              0.8888888888888888,
              "#fdca26"
             ],
             [
              1,
              "#f0f921"
             ]
            ],
            "type": "heatmapgl"
           }
          ],
          "histogram": [
           {
            "marker": {
             "pattern": {
              "fillmode": "overlay",
              "size": 10,
              "solidity": 0.2
             }
            },
            "type": "histogram"
           }
          ],
          "histogram2d": [
           {
            "colorbar": {
             "outlinewidth": 0,
             "ticks": ""
            },
            "colorscale": [
             [
              0,
              "#0d0887"
             ],
             [
              0.1111111111111111,
              "#46039f"
             ],
             [
              0.2222222222222222,
              "#7201a8"
             ],
             [
              0.3333333333333333,
              "#9c179e"
             ],
             [
              0.4444444444444444,
              "#bd3786"
             ],
             [
              0.5555555555555556,
              "#d8576b"
             ],
             [
              0.6666666666666666,
              "#ed7953"
             ],
             [
              0.7777777777777778,
              "#fb9f3a"
             ],
             [
              0.8888888888888888,
              "#fdca26"
             ],
             [
              1,
              "#f0f921"
             ]
            ],
            "type": "histogram2d"
           }
          ],
          "histogram2dcontour": [
           {
            "colorbar": {
             "outlinewidth": 0,
             "ticks": ""
            },
            "colorscale": [
             [
              0,
              "#0d0887"
             ],
             [
              0.1111111111111111,
              "#46039f"
             ],
             [
              0.2222222222222222,
              "#7201a8"
             ],
             [
              0.3333333333333333,
              "#9c179e"
             ],
             [
              0.4444444444444444,
              "#bd3786"
             ],
             [
              0.5555555555555556,
              "#d8576b"
             ],
             [
              0.6666666666666666,
              "#ed7953"
             ],
             [
              0.7777777777777778,
              "#fb9f3a"
             ],
             [
              0.8888888888888888,
              "#fdca26"
             ],
             [
              1,
              "#f0f921"
             ]
            ],
            "type": "histogram2dcontour"
           }
          ],
          "mesh3d": [
           {
            "colorbar": {
             "outlinewidth": 0,
             "ticks": ""
            },
            "type": "mesh3d"
           }
          ],
          "parcoords": [
           {
            "line": {
             "colorbar": {
              "outlinewidth": 0,
              "ticks": ""
             }
            },
            "type": "parcoords"
           }
          ],
          "pie": [
           {
            "automargin": true,
            "type": "pie"
           }
          ],
          "scatter": [
           {
            "fillpattern": {
             "fillmode": "overlay",
             "size": 10,
             "solidity": 0.2
            },
            "type": "scatter"
           }
          ],
          "scatter3d": [
           {
            "line": {
             "colorbar": {
              "outlinewidth": 0,
              "ticks": ""
             }
            },
            "marker": {
             "colorbar": {
              "outlinewidth": 0,
              "ticks": ""
             }
            },
            "type": "scatter3d"
           }
          ],
          "scattercarpet": [
           {
            "marker": {
             "colorbar": {
              "outlinewidth": 0,
              "ticks": ""
             }
            },
            "type": "scattercarpet"
           }
          ],
          "scattergeo": [
           {
            "marker": {
             "colorbar": {
              "outlinewidth": 0,
              "ticks": ""
             }
            },
            "type": "scattergeo"
           }
          ],
          "scattergl": [
           {
            "marker": {
             "colorbar": {
              "outlinewidth": 0,
              "ticks": ""
             }
            },
            "type": "scattergl"
           }
          ],
          "scattermapbox": [
           {
            "marker": {
             "colorbar": {
              "outlinewidth": 0,
              "ticks": ""
             }
            },
            "type": "scattermapbox"
           }
          ],
          "scatterpolar": [
           {
            "marker": {
             "colorbar": {
              "outlinewidth": 0,
              "ticks": ""
             }
            },
            "type": "scatterpolar"
           }
          ],
          "scatterpolargl": [
           {
            "marker": {
             "colorbar": {
              "outlinewidth": 0,
              "ticks": ""
             }
            },
            "type": "scatterpolargl"
           }
          ],
          "scatterternary": [
           {
            "marker": {
             "colorbar": {
              "outlinewidth": 0,
              "ticks": ""
             }
            },
            "type": "scatterternary"
           }
          ],
          "surface": [
           {
            "colorbar": {
             "outlinewidth": 0,
             "ticks": ""
            },
            "colorscale": [
             [
              0,
              "#0d0887"
             ],
             [
              0.1111111111111111,
              "#46039f"
             ],
             [
              0.2222222222222222,
              "#7201a8"
             ],
             [
              0.3333333333333333,
              "#9c179e"
             ],
             [
              0.4444444444444444,
              "#bd3786"
             ],
             [
              0.5555555555555556,
              "#d8576b"
             ],
             [
              0.6666666666666666,
              "#ed7953"
             ],
             [
              0.7777777777777778,
              "#fb9f3a"
             ],
             [
              0.8888888888888888,
              "#fdca26"
             ],
             [
              1,
              "#f0f921"
             ]
            ],
            "type": "surface"
           }
          ],
          "table": [
           {
            "cells": {
             "fill": {
              "color": "#EBF0F8"
             },
             "line": {
              "color": "white"
             }
            },
            "header": {
             "fill": {
              "color": "#C8D4E3"
             },
             "line": {
              "color": "white"
             }
            },
            "type": "table"
           }
          ]
         },
         "layout": {
          "annotationdefaults": {
           "arrowcolor": "#2a3f5f",
           "arrowhead": 0,
           "arrowwidth": 1
          },
          "autotypenumbers": "strict",
          "coloraxis": {
           "colorbar": {
            "outlinewidth": 0,
            "ticks": ""
           }
          },
          "colorscale": {
           "diverging": [
            [
             0,
             "#8e0152"
            ],
            [
             0.1,
             "#c51b7d"
            ],
            [
             0.2,
             "#de77ae"
            ],
            [
             0.3,
             "#f1b6da"
            ],
            [
             0.4,
             "#fde0ef"
            ],
            [
             0.5,
             "#f7f7f7"
            ],
            [
             0.6,
             "#e6f5d0"
            ],
            [
             0.7,
             "#b8e186"
            ],
            [
             0.8,
             "#7fbc41"
            ],
            [
             0.9,
             "#4d9221"
            ],
            [
             1,
             "#276419"
            ]
           ],
           "sequential": [
            [
             0,
             "#0d0887"
            ],
            [
             0.1111111111111111,
             "#46039f"
            ],
            [
             0.2222222222222222,
             "#7201a8"
            ],
            [
             0.3333333333333333,
             "#9c179e"
            ],
            [
             0.4444444444444444,
             "#bd3786"
            ],
            [
             0.5555555555555556,
             "#d8576b"
            ],
            [
             0.6666666666666666,
             "#ed7953"
            ],
            [
             0.7777777777777778,
             "#fb9f3a"
            ],
            [
             0.8888888888888888,
             "#fdca26"
            ],
            [
             1,
             "#f0f921"
            ]
           ],
           "sequentialminus": [
            [
             0,
             "#0d0887"
            ],
            [
             0.1111111111111111,
             "#46039f"
            ],
            [
             0.2222222222222222,
             "#7201a8"
            ],
            [
             0.3333333333333333,
             "#9c179e"
            ],
            [
             0.4444444444444444,
             "#bd3786"
            ],
            [
             0.5555555555555556,
             "#d8576b"
            ],
            [
             0.6666666666666666,
             "#ed7953"
            ],
            [
             0.7777777777777778,
             "#fb9f3a"
            ],
            [
             0.8888888888888888,
             "#fdca26"
            ],
            [
             1,
             "#f0f921"
            ]
           ]
          },
          "colorway": [
           "#636efa",
           "#EF553B",
           "#00cc96",
           "#ab63fa",
           "#FFA15A",
           "#19d3f3",
           "#FF6692",
           "#B6E880",
           "#FF97FF",
           "#FECB52"
          ],
          "font": {
           "color": "#2a3f5f"
          },
          "geo": {
           "bgcolor": "white",
           "lakecolor": "white",
           "landcolor": "#E5ECF6",
           "showlakes": true,
           "showland": true,
           "subunitcolor": "white"
          },
          "hoverlabel": {
           "align": "left"
          },
          "hovermode": "closest",
          "mapbox": {
           "style": "light"
          },
          "paper_bgcolor": "white",
          "plot_bgcolor": "#E5ECF6",
          "polar": {
           "angularaxis": {
            "gridcolor": "white",
            "linecolor": "white",
            "ticks": ""
           },
           "bgcolor": "#E5ECF6",
           "radialaxis": {
            "gridcolor": "white",
            "linecolor": "white",
            "ticks": ""
           }
          },
          "scene": {
           "xaxis": {
            "backgroundcolor": "#E5ECF6",
            "gridcolor": "white",
            "gridwidth": 2,
            "linecolor": "white",
            "showbackground": true,
            "ticks": "",
            "zerolinecolor": "white"
           },
           "yaxis": {
            "backgroundcolor": "#E5ECF6",
            "gridcolor": "white",
            "gridwidth": 2,
            "linecolor": "white",
            "showbackground": true,
            "ticks": "",
            "zerolinecolor": "white"
           },
           "zaxis": {
            "backgroundcolor": "#E5ECF6",
            "gridcolor": "white",
            "gridwidth": 2,
            "linecolor": "white",
            "showbackground": true,
            "ticks": "",
            "zerolinecolor": "white"
           }
          },
          "shapedefaults": {
           "line": {
            "color": "#2a3f5f"
           }
          },
          "ternary": {
           "aaxis": {
            "gridcolor": "white",
            "linecolor": "white",
            "ticks": ""
           },
           "baxis": {
            "gridcolor": "white",
            "linecolor": "white",
            "ticks": ""
           },
           "bgcolor": "#E5ECF6",
           "caxis": {
            "gridcolor": "white",
            "linecolor": "white",
            "ticks": ""
           }
          },
          "title": {
           "x": 0.05
          },
          "xaxis": {
           "automargin": true,
           "gridcolor": "white",
           "linecolor": "white",
           "ticks": "",
           "title": {
            "standoff": 15
           },
           "zerolinecolor": "white",
           "zerolinewidth": 2
          },
          "yaxis": {
           "automargin": true,
           "gridcolor": "white",
           "linecolor": "white",
           "ticks": "",
           "title": {
            "standoff": 15
           },
           "zerolinecolor": "white",
           "zerolinewidth": 2
          }
         }
        },
        "title": {
         "text": "Prophet Forecast vs actual values"
        },
        "width": 900,
        "xaxis": {
         "rangeselector": {
          "buttons": [
           {
            "count": 7,
            "label": "1w",
            "step": "day",
            "stepmode": "backward"
           },
           {
            "count": 1,
            "label": "1m",
            "step": "month",
            "stepmode": "backward"
           },
           {
            "count": 6,
            "label": "6m",
            "step": "month",
            "stepmode": "backward"
           },
           {
            "count": 1,
            "label": "1y",
            "step": "year",
            "stepmode": "backward"
           },
           {
            "step": "all"
           }
          ]
         },
         "rangeslider": {
          "visible": true
         },
         "title": {
          "text": "Date"
         },
         "type": "date"
        },
        "yaxis": {
         "title": {
          "text": "Price"
         }
        }
       }
      }
     },
     "metadata": {},
     "output_type": "display_data"
    }
   ],
   "source": [
    "# Generate the Prophet plotly figure\n",
    "pro = plot_plotly(propMod, forecast)\n",
    "\n",
    "# Update the figure's layout to customize the legend\n",
    "pro.update_layout(\n",
    "    title=\"Prophet Forecast vs actual values\",\n",
    "    xaxis_title=\"Date\",\n",
    "    yaxis_title=\"Price\",\n",
    "    legend_title=\"Data Series\",  # Adding title to the legend\n",
    "    legend=dict(\n",
    "        x=0.02,\n",
    "        y=0.98,\n",
    "        traceorder=\"normal\",\n",
    "        bgcolor='rgba(255, 255, 255, 0.5)',\n",
    "        bordercolor=\"black\",\n",
    "        borderwidth=1,\n",
    "    )\n",
    ")\n",
    "\n",
    "# Show the customized plot\n",
    "pro.show()"
   ]
  },
  {
   "cell_type": "markdown",
   "metadata": {},
   "source": [
    "Step24. Build a df with actual and estimated values and a function to display the prices at a given date."
   ]
  },
  {
   "cell_type": "code",
   "execution_count": 30,
   "metadata": {},
   "outputs": [
    {
     "name": "stdout",
     "output_type": "stream",
     "text": [
      "        Dates  Prices  Predicted\n",
      "0  2020-10-31   10.10   9.956850\n",
      "1  2020-11-30   10.30  10.368719\n",
      "2  2020-12-31   11.00  11.015657\n",
      "3  2021-01-31   10.90  10.872881\n",
      "4  2021-02-28   10.90  11.016976\n",
      "5  2021-03-31   10.90  10.898794\n",
      "6  2021-04-30   10.40  10.303015\n",
      "7  2021-05-31    9.84   9.924964\n",
      "8  2021-06-30   10.00  10.028471\n",
      "9  2021-07-31   10.10  10.071447\n",
      "10 2021-08-31   10.30  10.255484\n",
      "11 2021-09-30   10.20  10.238704\n",
      "12 2021-10-31   10.10  10.403138\n",
      "13 2021-11-30   11.20  11.040577\n",
      "14 2021-12-31   11.40  11.359729\n",
      "15 2022-01-31   11.50  11.513079\n",
      "16 2022-02-28   11.80  11.489464\n",
      "17 2022-03-31   11.50  11.483531\n",
      "18 2022-04-30   10.70  10.854052\n",
      "19 2022-05-31   10.70  10.551448\n",
      "20 2022-06-30   10.40  10.404773\n",
      "21 2022-07-31   10.50  10.608626\n",
      "22 2022-08-31   10.40  10.538575\n",
      "23 2022-09-30   10.80  10.749958\n",
      "24 2022-10-31   11.00  10.852955\n",
      "25 2022-11-30   11.60  11.687367\n",
      "26 2022-12-31   11.60  11.620187\n",
      "27 2023-01-31   12.10  12.091430\n",
      "28 2023-02-28   11.70  11.896402\n",
      "29 2023-03-31   12.00  12.046989\n",
      "30 2023-04-30   11.50  11.424332\n",
      "31 2023-05-31   11.20  11.250940\n",
      "32 2023-06-30   10.90  10.874898\n",
      "33 2023-07-31   11.40  11.311474\n",
      "34 2023-08-31   11.10  11.008709\n",
      "35 2023-09-30   11.50  11.519772\n",
      "36 2023-10-31   11.80  11.589552\n",
      "37 2023-11-30   12.20  12.687388\n",
      "38 2023-12-31   12.80  12.205178\n",
      "39 2024-01-31   12.60  13.040124\n",
      "40 2024-02-29   12.40  13.060713\n",
      "41 2024-03-31   12.70  12.819793\n",
      "42 2024-04-30   12.10  12.132374\n",
      "43 2024-05-31   11.40  11.577251\n",
      "44 2024-06-30   11.50  11.987274\n",
      "45 2024-07-31   11.60  11.852791\n",
      "46 2024-08-31   11.50  12.361599\n",
      "47 2024-09-30   11.80  12.076719\n",
      "48 2024-10-31     NaN  12.342101\n",
      "49 2024-11-30     NaN  12.890895\n",
      "50 2024-12-31     NaN  13.733129\n",
      "51 2025-01-31     NaN  13.589070\n",
      "52 2025-02-28     NaN  13.797775\n",
      "53 2025-03-31     NaN  13.675178\n",
      "54 2025-04-30     NaN  12.945356\n",
      "55 2025-05-31     NaN  12.483609\n",
      "56 2025-06-30     NaN  12.626664\n",
      "57 2025-07-31     NaN  12.690516\n",
      "58 2025-08-31     NaN  12.928838\n",
      "59 2025-09-30     NaN  12.911337\n"
     ]
    }
   ],
   "source": [
    "# Original actual data in `natgasdf`\n",
    "actual_df = natgasdf[['Dates', 'Prices']].copy()\n",
    "\n",
    "# Forecast data from Prophet\n",
    "forecast_df = forecast[['ds', 'yhat']].copy()\n",
    "forecast_df.columns = ['Dates', 'Predicted']\n",
    "\n",
    "# Merge actual and forecast data on the 'Dates' column\n",
    "combined_df = pd.merge(actual_df, forecast_df, on='Dates', how='outer')\n",
    "\n",
    "# Reorder columns for clarity\n",
    "combined_df = combined_df[['Dates', 'Prices', 'Predicted']]\n",
    "\n",
    "# Display the combined DataFrame\n",
    "print(combined_df)"
   ]
  },
  {
   "cell_type": "code",
   "execution_count": 31,
   "metadata": {},
   "outputs": [],
   "source": [
    "combined_df.to_csv(\"Act&Pred_prices.csv\", index = False)"
   ]
  },
  {
   "cell_type": "markdown",
   "metadata": {},
   "source": [
    "Step25. Prophet Accuracy Measures"
   ]
  },
  {
   "cell_type": "code",
   "execution_count": 32,
   "metadata": {},
   "outputs": [
    {
     "name": "stdout",
     "output_type": "stream",
     "text": [
      "Fundamental metrics are:\n",
      "=============================================\n",
      "Mean Absolute Error (MAE): 0.15836895673013898\n",
      "Mean Squared Error (MSE): 0.060119933205839075\n",
      "Root Mean Squared Error (RMSE): 0.24519366469352155\n",
      "Mean Absolute Percentage Error (MAPE): 1.37273009577313%\n",
      "R-squared (R²): 0.8931090007616123\n",
      "Standard Error of Regression (SER): 0.2504672500452372\n"
     ]
    }
   ],
   "source": [
    "\n",
    "#remove rows with NaN\n",
    "filtered_df = combined_df.iloc[:48].dropna(subset=['Prices', 'Predicted'])\n",
    "#transform column into series\n",
    "actual_prices = filtered_df['Prices']\n",
    "predicted_prices = filtered_df['Predicted']\n",
    "\n",
    "#Calculate accuracy measures for the Prophet model\n",
    "accuracy_measures(actual_prices, predicted_prices)"
   ]
  },
  {
   "cell_type": "markdown",
   "metadata": {},
   "source": [
    "The MAE and MAPE values indicate relatively low errors, while the R² value shows that the model explains a significant portion of the variance in the data. The RMSE also reinforces the overall accuracy of your predictions. This suggests that the Prophet model is reliable for forecasting in the context of your dataset."
   ]
  },
  {
   "cell_type": "markdown",
   "metadata": {},
   "source": [
    "Step26. Build a function to display the values (actual vs estimated)"
   ]
  },
  {
   "cell_type": "code",
   "execution_count": 33,
   "metadata": {},
   "outputs": [],
   "source": [
    "#build a new editable database\n",
    "combined_df['month'] = combined_df['Dates'].dt.strftime('%m-%Y')\n",
    "#define the function\n",
    "def actual_and_estimates(month):\n",
    "    # Check if the entered month exists in the 'month' column\n",
    "    if month in combined_df['month'].values:\n",
    "        # Print the Prices and Predicted values for rows where the 'month' matches\n",
    "        results = combined_df.loc[combined_df['month'] == month, ['Prices', 'Predicted']]\n",
    "             \n",
    "        # Print the actual and estimated values for each row\n",
    "        for index, row in results.iterrows():\n",
    "            print(f\"Natural gas prices (actual and estimated) for {month} are:\")\n",
    "            print(f\"Actual value is {row['Prices']} and estimated value is {row['Predicted']}.\")\n",
    "\n",
    "    else:\n",
    "        print(\"No data found for the specified month.\")"
   ]
  },
  {
   "cell_type": "code",
   "execution_count": 34,
   "metadata": {},
   "outputs": [
    {
     "name": "stdout",
     "output_type": "stream",
     "text": [
      "Type a date in MM-YYYY format:\n",
      "The chosen date is: 10-2022\n",
      "---------------------------------\n",
      "Natural gas prices (actual and estimated) for 10-2022 are:\n",
      "Actual value is 11.0 and estimated value is 10.852954932322795.\n"
     ]
    }
   ],
   "source": [
    "print(\"Type a date in MM-YYYY format:\")\n",
    "monthinput = input()\n",
    "print(f\"The chosen date is: {monthinput}\")\n",
    "print(\"---------------------------------\")\n",
    "\n",
    "actual_and_estimates(monthinput)"
   ]
  }
 ],
 "metadata": {
  "kernelspec": {
   "display_name": "JPmorgvenv",
   "language": "python",
   "name": "python3"
  },
  "language_info": {
   "codemirror_mode": {
    "name": "ipython",
    "version": 3
   },
   "file_extension": ".py",
   "mimetype": "text/x-python",
   "name": "python",
   "nbconvert_exporter": "python",
   "pygments_lexer": "ipython3",
   "version": "3.12.0"
  }
 },
 "nbformat": 4,
 "nbformat_minor": 2
}
