{
 "cells": [
  {
   "cell_type": "code",
   "execution_count": 2,
   "metadata": {},
   "outputs": [],
   "source": [
    "#import needed packages\n",
    "import pandas as pd\n",
    "import numpy as np\n",
    "import matplotlib.pyplot as plt\n",
    "import seaborn as sns\n",
    "import sklearn\n",
    "# Import the relevant functions from `sklearn.ensemble`, `sklearn.model_selection`, and `sklearn.metrics`.\n",
    "from sklearn.model_selection import train_test_split, PredefinedSplit, GridSearchCV\n",
    "# Important tools for modeling and evaluation.\n",
    "from sklearn.cluster import KMeans\n",
    "from sklearn.metrics import silhouette_score\n",
    "from sklearn.preprocessing import StandardScaler\n",
    "from statsmodels.stats.outliers_influence import variance_inflation_factor\n",
    "#package to save models\n",
    "import pickle\n",
    "#log-likleihood\n",
    "import itertools"
   ]
  },
  {
   "cell_type": "markdown",
   "metadata": {},
   "source": [
    "Load the data. Since the df is the same employed on Task3, the already cleaned dataset is loaded. \n",
    "To see the cleaning phase, go to task3. "
   ]
  },
  {
   "cell_type": "code",
   "execution_count": 3,
   "metadata": {},
   "outputs": [
    {
     "data": {
      "text/html": [
       "<div>\n",
       "<style scoped>\n",
       "    .dataframe tbody tr th:only-of-type {\n",
       "        vertical-align: middle;\n",
       "    }\n",
       "\n",
       "    .dataframe tbody tr th {\n",
       "        vertical-align: top;\n",
       "    }\n",
       "\n",
       "    .dataframe thead th {\n",
       "        text-align: right;\n",
       "    }\n",
       "</style>\n",
       "<table border=\"1\" class=\"dataframe\">\n",
       "  <thead>\n",
       "    <tr style=\"text-align: right;\">\n",
       "      <th></th>\n",
       "      <th>credit_lines_outstanding</th>\n",
       "      <th>loan_amt_outstanding</th>\n",
       "      <th>total_debt_outstanding</th>\n",
       "      <th>income</th>\n",
       "      <th>years_employed</th>\n",
       "      <th>fico_score</th>\n",
       "      <th>default</th>\n",
       "    </tr>\n",
       "  </thead>\n",
       "  <tbody>\n",
       "    <tr>\n",
       "      <th>0</th>\n",
       "      <td>0</td>\n",
       "      <td>5221.545193</td>\n",
       "      <td>3915.471226</td>\n",
       "      <td>78039.38546</td>\n",
       "      <td>5</td>\n",
       "      <td>605</td>\n",
       "      <td>0</td>\n",
       "    </tr>\n",
       "    <tr>\n",
       "      <th>1</th>\n",
       "      <td>5</td>\n",
       "      <td>1958.928726</td>\n",
       "      <td>8228.752520</td>\n",
       "      <td>26648.43525</td>\n",
       "      <td>2</td>\n",
       "      <td>572</td>\n",
       "      <td>1</td>\n",
       "    </tr>\n",
       "    <tr>\n",
       "      <th>2</th>\n",
       "      <td>0</td>\n",
       "      <td>3363.009259</td>\n",
       "      <td>2027.830850</td>\n",
       "      <td>65866.71246</td>\n",
       "      <td>4</td>\n",
       "      <td>602</td>\n",
       "      <td>0</td>\n",
       "    </tr>\n",
       "    <tr>\n",
       "      <th>3</th>\n",
       "      <td>0</td>\n",
       "      <td>4766.648001</td>\n",
       "      <td>2501.730397</td>\n",
       "      <td>74356.88347</td>\n",
       "      <td>5</td>\n",
       "      <td>612</td>\n",
       "      <td>0</td>\n",
       "    </tr>\n",
       "    <tr>\n",
       "      <th>4</th>\n",
       "      <td>1</td>\n",
       "      <td>1345.827718</td>\n",
       "      <td>1768.826187</td>\n",
       "      <td>23448.32631</td>\n",
       "      <td>6</td>\n",
       "      <td>631</td>\n",
       "      <td>0</td>\n",
       "    </tr>\n",
       "  </tbody>\n",
       "</table>\n",
       "</div>"
      ],
      "text/plain": [
       "   credit_lines_outstanding  loan_amt_outstanding  total_debt_outstanding  \\\n",
       "0                         0           5221.545193             3915.471226   \n",
       "1                         5           1958.928726             8228.752520   \n",
       "2                         0           3363.009259             2027.830850   \n",
       "3                         0           4766.648001             2501.730397   \n",
       "4                         1           1345.827718             1768.826187   \n",
       "\n",
       "        income  years_employed  fico_score  default  \n",
       "0  78039.38546               5         605        0  \n",
       "1  26648.43525               2         572        1  \n",
       "2  65866.71246               4         602        0  \n",
       "3  74356.88347               5         612        0  \n",
       "4  23448.32631               6         631        0  "
      ]
     },
     "execution_count": 3,
     "metadata": {},
     "output_type": "execute_result"
    }
   ],
   "source": [
    "#load data\n",
    "loandf = pd.read_csv(\"loandf_cleaned.csv\")\n",
    "loandf.head(5)"
   ]
  },
  {
   "cell_type": "markdown",
   "metadata": {},
   "source": [
    "The 2 variables of interest are FICO and default. Thus, the df is subset to just these features."
   ]
  },
  {
   "cell_type": "code",
   "execution_count": 4,
   "metadata": {},
   "outputs": [
    {
     "data": {
      "text/html": [
       "<div>\n",
       "<style scoped>\n",
       "    .dataframe tbody tr th:only-of-type {\n",
       "        vertical-align: middle;\n",
       "    }\n",
       "\n",
       "    .dataframe tbody tr th {\n",
       "        vertical-align: top;\n",
       "    }\n",
       "\n",
       "    .dataframe thead th {\n",
       "        text-align: right;\n",
       "    }\n",
       "</style>\n",
       "<table border=\"1\" class=\"dataframe\">\n",
       "  <thead>\n",
       "    <tr style=\"text-align: right;\">\n",
       "      <th></th>\n",
       "      <th>fico_score</th>\n",
       "      <th>default</th>\n",
       "    </tr>\n",
       "  </thead>\n",
       "  <tbody>\n",
       "    <tr>\n",
       "      <th>0</th>\n",
       "      <td>605</td>\n",
       "      <td>0</td>\n",
       "    </tr>\n",
       "    <tr>\n",
       "      <th>1</th>\n",
       "      <td>572</td>\n",
       "      <td>1</td>\n",
       "    </tr>\n",
       "    <tr>\n",
       "      <th>2</th>\n",
       "      <td>602</td>\n",
       "      <td>0</td>\n",
       "    </tr>\n",
       "    <tr>\n",
       "      <th>3</th>\n",
       "      <td>612</td>\n",
       "      <td>0</td>\n",
       "    </tr>\n",
       "    <tr>\n",
       "      <th>4</th>\n",
       "      <td>631</td>\n",
       "      <td>0</td>\n",
       "    </tr>\n",
       "  </tbody>\n",
       "</table>\n",
       "</div>"
      ],
      "text/plain": [
       "   fico_score  default\n",
       "0         605        0\n",
       "1         572        1\n",
       "2         602        0\n",
       "3         612        0\n",
       "4         631        0"
      ]
     },
     "execution_count": 4,
     "metadata": {},
     "output_type": "execute_result"
    }
   ],
   "source": [
    "fico = loandf.drop(columns = [\"credit_lines_outstanding\" ,\n",
    "                              \"loan_amt_outstanding\",\n",
    "                              \"total_debt_outstanding\",\n",
    "                              \"income\",\n",
    "                              \"years_employed\"])\n",
    "fico.head(5)"
   ]
  },
  {
   "cell_type": "markdown",
   "metadata": {},
   "source": [
    "Check for data type, number of observations and unique values."
   ]
  },
  {
   "cell_type": "code",
   "execution_count": 5,
   "metadata": {},
   "outputs": [
    {
     "data": {
      "text/plain": [
       "fico_score    int64\n",
       "default       int64\n",
       "dtype: object"
      ]
     },
     "execution_count": 5,
     "metadata": {},
     "output_type": "execute_result"
    }
   ],
   "source": [
    "#data type\n",
    "fico.dtypes"
   ]
  },
  {
   "cell_type": "code",
   "execution_count": 6,
   "metadata": {},
   "outputs": [
    {
     "data": {
      "text/plain": [
       "fico_score    10000\n",
       "default       10000\n",
       "dtype: int64"
      ]
     },
     "execution_count": 6,
     "metadata": {},
     "output_type": "execute_result"
    }
   ],
   "source": [
    "#observations number\n",
    "fico.count()"
   ]
  },
  {
   "cell_type": "code",
   "execution_count": 7,
   "metadata": {},
   "outputs": [
    {
     "data": {
      "text/plain": [
       "fico_score    374\n",
       "default         2\n",
       "dtype: int64"
      ]
     },
     "execution_count": 7,
     "metadata": {},
     "output_type": "execute_result"
    }
   ],
   "source": [
    "fico.nunique()"
   ]
  },
  {
   "cell_type": "markdown",
   "metadata": {},
   "source": [
    "In the fico-score, there are 374 unique values. This means different peoples have the same FICO score.\n",
    "Showing unqiue values helps in understanding our data."
   ]
  },
  {
   "cell_type": "code",
   "execution_count": 8,
   "metadata": {},
   "outputs": [
    {
     "data": {
      "text/plain": [
       "array([408, 409, 418, 425, 438, 440, 441, 444, 447, 449, 450, 455, 456,\n",
       "       459, 460, 461, 462, 463, 464, 465, 466, 467, 468, 469, 470, 471,\n",
       "       472, 473, 474, 475, 476, 477, 479, 480, 481, 482, 483, 484, 485,\n",
       "       486, 487, 488, 489, 490, 491, 492, 493, 494, 495, 496, 497, 498,\n",
       "       499, 500, 501, 502, 503, 504, 505, 506, 507, 508, 509, 510, 511,\n",
       "       512, 513, 514, 515, 516, 517, 518, 519, 520, 521, 522, 523, 524,\n",
       "       525, 526, 527, 528, 529, 530, 531, 532, 533, 534, 535, 536, 537,\n",
       "       538, 539, 540, 541, 542, 543, 544, 545, 546, 547, 548, 549, 550,\n",
       "       551, 552, 553, 554, 555, 556, 557, 558, 559, 560, 561, 562, 563,\n",
       "       564, 565, 566, 567, 568, 569, 570, 571, 572, 573, 574, 575, 576,\n",
       "       577, 578, 579, 580, 581, 582, 583, 584, 585, 586, 587, 588, 589,\n",
       "       590, 591, 592, 593, 594, 595, 596, 597, 598, 599, 600, 601, 602,\n",
       "       603, 604, 605, 606, 607, 608, 609, 610, 611, 612, 613, 614, 615,\n",
       "       616, 617, 618, 619, 620, 621, 622, 623, 624, 625, 626, 627, 628,\n",
       "       629, 630, 631, 632, 633, 634, 635, 636, 637, 638, 639, 640, 641,\n",
       "       642, 643, 644, 645, 646, 647, 648, 649, 650, 651, 652, 653, 654,\n",
       "       655, 656, 657, 658, 659, 660, 661, 662, 663, 664, 665, 666, 667,\n",
       "       668, 669, 670, 671, 672, 673, 674, 675, 676, 677, 678, 679, 680,\n",
       "       681, 682, 683, 684, 685, 686, 687, 688, 689, 690, 691, 692, 693,\n",
       "       694, 695, 696, 697, 698, 699, 700, 701, 702, 703, 704, 705, 706,\n",
       "       707, 708, 709, 710, 711, 712, 713, 714, 715, 716, 717, 718, 719,\n",
       "       720, 721, 722, 723, 724, 725, 726, 727, 728, 729, 730, 731, 732,\n",
       "       733, 734, 735, 736, 737, 738, 739, 740, 741, 742, 743, 744, 745,\n",
       "       746, 747, 748, 749, 750, 751, 752, 753, 754, 755, 756, 757, 758,\n",
       "       759, 760, 761, 762, 763, 764, 765, 766, 767, 768, 769, 770, 771,\n",
       "       772, 773, 774, 775, 776, 777, 778, 779, 780, 781, 782, 783, 784,\n",
       "       785, 786, 787, 788, 789, 790, 791, 792, 793, 794, 796, 797, 798,\n",
       "       799, 800, 801, 802, 803, 804, 805, 806, 808, 809, 810, 812, 814,\n",
       "       816, 822, 823, 824, 825, 826, 828, 831, 835, 850])"
      ]
     },
     "execution_count": 8,
     "metadata": {},
     "output_type": "execute_result"
    }
   ],
   "source": [
    "#show fico unique values\n",
    "np.sort(fico['fico_score'].unique())"
   ]
  },
  {
   "cell_type": "markdown",
   "metadata": {},
   "source": [
    "This gives an idea of how fico-scores are distributed. The two major insights are:\n",
    "- There are no FICO < 400\n",
    "- There is at least 1 user that has a perfect FICO (=850)."
   ]
  },
  {
   "cell_type": "markdown",
   "metadata": {},
   "source": [
    "K-MEANS CLUSTERING"
   ]
  },
  {
   "cell_type": "markdown",
   "metadata": {},
   "source": [
    "Opting for a K-mean clustering techniques seems reasonal in order to assign fico scores to different clusters. \n",
    "\n",
    "To do that, various k-model with different k-values (from 2 to 10) are fitted. Then, by considering inertia and silhoutte, the ones who performs better is chosen."
   ]
  },
  {
   "cell_type": "code",
   "execution_count": 9,
   "metadata": {},
   "outputs": [],
   "source": [
    "#Function: Fit K-means and evaluate inertia for different values of k.\n",
    "def kmeans_inertia(num_clusters, x_vals):\n",
    "    '''\n",
    "    Fits a KMeans model for different values of k.\n",
    "    Calculates an inertia score for each k value.\n",
    "\n",
    "    Args:\n",
    "        num_clusters: (list of ints)  - The different k values to try\n",
    "        x_vals:       (array)         - The training data\n",
    "\n",
    "    Returns: \n",
    "        inertia:      (list)          - A list of inertia scores, one for each \\\n",
    "                                      value of k\n",
    "    '''\n",
    "\n",
    "    inertia = []\n",
    "    for num in num_clusters:\n",
    "        kms = KMeans(n_clusters=num, random_state=42)\n",
    "        kms.fit(x_vals)\n",
    "        inertia.append(kms.inertia_)\n",
    "    \n",
    "    return inertia"
   ]
  },
  {
   "cell_type": "code",
   "execution_count": 10,
   "metadata": {},
   "outputs": [
    {
     "data": {
      "text/plain": [
       "[13494420.954858566,\n",
       " 7055562.66973003,\n",
       " 4394047.918116782,\n",
       " 3006569.544252247,\n",
       " 2145877.327886358,\n",
       " 1630553.2546448326,\n",
       " 1259215.9119734354,\n",
       " 1036387.1003047191,\n",
       " 840800.1719741569]"
      ]
     },
     "execution_count": 10,
     "metadata": {},
     "output_type": "execute_result"
    }
   ],
   "source": [
    "#returna list of inertia from k = 2 to k = 10\n",
    "# Create a list from 2-10. \n",
    "num_clusters = [i for i in range(2, 11)]\n",
    "#run the function\n",
    "inertia = kmeans_inertia(num_clusters, fico)\n",
    "inertia"
   ]
  },
  {
   "cell_type": "code",
   "execution_count": 11,
   "metadata": {},
   "outputs": [
    {
     "data": {
      "text/plain": [
       "Text(0, 0.5, 'Inertia')"
      ]
     },
     "execution_count": 11,
     "metadata": {},
     "output_type": "execute_result"
    },
    {
     "data": {
      "image/png": "[encoded data removed]",
      "text/plain": [
       "<Figure size 640x480 with 1 Axes>"
      ]
     },
     "metadata": {},
     "output_type": "display_data"
    }
   ],
   "source": [
    "#show the elbow plot\n",
    "plot = sns.lineplot(x = num_clusters, y = inertia, marker = \"o\")\n",
    "plot.set_xlabel(\"Number of clusters\")\n",
    "plot.set_ylabel(\"Inertia\")"
   ]
  },
  {
   "cell_type": "markdown",
   "metadata": {},
   "source": [
    "It looks like the elbow is at k = 6. Let's check if this is the case by computing the silhoutte score."
   ]
  },
  {
   "cell_type": "code",
   "execution_count": 12,
   "metadata": {},
   "outputs": [],
   "source": [
    "# Write a function to return a list of each k-value's Silhoutte score.\n",
    "def kmeans_sil(num_clusters, x_vals):\n",
    "    '''\n",
    "    Fits a KMeans model for different values of k.\n",
    "    Calculates a silhouette score for each k value\n",
    "\n",
    "    Args:\n",
    "        num_clusters: (list of ints)  - The different k values to try\n",
    "        x_vals:       (array)         - The training data\n",
    "\n",
    "    Returns: \n",
    "        sil_score:    (list)          - A list of silhouette scores, one for each \\\n",
    "                                      value of k\n",
    "    '''\n",
    "  \n",
    "    sil_score = []\n",
    "    for num in num_clusters:\n",
    "        kms = KMeans(n_clusters=num, random_state=42)\n",
    "        kms.fit(x_vals)\n",
    "        sil_score.append(silhouette_score(x_vals, kms.labels_))\n",
    "    \n",
    "    return sil_score"
   ]
  },
  {
   "cell_type": "code",
   "execution_count": 13,
   "metadata": {},
   "outputs": [
    {
     "data": {
      "text/plain": [
       "[np.float64(0.5500835868264148),\n",
       " np.float64(0.5303606297330808),\n",
       " np.float64(0.5212093057108261),\n",
       " np.float64(0.5174207683521698),\n",
       " np.float64(0.5195631432209383),\n",
       " np.float64(0.5206414076496715),\n",
       " np.float64(0.5193118995420996),\n",
       " np.float64(0.5202441904811017),\n",
       " np.float64(0.5177146988127617)]"
      ]
     },
     "execution_count": 13,
     "metadata": {},
     "output_type": "execute_result"
    }
   ],
   "source": [
    "#compute silhouette score\n",
    "sil_score = kmeans_sil(num_clusters, fico)\n",
    "sil_score"
   ]
  },
  {
   "cell_type": "code",
   "execution_count": 14,
   "metadata": {},
   "outputs": [
    {
     "data": {
      "image/png": "[encoded data removed]",
      "text/plain": [
       "<Figure size 640x480 with 1 Axes>"
      ]
     },
     "metadata": {},
     "output_type": "display_data"
    }
   ],
   "source": [
    "# Create a line plot.\n",
    "plot = sns.lineplot(x=num_clusters, y=sil_score, marker='o')\n",
    "plot.set_xlabel(\"# of clusters\");\n",
    "plot.set_ylabel(\"Silhouette Score\");"
   ]
  },
  {
   "cell_type": "markdown",
   "metadata": {},
   "source": [
    "Considering both measures altogether, the optimal choice for k may be k = 3.\n",
    "It is time to build the model."
   ]
  },
  {
   "cell_type": "code",
   "execution_count": 15,
   "metadata": {},
   "outputs": [],
   "source": [
    "#instantiate a 6-k model\n",
    "kmeans3 = KMeans(n_clusters=3, random_state=42)\n",
    "#fit the model\n",
    "kmeans3.fit(fico)\n",
    "#define the clusters\n",
    "cluster = kmeans3.fit_predict(fico)"
   ]
  },
  {
   "cell_type": "code",
   "execution_count": 16,
   "metadata": {},
   "outputs": [
    {
     "name": "stdout",
     "output_type": "stream",
     "text": [
      "[1 0 1 1 1]\n",
      "Unique labels: [0 1 2]\n"
     ]
    }
   ],
   "source": [
    "#print unique labels of the fit model\n",
    "# Print slice of first 5 labels in kmeans6\n",
    "print(kmeans3.labels_[:5])\n",
    "# Print unique labels.\n",
    "print('Unique labels:' , np.unique(kmeans3.labels_))"
   ]
  },
  {
   "cell_type": "markdown",
   "metadata": {},
   "source": [
    "Plot the various clusters."
   ]
  },
  {
   "cell_type": "code",
   "execution_count": 17,
   "metadata": {},
   "outputs": [
    {
     "name": "stderr",
     "output_type": "stream",
     "text": [
      "/var/folders/kq/9y2hbp4d7kd51hn98cs1r2zm0000gn/T/ipykernel_3079/2654137145.py:9: UserWarning: No artists with labels found to put in legend.  Note that artists whose label start with an underscore are ignored when legend() is called with no argument.\n",
      "  plt.legend(title='Cluster')\n"
     ]
    },
    {
     "data": {
      "image/png": "[encoded data removed]",
      "text/plain": [
       "<Figure size 1000x600 with 1 Axes>"
      ]
     },
     "metadata": {},
     "output_type": "display_data"
    }
   ],
   "source": [
    "# Add the cluster labels to the DataFrame\n",
    "fico['cluster'] = cluster\n",
    "# Visualize the clusters with a histogram\n",
    "plt.figure(figsize=(10, 6))\n",
    "sns.histplot(data=fico, x='fico_score', hue='cluster', bins=30, kde=False, palette='Set2')\n",
    "plt.title('Distribution of FICO Scores Across Clusters', fontsize=16)\n",
    "plt.xlabel('FICO Score', fontsize=14)\n",
    "plt.ylabel('Count', fontsize=14)\n",
    "plt.legend(title='Cluster')\n",
    "plt.show()"
   ]
  },
  {
   "cell_type": "markdown",
   "metadata": {},
   "source": [
    "Finally, compute the default rate (proportion of defaults) in each cluster."
   ]
  },
  {
   "cell_type": "code",
   "execution_count": 18,
   "metadata": {},
   "outputs": [
    {
     "name": "stdout",
     "output_type": "stream",
     "text": [
      "         total_observations  defaults  default_rate\n",
      "cluster                                            \n",
      "0                      2682       972      0.362416\n",
      "1                      4659       714      0.153252\n",
      "2                      2659       165      0.062053\n"
     ]
    },
    {
     "data": {
      "image/png": "[encoded data removed]",
      "text/plain": [
       "<Figure size 800x500 with 1 Axes>"
      ]
     },
     "metadata": {},
     "output_type": "display_data"
    }
   ],
   "source": [
    "# Calculate the number of defaults and total observations in each cluster\n",
    "cluster_analysis = fico.groupby('cluster').agg(\n",
    "    total_observations=('default', 'count'),\n",
    "    defaults=('default', 'sum')\n",
    ")\n",
    "\n",
    "# Add a default rate column\n",
    "cluster_analysis['default_rate'] = cluster_analysis['defaults'] / cluster_analysis['total_observations']\n",
    "\n",
    "# Print the analysis\n",
    "print(cluster_analysis)\n",
    "\n",
    "# Visualize the default rates\n",
    "plt.figure(figsize=(8, 5))\n",
    "sns.barplot(\n",
    "    x=cluster_analysis.index,\n",
    "    y=cluster_analysis['default_rate'],\n",
    "    hue=cluster_analysis.index,  # Assign hue explicitly to match the x-axis\n",
    "    palette='Set2',\n",
    "    dodge=False  # Avoid splitting bars since we don't need grouped bars\n",
    ")\n",
    "plt.title('Default Rate by Cluster', fontsize=16)\n",
    "plt.xlabel('Cluster', fontsize=14)\n",
    "plt.ylabel('Default Rate', fontsize=14)\n",
    "plt.legend([], [], frameon=False)  # Remove legend since it's redundant\n",
    "plt.show()\n"
   ]
  },
  {
   "cell_type": "code",
   "execution_count": 19,
   "metadata": {},
   "outputs": [
    {
     "data": {
      "text/html": [
       "<div>\n",
       "<style scoped>\n",
       "    .dataframe tbody tr th:only-of-type {\n",
       "        vertical-align: middle;\n",
       "    }\n",
       "\n",
       "    .dataframe tbody tr th {\n",
       "        vertical-align: top;\n",
       "    }\n",
       "\n",
       "    .dataframe thead th {\n",
       "        text-align: right;\n",
       "    }\n",
       "</style>\n",
       "<table border=\"1\" class=\"dataframe\">\n",
       "  <thead>\n",
       "    <tr style=\"text-align: right;\">\n",
       "      <th></th>\n",
       "      <th>cluster</th>\n",
       "      <th>min</th>\n",
       "      <th>max</th>\n",
       "    </tr>\n",
       "  </thead>\n",
       "  <tbody>\n",
       "    <tr>\n",
       "      <th>0</th>\n",
       "      <td>0</td>\n",
       "      <td>408</td>\n",
       "      <td>600</td>\n",
       "    </tr>\n",
       "    <tr>\n",
       "      <th>1</th>\n",
       "      <td>1</td>\n",
       "      <td>601</td>\n",
       "      <td>675</td>\n",
       "    </tr>\n",
       "    <tr>\n",
       "      <th>2</th>\n",
       "      <td>2</td>\n",
       "      <td>676</td>\n",
       "      <td>850</td>\n",
       "    </tr>\n",
       "  </tbody>\n",
       "</table>\n",
       "</div>"
      ],
      "text/plain": [
       "   cluster  min  max\n",
       "0        0  408  600\n",
       "1        1  601  675\n",
       "2        2  676  850"
      ]
     },
     "execution_count": 19,
     "metadata": {},
     "output_type": "execute_result"
    }
   ],
   "source": [
    "#compute the range for each cluster\n",
    "fico_ranges = fico.groupby('cluster')['fico_score'].agg(['min', 'max']).reset_index()\n",
    "# Print the ranges\n",
    "fico_ranges"
   ]
  },
  {
   "cell_type": "code",
   "execution_count": 20,
   "metadata": {},
   "outputs": [
    {
     "data": {
      "text/html": [
       "<div>\n",
       "<style scoped>\n",
       "    .dataframe tbody tr th:only-of-type {\n",
       "        vertical-align: middle;\n",
       "    }\n",
       "\n",
       "    .dataframe tbody tr th {\n",
       "        vertical-align: top;\n",
       "    }\n",
       "\n",
       "    .dataframe thead th {\n",
       "        text-align: right;\n",
       "    }\n",
       "</style>\n",
       "<table border=\"1\" class=\"dataframe\">\n",
       "  <thead>\n",
       "    <tr style=\"text-align: right;\">\n",
       "      <th></th>\n",
       "      <th>cluster</th>\n",
       "      <th>min</th>\n",
       "      <th>max</th>\n",
       "      <th>total_observations</th>\n",
       "      <th>defaults</th>\n",
       "      <th>default_rate</th>\n",
       "    </tr>\n",
       "  </thead>\n",
       "  <tbody>\n",
       "    <tr>\n",
       "      <th>0</th>\n",
       "      <td>0</td>\n",
       "      <td>408</td>\n",
       "      <td>600</td>\n",
       "      <td>2682</td>\n",
       "      <td>972</td>\n",
       "      <td>0.362416</td>\n",
       "    </tr>\n",
       "    <tr>\n",
       "      <th>1</th>\n",
       "      <td>1</td>\n",
       "      <td>601</td>\n",
       "      <td>675</td>\n",
       "      <td>4659</td>\n",
       "      <td>714</td>\n",
       "      <td>0.153252</td>\n",
       "    </tr>\n",
       "    <tr>\n",
       "      <th>2</th>\n",
       "      <td>2</td>\n",
       "      <td>676</td>\n",
       "      <td>850</td>\n",
       "      <td>2659</td>\n",
       "      <td>165</td>\n",
       "      <td>0.062053</td>\n",
       "    </tr>\n",
       "  </tbody>\n",
       "</table>\n",
       "</div>"
      ],
      "text/plain": [
       "   cluster  min  max  total_observations  defaults  default_rate\n",
       "0        0  408  600                2682       972      0.362416\n",
       "1        1  601  675                4659       714      0.153252\n",
       "2        2  676  850                2659       165      0.062053"
      ]
     },
     "execution_count": 20,
     "metadata": {},
     "output_type": "execute_result"
    }
   ],
   "source": [
    "# Merge the two tables\n",
    "fico_defaultRate = cluster_analysis.merge(fico_ranges, left_index=True, right_on='cluster')\n",
    "# Reorder the columns\n",
    "fico_defaultRate = fico_defaultRate[['cluster', 'min', 'max', 'total_observations', 'defaults', 'default_rate']]\n",
    "# Display the reordered DataFrame\n",
    "fico_defaultRate\n"
   ]
  },
  {
   "cell_type": "markdown",
   "metadata": {},
   "source": [
    "The clustering analysis of FICO scores reveals three distinct risk categories for borrowers based on their credit scores:\n",
    "\n",
    "- High-Risk Borrowers (Cluster 0): Borrowers in this cluster represent the highest default risk, with over one-third of borrowers defaulting. This group has the lowest FICO scores.\n",
    "- Medium-Risk Borrowers (Cluster 1):Borrowers in this cluster have a moderate risk of default, with a significantly lower default rate compared to the high-risk group.\n",
    "- Low-Risk Borrowers (Cluster 2): This group represents the lowest default risk, with less than 7% of borrowers defaulting. They have the highest FICO scores, indicating strong creditworthiness."
   ]
  },
  {
   "cell_type": "markdown",
   "metadata": {},
   "source": [
    "LOG-LIKELIHOOD"
   ]
  },
  {
   "cell_type": "markdown",
   "metadata": {},
   "source": [
    "K-means distangled the number of possible boundaries. These can serve as  starting boundaries for the log-likelihood maximization. \n",
    "At this time, k-means clustering, log likelihood and dynamic are applied altogether.\n",
    "\n",
    "(Prior to apply them, functions for log-likelihood and dynamic programming are defined)"
   ]
  },
  {
   "cell_type": "code",
   "execution_count": 21,
   "metadata": {},
   "outputs": [],
   "source": [
    "#define a function to compute log_likelihood\n",
    "def compute_log_likelihood(df, boundaries):\n",
    "    \"\"\"\n",
    "    Compute the log-likelihood for a given set of boundaries.\n",
    "    \"\"\"\n",
    "    log_likelihood = 0\n",
    "    prev_boundary = 0  # Starting boundary\n",
    "    \n",
    "    for i in range(len(boundaries)):\n",
    "        # Select the records within the current bucket range\n",
    "        bucket_data = df[(df['fico_score'] > prev_boundary) & (df['fico_score'] <= boundaries[i])]\n",
    "        ni = len(bucket_data)  # Total records in the bucket\n",
    "        ki = bucket_data['default'].sum()  # Number of defaults\n",
    "        \n",
    "        if ni > 0:\n",
    "            pi = ki / ni  # Probability of default\n",
    "            log_likelihood += ni * (ki * np.log(pi) + (ni - ki) * np.log(1 - pi))\n",
    "        \n",
    "        prev_boundary = boundaries[i]  # Update the previous boundary\n",
    "    \n",
    "    return log_likelihood"
   ]
  },
  {
   "cell_type": "code",
   "execution_count": 22,
   "metadata": {},
   "outputs": [],
   "source": [
    "#define a function to employ dynamic programming\n",
    "def dynamic_programming_quantization(df, initial_boundaries, num_buckets):\n",
    "    \"\"\"\n",
    "    Use dynamic programming to find the optimal bucket boundaries.\n",
    "    \n",
    "    Arguments:\n",
    "    - df: DataFrame containing the FICO scores and default information.\n",
    "    - initial_boundaries: Initial set of boundaries (e.g., k-means centroids).\n",
    "    - num_buckets: The number of buckets to create.\n",
    "    \n",
    "    Returns:\n",
    "    - optimal_boundaries: The optimal boundaries based on the log-likelihood maximization.\n",
    "    \"\"\"\n",
    "    # DP table to store the best log-likelihood for each state\n",
    "    dp_table = np.full((len(initial_boundaries), num_buckets), -np.inf)\n",
    "    \n",
    "    # Base case: First column corresponds to 1 bucket, just use the initial boundary as is\n",
    "    for i in range(len(initial_boundaries)):\n",
    "        dp_table[i, 0] = compute_log_likelihood(df, [0] + [initial_boundaries[i]] + [850])\n",
    "\n",
    "    # Fill the DP table\n",
    "    for k in range(1, num_buckets):\n",
    "        for i in range(k, len(initial_boundaries)):\n",
    "            best_ll = -np.inf\n",
    "            best_boundary = None\n",
    "            for j in range(k-1, i):\n",
    "                current_boundaries = list(initial_boundaries[j:i+1]) + [850]\n",
    "                log_ll = compute_log_likelihood(df, [0] + current_boundaries)\n",
    "                if log_ll > best_ll:\n",
    "                    best_ll = log_ll\n",
    "                    best_boundary = current_boundaries\n",
    "            dp_table[i, k] = best_ll\n",
    "\n",
    "    # Reconstruct the optimal boundaries\n",
    "    optimal_boundaries = []\n",
    "    j = len(initial_boundaries) - 1\n",
    "    for k in range(num_buckets - 1, -1, -1):\n",
    "        optimal_boundaries.insert(0, initial_boundaries[j])\n",
    "        j -= 1\n",
    "    \n",
    "    return optimal_boundaries, dp_table[-1, num_buckets-1]"
   ]
  },
  {
   "cell_type": "markdown",
   "metadata": {},
   "source": [
    "The first step is to set the initial boundaries as the one coming from the k-mean model."
   ]
  },
  {
   "cell_type": "code",
   "execution_count": 23,
   "metadata": {},
   "outputs": [],
   "source": [
    "#set the k-mean clusters as initial boundaries\n",
    "initial_boundaries = np.sort(kmeans3.cluster_centers_.flatten())"
   ]
  },
  {
   "cell_type": "markdown",
   "metadata": {},
   "source": [
    "Then, it is necessary to select the number of buckets. At the moment, the choice is 3 (as pointed by the k-mean algorithm)"
   ]
  },
  {
   "cell_type": "code",
   "execution_count": 24,
   "metadata": {},
   "outputs": [],
   "source": [
    "#set the number of buckets\n",
    "num_buckets = 3"
   ]
  },
  {
   "cell_type": "markdown",
   "metadata": {},
   "source": [
    "Finally, it is possible to turn to log likelihood combined with dynamic programming."
   ]
  },
  {
   "cell_type": "code",
   "execution_count": null,
   "metadata": {},
   "outputs": [],
   "source": [
    "#compute optimal boundaries and employ dynamic programming\n",
    "optimal_boundaries, best_log_likelihood = dynamic_programming_quantization(fico, initial_boundaries, num_buckets)\n"
   ]
  },
  {
   "cell_type": "markdown",
   "metadata": {},
   "source": [
    "It is now time to visualize the results. First, the table with buckets is printed then it is plotted."
   ]
  },
  {
   "cell_type": "code",
   "execution_count": 25,
   "metadata": {},
   "outputs": [],
   "source": [
    "# function to analyze the results of optimal boundaries\n",
    "def analyze_buckets(df, boundaries):\n",
    "    \"\"\"\n",
    "    Analyze the buckets based on the optimal boundaries.\n",
    "    \n",
    "    Arguments:\n",
    "    - df: DataFrame containing FICO scores and default labels.\n",
    "    - boundaries: List of optimal boundaries.\n",
    "    \n",
    "    Returns:\n",
    "    - bucket_analysis: DataFrame summarizing the bucket statistics.\n",
    "    \"\"\"\n",
    "    # Add 0 as the minimum and 850 as the maximum boundary for analysis\n",
    "    boundaries = [0] + boundaries + [850]\n",
    "    bucket_data = []\n",
    "\n",
    "    # Calculate metrics for each bucket\n",
    "    for i in range(1, len(boundaries)):\n",
    "        min_score = boundaries[i-1]\n",
    "        max_score = boundaries[i]\n",
    "        bucket_df = df[(df['fico_score'] > min_score) & (df['fico_score'] <= max_score)]\n",
    "\n",
    "        total_observations = len(bucket_df)\n",
    "        defaults = bucket_df['default'].sum()\n",
    "        default_rate = defaults / total_observations if total_observations > 0 else 0\n",
    "\n",
    "        bucket_data.append({\n",
    "            'Bucket': i-1,\n",
    "            'Min Score': min_score,\n",
    "            'Max Score': max_score,\n",
    "            'Total Observations': total_observations,\n",
    "            'Defaults': defaults,\n",
    "            'Default Rate': default_rate\n",
    "        })\n",
    "\n",
    "    # Convert to DataFrame\n",
    "    bucket_analysis = pd.DataFrame(bucket_data)\n",
    "    return bucket_analysis"
   ]
  },
  {
   "cell_type": "code",
   "execution_count": 29,
   "metadata": {},
   "outputs": [
    {
     "name": "stdout",
     "output_type": "stream",
     "text": [
      "Bucket Analysis:\n"
     ]
    },
    {
     "data": {
      "text/html": [
       "<div>\n",
       "<style scoped>\n",
       "    .dataframe tbody tr th:only-of-type {\n",
       "        vertical-align: middle;\n",
       "    }\n",
       "\n",
       "    .dataframe tbody tr th {\n",
       "        vertical-align: top;\n",
       "    }\n",
       "\n",
       "    .dataframe thead th {\n",
       "        text-align: right;\n",
       "    }\n",
       "</style>\n",
       "<table border=\"1\" class=\"dataframe\">\n",
       "  <thead>\n",
       "    <tr style=\"text-align: right;\">\n",
       "      <th></th>\n",
       "      <th>Bucket</th>\n",
       "      <th>Min Score</th>\n",
       "      <th>Max Score</th>\n",
       "      <th>Total Observations</th>\n",
       "      <th>Defaults</th>\n",
       "      <th>Default Rate</th>\n",
       "    </tr>\n",
       "  </thead>\n",
       "  <tbody>\n",
       "    <tr>\n",
       "      <th>0</th>\n",
       "      <td>0</td>\n",
       "      <td>300.000</td>\n",
       "      <td>562.466</td>\n",
       "      <td>1080</td>\n",
       "      <td>516</td>\n",
       "      <td>0.478</td>\n",
       "    </tr>\n",
       "    <tr>\n",
       "      <th>1</th>\n",
       "      <td>1</td>\n",
       "      <td>562.466</td>\n",
       "      <td>638.482</td>\n",
       "      <td>3933</td>\n",
       "      <td>899</td>\n",
       "      <td>0.229</td>\n",
       "    </tr>\n",
       "    <tr>\n",
       "      <th>2</th>\n",
       "      <td>2</td>\n",
       "      <td>638.482</td>\n",
       "      <td>711.680</td>\n",
       "      <td>3880</td>\n",
       "      <td>391</td>\n",
       "      <td>0.101</td>\n",
       "    </tr>\n",
       "    <tr>\n",
       "      <th>3</th>\n",
       "      <td>3</td>\n",
       "      <td>711.680</td>\n",
       "      <td>850.000</td>\n",
       "      <td>1107</td>\n",
       "      <td>45</td>\n",
       "      <td>0.041</td>\n",
       "    </tr>\n",
       "  </tbody>\n",
       "</table>\n",
       "</div>"
      ],
      "text/plain": [
       "   Bucket  Min Score  Max Score  Total Observations  Defaults  Default Rate\n",
       "0       0    300.000    562.466                1080       516         0.478\n",
       "1       1    562.466    638.482                3933       899         0.229\n",
       "2       2    638.482    711.680                3880       391         0.101\n",
       "3       3    711.680    850.000                1107        45         0.041"
      ]
     },
     "execution_count": 29,
     "metadata": {},
     "output_type": "execute_result"
    }
   ],
   "source": [
    "#perform the bucket analysis\n",
    "bucket_analysis = analyze_buckets(fico, optimal_boundaries)\n",
    "#fix the lowest boundaries: it can not be 0, but 300 (the minimum values fico can take)\n",
    "bucket_analysis.loc[bucket_analysis['Bucket'] == 0, 'Min Score'] = 300\n",
    "# Round the specific columns to 3 decimals\n",
    "bucket_analysis['Min Score'] = bucket_analysis['Min Score'].round(3)\n",
    "bucket_analysis['Max Score'] = bucket_analysis['Max Score'].round(3)\n",
    "bucket_analysis['Default Rate'] = bucket_analysis['Default Rate'].round(3)\n",
    "#show buckets analysis\n",
    "print(\"Bucket Analysis:\")\n",
    "bucket_analysis"
   ]
  },
  {
   "cell_type": "code",
   "execution_count": 35,
   "metadata": {},
   "outputs": [
    {
     "data": {
      "image/png": "[encoded data removed]",
      "text/plain": [
       "<Figure size 1000x600 with 1 Axes>"
      ]
     },
     "metadata": {},
     "output_type": "display_data"
    },
    {
     "data": {
      "image/png": "[encoded data removed]",
      "text/plain": [
       "<Figure size 1000x600 with 2 Axes>"
      ]
     },
     "metadata": {},
     "output_type": "display_data"
    }
   ],
   "source": [
    "# Visualize the results\n",
    "# Default rate by bucket\n",
    "plt.figure(figsize=(10, 6))\n",
    "sns.barplot(data=bucket_analysis,\n",
    "            x='Bucket',\n",
    "            y='Default Rate',\n",
    "            hue='Bucket',\n",
    "            palette='viridis',\n",
    "            dodge=False,\n",
    "            legend=False)\n",
    "plt.title('Default Rate by Bucket', fontsize=16)\n",
    "plt.xlabel('Bucket', fontsize=14)\n",
    "plt.ylabel('Default Rate', fontsize=14)\n",
    "plt.show()\n",
    "\n",
    "# Observations and Defaults by Bucket\n",
    "fig, ax1 = plt.subplots(figsize=(10, 6))\n",
    "# Total observations\n",
    "sns.barplot(data=bucket_analysis, x='Bucket', y='Total Observations', color='blue', alpha=0.6, label='Total Observations', ax=ax1)\n",
    "ax1.set_ylabel('Total Observations', fontsize=14)\n",
    "ax1.set_xlabel('Bucket', fontsize=14)\n",
    "ax1.set_title('Total Observations and Defaults by Bucket', fontsize=16)\n",
    "# Defaults\n",
    "ax2 = ax1.twinx()\n",
    "sns.lineplot(data=bucket_analysis, x='Bucket', y='Defaults', color='red', label='Defaults', ax=ax2)\n",
    "ax2.set_ylabel('Defaults', fontsize=14)\n",
    "# Combine legends\n",
    "ax1.legend(loc='upper left', fontsize=12)\n",
    "ax2.legend(loc='upper right', fontsize=12)\n",
    "plt.show()"
   ]
  },
  {
   "cell_type": "markdown",
   "metadata": {},
   "source": [
    "Why buckets changed from 3 to 4? \n",
    "That's because the dynamic programming algorithm tries to find the optimal way to split the FICO score range into buckets while minimizing the log-likelihood cost. During this process, it may have decided that splitting data into 4 buckets (instead of strictly 3) results in better alignment with the default probabilities and densities in the data. Plus, dynamic programming can \"override\" the initial number of buckets to maximize the fit or minimize the error."
   ]
  },
  {
   "cell_type": "markdown",
   "metadata": {},
   "source": [
    "BUCKET OVERVIEW"
   ]
  },
  {
   "cell_type": "markdown",
   "metadata": {},
   "source": [
    "- Bucket 0 (300–562.466): This group represents borrowers with the lowest FICO scores. They exhibit the highest default rate of 47.8%. This bucket accounts for 1,080 observations, highlighting a high-risk category.\n",
    "- Bucket 1 (562.466–638.482): Borrowers in this range have a default rate of 22.9%, showing moderate risk.With 3,933 observations, this bucket captures the largest segment of borrowers.\n",
    "- Bucket 2 (638.482–711.680): This bucket represents borrowers with relatively strong credit scores and a default rate of just 10.1%. It includes 3,880 observations, indicating a substantial group of low-risk borrowers.\n",
    "- Bucket 3 (711.680–850): Borrowers in this range have the highest FICO scores and are the lowest-risk group, with a default rate of only 4.1%. This bucket has 1,107 observations, reflecting the safest borrowers."
   ]
  },
  {
   "cell_type": "markdown",
   "metadata": {},
   "source": [
    "KEY INSIGHTS"
   ]
  },
  {
   "cell_type": "markdown",
   "metadata": {},
   "source": [
    "Risk Stratification:\n",
    "The segmentation effectively identifies distinct risk levels based on FICO scores, with default rates steadily decreasing as scores increase.\n",
    "This insight can be used to design targeted credit strategies, such as offering lower interest rates or higher credit limits to borrowers in buckets 2 and 3."
   ]
  },
  {
   "cell_type": "markdown",
   "metadata": {},
   "source": [
    "High-Risk Borrowers (Bucket 0):\n",
    "Borrowers in this bucket show nearly a 1-in-2 chance of default. Proactive measures, such as stricter credit policies or additional risk mitigation strategies, should be implemented for this group."
   ]
  },
  {
   "cell_type": "markdown",
   "metadata": {},
   "source": [
    "Moderate-Risk Borrowers (Bucket 1):\n",
    "This bucket, while less risky than Bucket 0, still accounts for a significant portion of defaults due to its size. Careful monitoring and pricing adjustments are recommended."
   ]
  },
  {
   "cell_type": "markdown",
   "metadata": {},
   "source": [
    "Actionable Strategy:\n",
    "- Credit policies: Focus on allocating resources to lower-risk groups (Buckets 2 and 3) for profitability, while tightening risk management for higher-risk groups (Buckets 0 and 1).\n",
    "- Loan offerings: Use this segmentation to personalize loan offers and conditions based on default risk."
   ]
  }
 ],
 "metadata": {
  "kernelspec": {
   "display_name": "JPmorgvenv",
   "language": "python",
   "name": "python3"
  },
  "language_info": {
   "codemirror_mode": {
    "name": "ipython",
    "version": 3
   },
   "file_extension": ".py",
   "mimetype": "text/x-python",
   "name": "python",
   "nbconvert_exporter": "python",
   "pygments_lexer": "ipython3",
   "version": "3.12.0"
  }
 },
 "nbformat": 4,
 "nbformat_minor": 2
}
