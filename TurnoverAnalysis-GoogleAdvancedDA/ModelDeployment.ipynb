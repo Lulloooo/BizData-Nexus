{
 "cells": [
  {
   "cell_type": "markdown",
   "id": "82e7a3dc",
   "metadata": {},
   "source": [
    "# EMPLOYEE LIKELINESS TO LEAVE - FORECASTS"
   ]
  },
  {
   "cell_type": "markdown",
   "id": "1a219700",
   "metadata": {},
   "source": [
    "## EARLY-STAGES MODEL DEPLOYMENT "
   ]
  },
  {
   "cell_type": "markdown",
   "id": "4f0efe1a",
   "metadata": {},
   "source": [
    "This file is intended as an early-stage model's deployment. The model comes from the analysis about Salifort employee turnover.  \n",
    "\n",
    "What this file does is allowing the user to choose the champion model (among those implemented) and to input the employee's features. It then returns that specific employee's probability to leave and whether or not they are likely to leave.  \n",
    "  \n",
    "The champion model is the **stacking_ensamble.pickle**. As such, it is set as the standard model. However, to make the deployment robust to future development, it accepts other model as predictors too. The available models are:  \n",
    "  \n",
    "- random forest: rf_model.pickle\n",
    "- xgboosting: xgb_model.pickle\n",
    "- random xgboosting: xgb_random.pickle\n",
    "- stacking model: stacking_model.pickle (actual champion model)\n",
    "- Support Vector Machines (SVM): svm_model.pickle\n",
    "- Neural Network: nn_model.h5\n"
   ]
  },
  {
   "cell_type": "markdown",
   "id": "5b159149",
   "metadata": {},
   "source": [
    "### ---------------- SETTING UP THE ENVIRONMENT ----------------"
   ]
  },
  {
   "cell_type": "markdown",
   "id": "3c49f065",
   "metadata": {},
   "source": [
    "load and import the required packages."
   ]
  },
  {
   "cell_type": "code",
   "execution_count": 11,
   "id": "2481cfa8",
   "metadata": {},
   "outputs": [],
   "source": [
    "#import the needed packages \n",
    "#For data manipulation\n",
    "import numpy as np\n",
    "import pandas as pd\n",
    "import os\n",
    "\n",
    "# For data visualization\n",
    "import matplotlib.pyplot as plt\n",
    "import seaborn as sns\n",
    "import scipy.stats as stats\n",
    "\n",
    "#for data encoding\n",
    "from sklearn.preprocessing import OrdinalEncoder, OneHotEncoder\n",
    "\n",
    "# For data modeling\n",
    "from xgboost import XGBClassifier, XGBRegressor, plot_importance, plot_tree\n",
    "from sklearn.tree import DecisionTreeClassifier\n",
    "from sklearn.ensemble import RandomForestClassifier\n",
    "from sklearn.linear_model import LogisticRegression, Lasso, LassoCV\n",
    "from sklearn.naive_bayes import GaussianNB\n",
    "from sklearn.datasets import make_moons\n",
    "from sklearn.cluster import DBSCAN\n",
    "from sklearn.ensemble import StackingClassifier\n",
    "from sklearn.svm import SVC #SVM models\n",
    "\n",
    "#for Neural Network\n",
    "import tensorflow as tf\n",
    "from tensorflow import keras\n",
    "from tensorflow.keras import layers\n",
    "from tensorflow.keras.models import Sequential\n",
    "from tensorflow.keras.layers import Dense, Dropout, BatchNormalization, Input\n",
    "from tensorflow.keras.optimizers import Adam, RMSprop\n",
    "from tensorflow.keras.callbacks import EarlyStopping\n",
    "import keras_tuner as kt\n",
    "from tensorflow.keras.metrics import AUC, Precision, Recall\n",
    "from tensorflow.keras import Input\n",
    "from tensorflow.keras.models import load_model as keras_load_model\n",
    "\n",
    "#for PCA\n",
    "from sklearn.decomposition import PCA\n",
    "\n",
    "# For metrics\n",
    "from sklearn.model_selection import train_test_split, GridSearchCV, RandomizedSearchCV\n",
    "from sklearn.metrics import classification_report, accuracy_score, precision_score, \\\n",
    "                            recall_score, f1_score, confusion_matrix, ConfusionMatrixDisplay, \\\n",
    "                            roc_auc_score, roc_curve\n",
    "from sklearn.tree import plot_tree\n",
    "import shap\n",
    "from sklearn.inspection import permutation_importance\n",
    "from sklearn.metrics import precision_recall_curve #precision-recall tradeoff\n",
    "\n",
    "# for standardization\n",
    "from sklearn.preprocessing import StandardScaler\n",
    "\n",
    "# For saving models\n",
    "import pickle"
   ]
  },
  {
   "cell_type": "markdown",
   "id": "c0858c63",
   "metadata": {},
   "source": [
    "define the function to select the champion model (i.e the one used for predictions)."
   ]
  },
  {
   "cell_type": "code",
   "execution_count": 12,
   "id": "0ede2560",
   "metadata": {},
   "outputs": [],
   "source": [
    "#load the  model\n",
    "def load_model(modelname = \"stacking_model.pickle\"):\n",
    "    path = \"/Users/lucaalbertini/Desktop/MLCourse/ML/Salifort_CaseStudy/models/\"\n",
    "    full_path = os.path.join(path, modelname)\n",
    "\n",
    "    if modelname.endswith(('.h5', '.keras')):\n",
    "        model = keras_load_model(full_path)\n",
    "    elif modelname.endswith(('.pkl', '.pickle')):\n",
    "        with open(full_path, 'rb') as file:\n",
    "            model = pickle.load(file)\n",
    "    else:\n",
    "        raise ValueError(\"Unsupported model file format. Use .pkl, .pickle, .h5, or .keras\")\n",
    "\n",
    "    return model\n"
   ]
  },
  {
   "cell_type": "markdown",
   "id": "f35daac3",
   "metadata": {},
   "source": [
    "define a function to input employee's feature and return their probability and likeliness to leave the company."
   ]
  },
  {
   "cell_type": "code",
   "execution_count": 13,
   "id": "a39ea238",
   "metadata": {},
   "outputs": [],
   "source": [
    "#function to check employee quitting probability\n",
    "def employee_quitting_probability(model, threshold=0.5):\n",
    "    # Input the variables\n",
    "    satisfaction_level = float(input(\"Satisfaction level (0-1): \"))\n",
    "    last_evaluation = float(input(\"Last evaluation (0-1): \"))\n",
    "    number_project = int(input(\"Number of projects: \"))\n",
    "    average_monthly_hours = float(input(\"Average Monthly Working Hours: \"))\n",
    "    time_spend_company = int(input(\"Years spent at the company: \"))\n",
    "    Work_accident = bool(int(input(\"Did they have a work accident? (0 = no; 1 = yes): \")))\n",
    "    promotion_last_5years = bool(int(input(\"Were they promoted in the last 5 years? (0 = no; 1 = yes): \")))\n",
    "    department = input(\"Input employee department: \").lower()\n",
    "    salary = input(\"Input employee's salary (low, medium, high): \").lower()\n",
    "\n",
    "    # Map salary\n",
    "    salary_mapping = {\"low\": 0, \"medium\": 1, \"high\": 2}\n",
    "    salary_encoded = salary_mapping.get(salary, 1)  # default to medium if typo\n",
    "\n",
    "    # Encode department\n",
    "    grouped_dept_Tech = int(department in [\"technical\", \"support\", \"it\", \"product_mng\"])\n",
    "    grouped_dept_admin = int(department in [\"hr\", \"accounting\", \"management\"])\n",
    "\n",
    "    # Compute features\n",
    "    satisfaction_gap = last_evaluation - satisfaction_level\n",
    "    work_intensity = average_monthly_hours / number_project\n",
    "    overworking = int(average_monthly_hours > 174)\n",
    "\n",
    "    # Create DataFrame\n",
    "    new_employee = pd.DataFrame([{\n",
    "        \"time_spend_company\": time_spend_company,\n",
    "        \"work_accident\": Work_accident,\n",
    "        \"promotion_last_5years\": promotion_last_5years,\n",
    "        \"salary\": salary_encoded,\n",
    "        \"grouped_dept_Tech\": grouped_dept_Tech,\n",
    "        \"grouped_dept_admin\": grouped_dept_admin,\n",
    "        \"work_intensity\": work_intensity,\n",
    "        \"satisfaction_gap\": satisfaction_gap,\n",
    "        \"overworking\": overworking,\n",
    "    }])\n",
    "\n",
    "    # Predict probabilities\n",
    "    if hasattr(model, \"predict_proba\"):\n",
    "        prob = model.predict_proba(new_employee)[:, 1][0]\n",
    "    elif \"keras\" in str(type(model)).lower():\n",
    "        prob = model.predict(new_employee).flatten()[0]\n",
    "    else:\n",
    "        prob = model.predict(new_employee)[0]\n",
    "\n",
    "    # Determine outcome\n",
    "    if isinstance(prob, (int, float, np.floating)):\n",
    "        outcome = \"Leave\" if prob >= threshold else \"Stay\"\n",
    "    else:\n",
    "        outcome = \"Unknown\"\n",
    "\n",
    "    # Output results\n",
    "    print(\"\\nEmployee's features:\")\n",
    "    print(new_employee.to_string(index=False))\n",
    "    print(\"\\nProbability of resignation/being fired:\")\n",
    "    print(f\"{prob:.2%}\")\n",
    "    print(\"\\nThe employee is likely to:\")\n",
    "    print(outcome)"
   ]
  },
  {
   "cell_type": "markdown",
   "id": "5e2d1f34",
   "metadata": {},
   "source": [
    "### ---------------------------------------------------------------"
   ]
  },
  {
   "cell_type": "markdown",
   "id": "25f01f28",
   "metadata": {},
   "source": [
    "### -------------- PREDICT LIKELINESS TO LEAVE ----------------"
   ]
  },
  {
   "cell_type": "markdown",
   "id": "8beb21c6",
   "metadata": {},
   "source": [
    "Run the code chunk below and the system will ask to input the employee's features. Once done, it will return that specific employee's probability to leave along with whether or not they are likley to resign.  \n",
    "  \n",
    "Note. Change the model (default is stacking) by adding the model name (within \" \") in the load_model function."
   ]
  },
  {
   "cell_type": "code",
   "execution_count": 15,
   "id": "373e6d7d",
   "metadata": {},
   "outputs": [
    {
     "name": "stdout",
     "output_type": "stream",
     "text": [
      "\n",
      "Employee's features:\n",
      " time_spend_company  work_accident  promotion_last_5years  salary  grouped_dept_Tech  grouped_dept_admin  work_intensity  satisfaction_gap  overworking\n",
      "                  4           True                   True       1                  1                   0           100.0              -0.2            1\n",
      "\n",
      "Probability of resignation/being fired:\n",
      "1.64%\n",
      "\n",
      "The employee is likely to:\n",
      "Stay\n"
     ]
    }
   ],
   "source": [
    "#load the model\n",
    "model = load_model()\n",
    "#compute employee likeliness to quit\n",
    "employee_quitting_probability(model, threshold=0.3619)"
   ]
  }
 ],
 "metadata": {
  "kernelspec": {
   "display_name": "MLVenv",
   "language": "python",
   "name": "python3"
  },
  "language_info": {
   "codemirror_mode": {
    "name": "ipython",
    "version": 3
   },
   "file_extension": ".py",
   "mimetype": "text/x-python",
   "name": "python",
   "nbconvert_exporter": "python",
   "pygments_lexer": "ipython3",
   "version": "3.12.0"
  }
 },
 "nbformat": 4,
 "nbformat_minor": 5
}
